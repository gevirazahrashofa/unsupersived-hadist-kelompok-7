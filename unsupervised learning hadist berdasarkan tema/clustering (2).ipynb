{
  "cells": [
    {
      "cell_type": "markdown",
      "metadata": {
        "id": "GcHqhZRh1phZ"
      },
      "source": [
        "# 1. INSTALL REQUIRED LIBRARIES"
      ]
    },
    {
      "cell_type": "code",
      "execution_count": null,
      "metadata": {
        "colab": {
          "base_uri": "https://localhost:8080/"
        },
        "id": "XgBPPJecqUsr",
        "outputId": "4a9bd7f0-0797-4ecb-ea2a-7d614bd13d3d"
      },
      "outputs": [
        {
          "output_type": "stream",
          "name": "stdout",
          "text": [
            "Collecting bertopic\n",
            "  Downloading bertopic-0.17.0-py3-none-any.whl.metadata (23 kB)\n",
            "Requirement already satisfied: hdbscan>=0.8.29 in /usr/local/lib/python3.11/dist-packages (from bertopic) (0.8.40)\n",
            "Requirement already satisfied: numpy>=1.20.0 in /usr/local/lib/python3.11/dist-packages (from bertopic) (2.0.2)\n",
            "Requirement already satisfied: pandas>=1.1.5 in /usr/local/lib/python3.11/dist-packages (from bertopic) (2.2.2)\n",
            "Requirement already satisfied: plotly>=4.7.0 in /usr/local/lib/python3.11/dist-packages (from bertopic) (5.24.1)\n",
            "Requirement already satisfied: scikit-learn>=1.0 in /usr/local/lib/python3.11/dist-packages (from bertopic) (1.6.1)\n",
            "Requirement already satisfied: sentence-transformers>=0.4.1 in /usr/local/lib/python3.11/dist-packages (from bertopic) (4.1.0)\n",
            "Requirement already satisfied: tqdm>=4.41.1 in /usr/local/lib/python3.11/dist-packages (from bertopic) (4.67.1)\n",
            "Requirement already satisfied: umap-learn>=0.5.0 in /usr/local/lib/python3.11/dist-packages (from bertopic) (0.5.7)\n",
            "Requirement already satisfied: scipy>=1.0 in /usr/local/lib/python3.11/dist-packages (from hdbscan>=0.8.29->bertopic) (1.15.3)\n",
            "Requirement already satisfied: joblib>=1.0 in /usr/local/lib/python3.11/dist-packages (from hdbscan>=0.8.29->bertopic) (1.5.1)\n",
            "Requirement already satisfied: python-dateutil>=2.8.2 in /usr/local/lib/python3.11/dist-packages (from pandas>=1.1.5->bertopic) (2.9.0.post0)\n",
            "Requirement already satisfied: pytz>=2020.1 in /usr/local/lib/python3.11/dist-packages (from pandas>=1.1.5->bertopic) (2025.2)\n",
            "Requirement already satisfied: tzdata>=2022.7 in /usr/local/lib/python3.11/dist-packages (from pandas>=1.1.5->bertopic) (2025.2)\n",
            "Requirement already satisfied: tenacity>=6.2.0 in /usr/local/lib/python3.11/dist-packages (from plotly>=4.7.0->bertopic) (8.5.0)\n",
            "Requirement already satisfied: packaging in /usr/local/lib/python3.11/dist-packages (from plotly>=4.7.0->bertopic) (24.2)\n",
            "Requirement already satisfied: threadpoolctl>=3.1.0 in /usr/local/lib/python3.11/dist-packages (from scikit-learn>=1.0->bertopic) (3.6.0)\n",
            "Requirement already satisfied: transformers<5.0.0,>=4.41.0 in /usr/local/lib/python3.11/dist-packages (from sentence-transformers>=0.4.1->bertopic) (4.52.4)\n",
            "Requirement already satisfied: torch>=1.11.0 in /usr/local/lib/python3.11/dist-packages (from sentence-transformers>=0.4.1->bertopic) (2.6.0+cu124)\n",
            "Requirement already satisfied: huggingface-hub>=0.20.0 in /usr/local/lib/python3.11/dist-packages (from sentence-transformers>=0.4.1->bertopic) (0.33.0)\n",
            "Requirement already satisfied: Pillow in /usr/local/lib/python3.11/dist-packages (from sentence-transformers>=0.4.1->bertopic) (11.2.1)\n",
            "Requirement already satisfied: typing_extensions>=4.5.0 in /usr/local/lib/python3.11/dist-packages (from sentence-transformers>=0.4.1->bertopic) (4.14.0)\n",
            "Requirement already satisfied: numba>=0.51.2 in /usr/local/lib/python3.11/dist-packages (from umap-learn>=0.5.0->bertopic) (0.60.0)\n",
            "Requirement already satisfied: pynndescent>=0.5 in /usr/local/lib/python3.11/dist-packages (from umap-learn>=0.5.0->bertopic) (0.5.13)\n",
            "Requirement already satisfied: filelock in /usr/local/lib/python3.11/dist-packages (from huggingface-hub>=0.20.0->sentence-transformers>=0.4.1->bertopic) (3.18.0)\n",
            "Requirement already satisfied: fsspec>=2023.5.0 in /usr/local/lib/python3.11/dist-packages (from huggingface-hub>=0.20.0->sentence-transformers>=0.4.1->bertopic) (2025.3.2)\n",
            "Requirement already satisfied: pyyaml>=5.1 in /usr/local/lib/python3.11/dist-packages (from huggingface-hub>=0.20.0->sentence-transformers>=0.4.1->bertopic) (6.0.2)\n",
            "Requirement already satisfied: requests in /usr/local/lib/python3.11/dist-packages (from huggingface-hub>=0.20.0->sentence-transformers>=0.4.1->bertopic) (2.32.3)\n",
            "Requirement already satisfied: hf-xet<2.0.0,>=1.1.2 in /usr/local/lib/python3.11/dist-packages (from huggingface-hub>=0.20.0->sentence-transformers>=0.4.1->bertopic) (1.1.5)\n",
            "Requirement already satisfied: llvmlite<0.44,>=0.43.0dev0 in /usr/local/lib/python3.11/dist-packages (from numba>=0.51.2->umap-learn>=0.5.0->bertopic) (0.43.0)\n",
            "Requirement already satisfied: six>=1.5 in /usr/local/lib/python3.11/dist-packages (from python-dateutil>=2.8.2->pandas>=1.1.5->bertopic) (1.17.0)\n",
            "Requirement already satisfied: networkx in /usr/local/lib/python3.11/dist-packages (from torch>=1.11.0->sentence-transformers>=0.4.1->bertopic) (3.5)\n",
            "Requirement already satisfied: jinja2 in /usr/local/lib/python3.11/dist-packages (from torch>=1.11.0->sentence-transformers>=0.4.1->bertopic) (3.1.6)\n",
            "Collecting nvidia-cuda-nvrtc-cu12==12.4.127 (from torch>=1.11.0->sentence-transformers>=0.4.1->bertopic)\n",
            "  Downloading nvidia_cuda_nvrtc_cu12-12.4.127-py3-none-manylinux2014_x86_64.whl.metadata (1.5 kB)\n",
            "Collecting nvidia-cuda-runtime-cu12==12.4.127 (from torch>=1.11.0->sentence-transformers>=0.4.1->bertopic)\n",
            "  Downloading nvidia_cuda_runtime_cu12-12.4.127-py3-none-manylinux2014_x86_64.whl.metadata (1.5 kB)\n",
            "Collecting nvidia-cuda-cupti-cu12==12.4.127 (from torch>=1.11.0->sentence-transformers>=0.4.1->bertopic)\n",
            "  Downloading nvidia_cuda_cupti_cu12-12.4.127-py3-none-manylinux2014_x86_64.whl.metadata (1.6 kB)\n",
            "Collecting nvidia-cudnn-cu12==9.1.0.70 (from torch>=1.11.0->sentence-transformers>=0.4.1->bertopic)\n",
            "  Downloading nvidia_cudnn_cu12-9.1.0.70-py3-none-manylinux2014_x86_64.whl.metadata (1.6 kB)\n",
            "Collecting nvidia-cublas-cu12==12.4.5.8 (from torch>=1.11.0->sentence-transformers>=0.4.1->bertopic)\n",
            "  Downloading nvidia_cublas_cu12-12.4.5.8-py3-none-manylinux2014_x86_64.whl.metadata (1.5 kB)\n",
            "Collecting nvidia-cufft-cu12==11.2.1.3 (from torch>=1.11.0->sentence-transformers>=0.4.1->bertopic)\n",
            "  Downloading nvidia_cufft_cu12-11.2.1.3-py3-none-manylinux2014_x86_64.whl.metadata (1.5 kB)\n",
            "Collecting nvidia-curand-cu12==10.3.5.147 (from torch>=1.11.0->sentence-transformers>=0.4.1->bertopic)\n",
            "  Downloading nvidia_curand_cu12-10.3.5.147-py3-none-manylinux2014_x86_64.whl.metadata (1.5 kB)\n",
            "Collecting nvidia-cusolver-cu12==11.6.1.9 (from torch>=1.11.0->sentence-transformers>=0.4.1->bertopic)\n",
            "  Downloading nvidia_cusolver_cu12-11.6.1.9-py3-none-manylinux2014_x86_64.whl.metadata (1.6 kB)\n",
            "Collecting nvidia-cusparse-cu12==12.3.1.170 (from torch>=1.11.0->sentence-transformers>=0.4.1->bertopic)\n",
            "  Downloading nvidia_cusparse_cu12-12.3.1.170-py3-none-manylinux2014_x86_64.whl.metadata (1.6 kB)\n",
            "Requirement already satisfied: nvidia-cusparselt-cu12==0.6.2 in /usr/local/lib/python3.11/dist-packages (from torch>=1.11.0->sentence-transformers>=0.4.1->bertopic) (0.6.2)\n",
            "Requirement already satisfied: nvidia-nccl-cu12==2.21.5 in /usr/local/lib/python3.11/dist-packages (from torch>=1.11.0->sentence-transformers>=0.4.1->bertopic) (2.21.5)\n",
            "Requirement already satisfied: nvidia-nvtx-cu12==12.4.127 in /usr/local/lib/python3.11/dist-packages (from torch>=1.11.0->sentence-transformers>=0.4.1->bertopic) (12.4.127)\n",
            "Collecting nvidia-nvjitlink-cu12==12.4.127 (from torch>=1.11.0->sentence-transformers>=0.4.1->bertopic)\n",
            "  Downloading nvidia_nvjitlink_cu12-12.4.127-py3-none-manylinux2014_x86_64.whl.metadata (1.5 kB)\n",
            "Requirement already satisfied: triton==3.2.0 in /usr/local/lib/python3.11/dist-packages (from torch>=1.11.0->sentence-transformers>=0.4.1->bertopic) (3.2.0)\n",
            "Requirement already satisfied: sympy==1.13.1 in /usr/local/lib/python3.11/dist-packages (from torch>=1.11.0->sentence-transformers>=0.4.1->bertopic) (1.13.1)\n",
            "Requirement already satisfied: mpmath<1.4,>=1.1.0 in /usr/local/lib/python3.11/dist-packages (from sympy==1.13.1->torch>=1.11.0->sentence-transformers>=0.4.1->bertopic) (1.3.0)\n",
            "Requirement already satisfied: regex!=2019.12.17 in /usr/local/lib/python3.11/dist-packages (from transformers<5.0.0,>=4.41.0->sentence-transformers>=0.4.1->bertopic) (2024.11.6)\n",
            "Requirement already satisfied: tokenizers<0.22,>=0.21 in /usr/local/lib/python3.11/dist-packages (from transformers<5.0.0,>=4.41.0->sentence-transformers>=0.4.1->bertopic) (0.21.2)\n",
            "Requirement already satisfied: safetensors>=0.4.3 in /usr/local/lib/python3.11/dist-packages (from transformers<5.0.0,>=4.41.0->sentence-transformers>=0.4.1->bertopic) (0.5.3)\n",
            "Requirement already satisfied: MarkupSafe>=2.0 in /usr/local/lib/python3.11/dist-packages (from jinja2->torch>=1.11.0->sentence-transformers>=0.4.1->bertopic) (3.0.2)\n",
            "Requirement already satisfied: charset-normalizer<4,>=2 in /usr/local/lib/python3.11/dist-packages (from requests->huggingface-hub>=0.20.0->sentence-transformers>=0.4.1->bertopic) (3.4.2)\n",
            "Requirement already satisfied: idna<4,>=2.5 in /usr/local/lib/python3.11/dist-packages (from requests->huggingface-hub>=0.20.0->sentence-transformers>=0.4.1->bertopic) (3.10)\n",
            "Requirement already satisfied: urllib3<3,>=1.21.1 in /usr/local/lib/python3.11/dist-packages (from requests->huggingface-hub>=0.20.0->sentence-transformers>=0.4.1->bertopic) (2.4.0)\n",
            "Requirement already satisfied: certifi>=2017.4.17 in /usr/local/lib/python3.11/dist-packages (from requests->huggingface-hub>=0.20.0->sentence-transformers>=0.4.1->bertopic) (2025.6.15)\n",
            "Downloading bertopic-0.17.0-py3-none-any.whl (150 kB)\n",
            "\u001b[2K   \u001b[90m━━━━━━━━━━━━━━━━━━━━━━━━━━━━━━━━━━━━━━━━\u001b[0m \u001b[32m150.6/150.6 kB\u001b[0m \u001b[31m5.6 MB/s\u001b[0m eta \u001b[36m0:00:00\u001b[0m\n",
            "\u001b[?25hDownloading nvidia_cublas_cu12-12.4.5.8-py3-none-manylinux2014_x86_64.whl (363.4 MB)\n",
            "\u001b[2K   \u001b[90m━━━━━━━━━━━━━━━━━━━━━━━━━━━━━━━━━━━━━━━━\u001b[0m \u001b[32m363.4/363.4 MB\u001b[0m \u001b[31m4.3 MB/s\u001b[0m eta \u001b[36m0:00:00\u001b[0m\n",
            "\u001b[?25hDownloading nvidia_cuda_cupti_cu12-12.4.127-py3-none-manylinux2014_x86_64.whl (13.8 MB)\n",
            "\u001b[2K   \u001b[90m━━━━━━━━━━━━━━━━━━━━━━━━━━━━━━━━━━━━━━━━\u001b[0m \u001b[32m13.8/13.8 MB\u001b[0m \u001b[31m85.2 MB/s\u001b[0m eta \u001b[36m0:00:00\u001b[0m\n",
            "\u001b[?25hDownloading nvidia_cuda_nvrtc_cu12-12.4.127-py3-none-manylinux2014_x86_64.whl (24.6 MB)\n",
            "\u001b[2K   \u001b[90m━━━━━━━━━━━━━━━━━━━━━━━━━━━━━━━━━━━━━━━━\u001b[0m \u001b[32m24.6/24.6 MB\u001b[0m \u001b[31m78.0 MB/s\u001b[0m eta \u001b[36m0:00:00\u001b[0m\n",
            "\u001b[?25hDownloading nvidia_cuda_runtime_cu12-12.4.127-py3-none-manylinux2014_x86_64.whl (883 kB)\n",
            "\u001b[2K   \u001b[90m━━━━━━━━━━━━━━━━━━━━━━━━━━━━━━━━━━━━━━━━\u001b[0m \u001b[32m883.7/883.7 kB\u001b[0m \u001b[31m53.2 MB/s\u001b[0m eta \u001b[36m0:00:00\u001b[0m\n",
            "\u001b[?25hDownloading nvidia_cudnn_cu12-9.1.0.70-py3-none-manylinux2014_x86_64.whl (664.8 MB)\n",
            "\u001b[2K   \u001b[90m━━━━━━━━━━━━━━━━━━━━━━━━━━━━━━━━━━━━━━━━\u001b[0m \u001b[32m664.8/664.8 MB\u001b[0m \u001b[31m2.2 MB/s\u001b[0m eta \u001b[36m0:00:00\u001b[0m\n",
            "\u001b[?25hDownloading nvidia_cufft_cu12-11.2.1.3-py3-none-manylinux2014_x86_64.whl (211.5 MB)\n",
            "\u001b[2K   \u001b[90m━━━━━━━━━━━━━━━━━━━━━━━━━━━━━━━━━━━━━━━━\u001b[0m \u001b[32m211.5/211.5 MB\u001b[0m \u001b[31m5.6 MB/s\u001b[0m eta \u001b[36m0:00:00\u001b[0m\n",
            "\u001b[?25hDownloading nvidia_curand_cu12-10.3.5.147-py3-none-manylinux2014_x86_64.whl (56.3 MB)\n",
            "\u001b[2K   \u001b[90m━━━━━━━━━━━━━━━━━━━━━━━━━━━━━━━━━━━━━━━━\u001b[0m \u001b[32m56.3/56.3 MB\u001b[0m \u001b[31m11.7 MB/s\u001b[0m eta \u001b[36m0:00:00\u001b[0m\n",
            "\u001b[?25hDownloading nvidia_cusolver_cu12-11.6.1.9-py3-none-manylinux2014_x86_64.whl (127.9 MB)\n",
            "\u001b[2K   \u001b[90m━━━━━━━━━━━━━━━━━━━━━━━━━━━━━━━━━━━━━━━━\u001b[0m \u001b[32m127.9/127.9 MB\u001b[0m \u001b[31m7.2 MB/s\u001b[0m eta \u001b[36m0:00:00\u001b[0m\n",
            "\u001b[?25hDownloading nvidia_cusparse_cu12-12.3.1.170-py3-none-manylinux2014_x86_64.whl (207.5 MB)\n",
            "\u001b[2K   \u001b[90m━━━━━━━━━━━━━━━━━━━━━━━━━━━━━━━━━━━━━━━━\u001b[0m \u001b[32m207.5/207.5 MB\u001b[0m \u001b[31m5.9 MB/s\u001b[0m eta \u001b[36m0:00:00\u001b[0m\n",
            "\u001b[?25hDownloading nvidia_nvjitlink_cu12-12.4.127-py3-none-manylinux2014_x86_64.whl (21.1 MB)\n",
            "\u001b[2K   \u001b[90m━━━━━━━━━━━━━━━━━━━━━━━━━━━━━━━━━━━━━━━━\u001b[0m \u001b[32m21.1/21.1 MB\u001b[0m \u001b[31m92.4 MB/s\u001b[0m eta \u001b[36m0:00:00\u001b[0m\n",
            "\u001b[?25hInstalling collected packages: nvidia-nvjitlink-cu12, nvidia-curand-cu12, nvidia-cufft-cu12, nvidia-cuda-runtime-cu12, nvidia-cuda-nvrtc-cu12, nvidia-cuda-cupti-cu12, nvidia-cublas-cu12, nvidia-cusparse-cu12, nvidia-cudnn-cu12, nvidia-cusolver-cu12, bertopic\n",
            "  Attempting uninstall: nvidia-nvjitlink-cu12\n",
            "    Found existing installation: nvidia-nvjitlink-cu12 12.5.82\n",
            "    Uninstalling nvidia-nvjitlink-cu12-12.5.82:\n",
            "      Successfully uninstalled nvidia-nvjitlink-cu12-12.5.82\n",
            "  Attempting uninstall: nvidia-curand-cu12\n",
            "    Found existing installation: nvidia-curand-cu12 10.3.6.82\n",
            "    Uninstalling nvidia-curand-cu12-10.3.6.82:\n",
            "      Successfully uninstalled nvidia-curand-cu12-10.3.6.82\n",
            "  Attempting uninstall: nvidia-cufft-cu12\n",
            "    Found existing installation: nvidia-cufft-cu12 11.2.3.61\n",
            "    Uninstalling nvidia-cufft-cu12-11.2.3.61:\n",
            "      Successfully uninstalled nvidia-cufft-cu12-11.2.3.61\n",
            "  Attempting uninstall: nvidia-cuda-runtime-cu12\n",
            "    Found existing installation: nvidia-cuda-runtime-cu12 12.5.82\n",
            "    Uninstalling nvidia-cuda-runtime-cu12-12.5.82:\n",
            "      Successfully uninstalled nvidia-cuda-runtime-cu12-12.5.82\n",
            "  Attempting uninstall: nvidia-cuda-nvrtc-cu12\n",
            "    Found existing installation: nvidia-cuda-nvrtc-cu12 12.5.82\n",
            "    Uninstalling nvidia-cuda-nvrtc-cu12-12.5.82:\n",
            "      Successfully uninstalled nvidia-cuda-nvrtc-cu12-12.5.82\n",
            "  Attempting uninstall: nvidia-cuda-cupti-cu12\n",
            "    Found existing installation: nvidia-cuda-cupti-cu12 12.5.82\n",
            "    Uninstalling nvidia-cuda-cupti-cu12-12.5.82:\n",
            "      Successfully uninstalled nvidia-cuda-cupti-cu12-12.5.82\n",
            "  Attempting uninstall: nvidia-cublas-cu12\n",
            "    Found existing installation: nvidia-cublas-cu12 12.5.3.2\n",
            "    Uninstalling nvidia-cublas-cu12-12.5.3.2:\n",
            "      Successfully uninstalled nvidia-cublas-cu12-12.5.3.2\n",
            "  Attempting uninstall: nvidia-cusparse-cu12\n",
            "    Found existing installation: nvidia-cusparse-cu12 12.5.1.3\n",
            "    Uninstalling nvidia-cusparse-cu12-12.5.1.3:\n",
            "      Successfully uninstalled nvidia-cusparse-cu12-12.5.1.3\n",
            "  Attempting uninstall: nvidia-cudnn-cu12\n",
            "    Found existing installation: nvidia-cudnn-cu12 9.3.0.75\n",
            "    Uninstalling nvidia-cudnn-cu12-9.3.0.75:\n",
            "      Successfully uninstalled nvidia-cudnn-cu12-9.3.0.75\n",
            "  Attempting uninstall: nvidia-cusolver-cu12\n",
            "    Found existing installation: nvidia-cusolver-cu12 11.6.3.83\n",
            "    Uninstalling nvidia-cusolver-cu12-11.6.3.83:\n",
            "      Successfully uninstalled nvidia-cusolver-cu12-11.6.3.83\n",
            "Successfully installed bertopic-0.17.0 nvidia-cublas-cu12-12.4.5.8 nvidia-cuda-cupti-cu12-12.4.127 nvidia-cuda-nvrtc-cu12-12.4.127 nvidia-cuda-runtime-cu12-12.4.127 nvidia-cudnn-cu12-9.1.0.70 nvidia-cufft-cu12-11.2.1.3 nvidia-curand-cu12-10.3.5.147 nvidia-cusolver-cu12-11.6.1.9 nvidia-cusparse-cu12-12.3.1.170 nvidia-nvjitlink-cu12-12.4.127\n",
            "Requirement already satisfied: sentence-transformers in /usr/local/lib/python3.11/dist-packages (4.1.0)\n",
            "Requirement already satisfied: transformers<5.0.0,>=4.41.0 in /usr/local/lib/python3.11/dist-packages (from sentence-transformers) (4.52.4)\n",
            "Requirement already satisfied: tqdm in /usr/local/lib/python3.11/dist-packages (from sentence-transformers) (4.67.1)\n",
            "Requirement already satisfied: torch>=1.11.0 in /usr/local/lib/python3.11/dist-packages (from sentence-transformers) (2.6.0+cu124)\n",
            "Requirement already satisfied: scikit-learn in /usr/local/lib/python3.11/dist-packages (from sentence-transformers) (1.6.1)\n",
            "Requirement already satisfied: scipy in /usr/local/lib/python3.11/dist-packages (from sentence-transformers) (1.15.3)\n",
            "Requirement already satisfied: huggingface-hub>=0.20.0 in /usr/local/lib/python3.11/dist-packages (from sentence-transformers) (0.33.0)\n",
            "Requirement already satisfied: Pillow in /usr/local/lib/python3.11/dist-packages (from sentence-transformers) (11.2.1)\n",
            "Requirement already satisfied: typing_extensions>=4.5.0 in /usr/local/lib/python3.11/dist-packages (from sentence-transformers) (4.14.0)\n",
            "Requirement already satisfied: filelock in /usr/local/lib/python3.11/dist-packages (from huggingface-hub>=0.20.0->sentence-transformers) (3.18.0)\n",
            "Requirement already satisfied: fsspec>=2023.5.0 in /usr/local/lib/python3.11/dist-packages (from huggingface-hub>=0.20.0->sentence-transformers) (2025.3.2)\n",
            "Requirement already satisfied: packaging>=20.9 in /usr/local/lib/python3.11/dist-packages (from huggingface-hub>=0.20.0->sentence-transformers) (24.2)\n",
            "Requirement already satisfied: pyyaml>=5.1 in /usr/local/lib/python3.11/dist-packages (from huggingface-hub>=0.20.0->sentence-transformers) (6.0.2)\n",
            "Requirement already satisfied: requests in /usr/local/lib/python3.11/dist-packages (from huggingface-hub>=0.20.0->sentence-transformers) (2.32.3)\n",
            "Requirement already satisfied: hf-xet<2.0.0,>=1.1.2 in /usr/local/lib/python3.11/dist-packages (from huggingface-hub>=0.20.0->sentence-transformers) (1.1.5)\n",
            "Requirement already satisfied: networkx in /usr/local/lib/python3.11/dist-packages (from torch>=1.11.0->sentence-transformers) (3.5)\n",
            "Requirement already satisfied: jinja2 in /usr/local/lib/python3.11/dist-packages (from torch>=1.11.0->sentence-transformers) (3.1.6)\n",
            "Requirement already satisfied: nvidia-cuda-nvrtc-cu12==12.4.127 in /usr/local/lib/python3.11/dist-packages (from torch>=1.11.0->sentence-transformers) (12.4.127)\n",
            "Requirement already satisfied: nvidia-cuda-runtime-cu12==12.4.127 in /usr/local/lib/python3.11/dist-packages (from torch>=1.11.0->sentence-transformers) (12.4.127)\n",
            "Requirement already satisfied: nvidia-cuda-cupti-cu12==12.4.127 in /usr/local/lib/python3.11/dist-packages (from torch>=1.11.0->sentence-transformers) (12.4.127)\n",
            "Requirement already satisfied: nvidia-cudnn-cu12==9.1.0.70 in /usr/local/lib/python3.11/dist-packages (from torch>=1.11.0->sentence-transformers) (9.1.0.70)\n",
            "Requirement already satisfied: nvidia-cublas-cu12==12.4.5.8 in /usr/local/lib/python3.11/dist-packages (from torch>=1.11.0->sentence-transformers) (12.4.5.8)\n",
            "Requirement already satisfied: nvidia-cufft-cu12==11.2.1.3 in /usr/local/lib/python3.11/dist-packages (from torch>=1.11.0->sentence-transformers) (11.2.1.3)\n",
            "Requirement already satisfied: nvidia-curand-cu12==10.3.5.147 in /usr/local/lib/python3.11/dist-packages (from torch>=1.11.0->sentence-transformers) (10.3.5.147)\n",
            "Requirement already satisfied: nvidia-cusolver-cu12==11.6.1.9 in /usr/local/lib/python3.11/dist-packages (from torch>=1.11.0->sentence-transformers) (11.6.1.9)\n",
            "Requirement already satisfied: nvidia-cusparse-cu12==12.3.1.170 in /usr/local/lib/python3.11/dist-packages (from torch>=1.11.0->sentence-transformers) (12.3.1.170)\n",
            "Requirement already satisfied: nvidia-cusparselt-cu12==0.6.2 in /usr/local/lib/python3.11/dist-packages (from torch>=1.11.0->sentence-transformers) (0.6.2)\n",
            "Requirement already satisfied: nvidia-nccl-cu12==2.21.5 in /usr/local/lib/python3.11/dist-packages (from torch>=1.11.0->sentence-transformers) (2.21.5)\n",
            "Requirement already satisfied: nvidia-nvtx-cu12==12.4.127 in /usr/local/lib/python3.11/dist-packages (from torch>=1.11.0->sentence-transformers) (12.4.127)\n",
            "Requirement already satisfied: nvidia-nvjitlink-cu12==12.4.127 in /usr/local/lib/python3.11/dist-packages (from torch>=1.11.0->sentence-transformers) (12.4.127)\n",
            "Requirement already satisfied: triton==3.2.0 in /usr/local/lib/python3.11/dist-packages (from torch>=1.11.0->sentence-transformers) (3.2.0)\n",
            "Requirement already satisfied: sympy==1.13.1 in /usr/local/lib/python3.11/dist-packages (from torch>=1.11.0->sentence-transformers) (1.13.1)\n",
            "Requirement already satisfied: mpmath<1.4,>=1.1.0 in /usr/local/lib/python3.11/dist-packages (from sympy==1.13.1->torch>=1.11.0->sentence-transformers) (1.3.0)\n",
            "Requirement already satisfied: numpy>=1.17 in /usr/local/lib/python3.11/dist-packages (from transformers<5.0.0,>=4.41.0->sentence-transformers) (2.0.2)\n",
            "Requirement already satisfied: regex!=2019.12.17 in /usr/local/lib/python3.11/dist-packages (from transformers<5.0.0,>=4.41.0->sentence-transformers) (2024.11.6)\n",
            "Requirement already satisfied: tokenizers<0.22,>=0.21 in /usr/local/lib/python3.11/dist-packages (from transformers<5.0.0,>=4.41.0->sentence-transformers) (0.21.2)\n",
            "Requirement already satisfied: safetensors>=0.4.3 in /usr/local/lib/python3.11/dist-packages (from transformers<5.0.0,>=4.41.0->sentence-transformers) (0.5.3)\n",
            "Requirement already satisfied: joblib>=1.2.0 in /usr/local/lib/python3.11/dist-packages (from scikit-learn->sentence-transformers) (1.5.1)\n",
            "Requirement already satisfied: threadpoolctl>=3.1.0 in /usr/local/lib/python3.11/dist-packages (from scikit-learn->sentence-transformers) (3.6.0)\n",
            "Requirement already satisfied: MarkupSafe>=2.0 in /usr/local/lib/python3.11/dist-packages (from jinja2->torch>=1.11.0->sentence-transformers) (3.0.2)\n",
            "Requirement already satisfied: charset-normalizer<4,>=2 in /usr/local/lib/python3.11/dist-packages (from requests->huggingface-hub>=0.20.0->sentence-transformers) (3.4.2)\n",
            "Requirement already satisfied: idna<4,>=2.5 in /usr/local/lib/python3.11/dist-packages (from requests->huggingface-hub>=0.20.0->sentence-transformers) (3.10)\n",
            "Requirement already satisfied: urllib3<3,>=1.21.1 in /usr/local/lib/python3.11/dist-packages (from requests->huggingface-hub>=0.20.0->sentence-transformers) (2.4.0)\n",
            "Requirement already satisfied: certifi>=2017.4.17 in /usr/local/lib/python3.11/dist-packages (from requests->huggingface-hub>=0.20.0->sentence-transformers) (2025.6.15)\n",
            "Requirement already satisfied: umap-learn in /usr/local/lib/python3.11/dist-packages (0.5.7)\n",
            "Requirement already satisfied: numpy>=1.17 in /usr/local/lib/python3.11/dist-packages (from umap-learn) (2.0.2)\n",
            "Requirement already satisfied: scipy>=1.3.1 in /usr/local/lib/python3.11/dist-packages (from umap-learn) (1.15.3)\n",
            "Requirement already satisfied: scikit-learn>=0.22 in /usr/local/lib/python3.11/dist-packages (from umap-learn) (1.6.1)\n",
            "Requirement already satisfied: numba>=0.51.2 in /usr/local/lib/python3.11/dist-packages (from umap-learn) (0.60.0)\n",
            "Requirement already satisfied: pynndescent>=0.5 in /usr/local/lib/python3.11/dist-packages (from umap-learn) (0.5.13)\n",
            "Requirement already satisfied: tqdm in /usr/local/lib/python3.11/dist-packages (from umap-learn) (4.67.1)\n",
            "Requirement already satisfied: llvmlite<0.44,>=0.43.0dev0 in /usr/local/lib/python3.11/dist-packages (from numba>=0.51.2->umap-learn) (0.43.0)\n",
            "Requirement already satisfied: joblib>=0.11 in /usr/local/lib/python3.11/dist-packages (from pynndescent>=0.5->umap-learn) (1.5.1)\n",
            "Requirement already satisfied: threadpoolctl>=3.1.0 in /usr/local/lib/python3.11/dist-packages (from scikit-learn>=0.22->umap-learn) (3.6.0)\n",
            "Requirement already satisfied: hdbscan in /usr/local/lib/python3.11/dist-packages (0.8.40)\n",
            "Requirement already satisfied: numpy<3,>=1.20 in /usr/local/lib/python3.11/dist-packages (from hdbscan) (2.0.2)\n",
            "Requirement already satisfied: scipy>=1.0 in /usr/local/lib/python3.11/dist-packages (from hdbscan) (1.15.3)\n",
            "Requirement already satisfied: scikit-learn>=0.20 in /usr/local/lib/python3.11/dist-packages (from hdbscan) (1.6.1)\n",
            "Requirement already satisfied: joblib>=1.0 in /usr/local/lib/python3.11/dist-packages (from hdbscan) (1.5.1)\n",
            "Requirement already satisfied: threadpoolctl>=3.1.0 in /usr/local/lib/python3.11/dist-packages (from scikit-learn>=0.20->hdbscan) (3.6.0)\n",
            "Requirement already satisfied: plotly in /usr/local/lib/python3.11/dist-packages (5.24.1)\n",
            "Requirement already satisfied: tenacity>=6.2.0 in /usr/local/lib/python3.11/dist-packages (from plotly) (8.5.0)\n",
            "Requirement already satisfied: packaging in /usr/local/lib/python3.11/dist-packages (from plotly) (24.2)\n"
          ]
        }
      ],
      "source": [
        "!pip install bertopic\n",
        "!pip install sentence-transformers\n",
        "!pip install umap-learn\n",
        "!pip install hdbscan\n",
        "!pip install plotly"
      ]
    },
    {
      "cell_type": "markdown",
      "metadata": {
        "id": "Qz1ohJK2xO2P"
      },
      "source": [
        "#2. IMPORT LIBRARIES**\n"
      ]
    },
    {
      "cell_type": "code",
      "execution_count": null,
      "metadata": {
        "id": "-ZQZxA7rxPBU"
      },
      "outputs": [],
      "source": [
        "import pandas as pd\n",
        "import numpy as np\n",
        "import re\n",
        "import matplotlib.pyplot as plt\n",
        "import seaborn as sns\n",
        "from collections import Counter\n",
        "import warnings\n",
        "warnings.filterwarnings('ignore')"
      ]
    },
    {
      "cell_type": "code",
      "execution_count": null,
      "metadata": {
        "colab": {
          "base_uri": "https://localhost:8080/"
        },
        "id": "oa_xfpaZxVXe",
        "outputId": "af0c8a96-30bb-4cdd-924e-a8270083b842"
      },
      "outputs": [
        {
          "output_type": "stream",
          "name": "stderr",
          "text": [
            "[nltk_data] Downloading package punkt to /root/nltk_data...\n",
            "[nltk_data]   Unzipping tokenizers/punkt.zip.\n",
            "[nltk_data] Downloading package stopwords to /root/nltk_data...\n",
            "[nltk_data]   Unzipping corpora/stopwords.zip.\n"
          ]
        },
        {
          "output_type": "execute_result",
          "data": {
            "text/plain": [
              "True"
            ]
          },
          "metadata": {},
          "execution_count": 3
        }
      ],
      "source": [
        "# Libraries untuk text preprocessing\n",
        "import nltk\n",
        "from nltk.corpus import stopwords\n",
        "from nltk.tokenize import word_tokenize\n",
        "nltk.download('punkt')\n",
        "nltk.download('stopwords')"
      ]
    },
    {
      "cell_type": "code",
      "execution_count": null,
      "metadata": {
        "id": "Zn6QmmNXxaZZ"
      },
      "outputs": [],
      "source": [
        "# Libraries untuk BERTopic\n",
        "from bertopic import BERTopic\n",
        "from sentence_transformers import SentenceTransformer\n",
        "from umap import UMAP\n",
        "from hdbscan import HDBSCAN\n",
        "from sklearn.feature_extraction.text import CountVectorizer"
      ]
    },
    {
      "cell_type": "markdown",
      "metadata": {
        "id": "Tce7P7V8sqyW"
      },
      "source": [
        "# 3. LOAD DATA\n"
      ]
    },
    {
      "cell_type": "code",
      "execution_count": null,
      "metadata": {
        "colab": {
          "base_uri": "https://localhost:8080/"
        },
        "id": "oKOUchejssHc",
        "outputId": "b7997466-6e5d-4a89-bd68-608e8f9fc5a2"
      },
      "outputs": [
        {
          "output_type": "stream",
          "name": "stdout",
          "text": [
            "📊 Loading data...\n",
            "✅ Data loaded successfully!\n",
            "📋 Shape: (38101, 3)\n",
            "📑 Columns: ['Perawi', 'Arab', 'Terjemahan']\n"
          ]
        }
      ],
      "source": [
        "print(\"📊 Loading data...\")\n",
        "df = pd.read_csv('Sunnah.csv')\n",
        "print(f\"✅ Data loaded successfully!\")\n",
        "print(f\"📋 Shape: {df.shape}\")\n",
        "print(f\"📑 Columns: {df.columns.tolist()}\")"
      ]
    },
    {
      "cell_type": "markdown",
      "metadata": {
        "id": "tPc0-lIqyO5U"
      },
      "source": [
        "# 4. EXPLORATORY DATA ANALYSIS (EDA)\n"
      ]
    },
    {
      "cell_type": "code",
      "execution_count": null,
      "metadata": {
        "colab": {
          "base_uri": "https://localhost:8080/"
        },
        "id": "Ohmdsrq9yAdf",
        "outputId": "9fe8cdda-d25a-46f3-c866-25edcc73f48c"
      },
      "outputs": [
        {
          "output_type": "stream",
          "name": "stdout",
          "text": [
            "\n",
            "==================================================\n",
            "📈 EXPLORATORY DATA ANALYSIS\n",
            "==================================================\n",
            "📊 Dataset Info:\n",
            "   - Total hadits: 38,101\n",
            "   - Missing values per column:\n",
            "     Perawi: 1 (0.0%)\n",
            "     Arab: 1 (0.0%)\n",
            "     Terjemahan: 1 (0.0%)\n",
            "\n",
            "📖 Sample hadits:\n",
            "\n",
            "1. Perawi: Hadits Abu Daud Nomor 1\n",
            "   Terjemahan: Telah menceritakan kepada kami [Abdullah bin Maslamah bin Qa'nab al Qa'nabi] telah menceritakan kepa...\n",
            "\n",
            "2. Perawi: Hadits Abu Daud Nomor 2\n",
            "   Terjemahan: Telah menceritakan kepada kami [Musaddad bin Musarhad] telah menceritakan kepada kami [Isa bin Yunus...\n",
            "\n",
            "3. Perawi: Hadits Abu Daud Nomor 3\n",
            "   Terjemahan: Telah menceritakan kepada kami [Musa bin Isma'il] telah menceritakan kepada kami [Hammad] telah meng...\n"
          ]
        }
      ],
      "source": [
        "print(\"\\n\" + \"=\"*50)\n",
        "print(\"📈 EXPLORATORY DATA ANALYSIS\")\n",
        "print(\"=\"*50)\n",
        "\n",
        "# Basic info\n",
        "print(f\"📊 Dataset Info:\")\n",
        "print(f\"   - Total hadits: {len(df):,}\")\n",
        "print(f\"   - Missing values per column:\")\n",
        "for col in df.columns:\n",
        "    missing = df[col].isnull().sum()\n",
        "    print(f\"     {col}: {missing:,} ({missing/len(df)*100:.1f}%)\")\n",
        "\n",
        "# Sample data\n",
        "print(f\"\\n📖 Sample hadits:\")\n",
        "for i in range(3):\n",
        "    print(f\"\\n{i+1}. Perawi: {df.iloc[i]['Perawi']}\")\n",
        "    print(f\"   Terjemahan: {df.iloc[i]['Terjemahan'][:100]}...\")"
      ]
    },
    {
      "cell_type": "markdown",
      "metadata": {
        "id": "1DyR_TAMyjlB"
      },
      "source": [
        "**DATA CLEANING FUNCTION**\n"
      ]
    },
    {
      "cell_type": "code",
      "execution_count": null,
      "metadata": {
        "id": "L48Hn_rkyiVz"
      },
      "outputs": [],
      "source": [
        "def clean_indonesian_text(text):\n",
        "    \"\"\"\n",
        "    Fungsi untuk membersihkan teks hadits bahasa Indonesia\n",
        "    \"\"\"\n",
        "    if pd.isna(text):\n",
        "        return \"\"\n",
        "\n",
        "    # Convert to string and lowercase\n",
        "    text = str(text).lower()\n",
        "\n",
        "    # Remove brackets and their contents (seperti [nama perawi])\n",
        "    text = re.sub(r'\\[.*?\\]', '', text)\n",
        "\n",
        "    # Remove extra whitespaces\n",
        "    text = re.sub(r'\\s+', ' ', text)\n",
        "\n",
        "    # Remove leading/trailing whitespace\n",
        "    text = text.strip()\n",
        "\n",
        "    return text\n",
        "\n",
        "def remove_indonesian_stopwords(text):\n",
        "    \"\"\"\n",
        "    Fungsi untuk menghapus stopwords bahasa Indonesia\n",
        "    \"\"\"\n",
        "    # Stopwords bahasa Indonesia yang umum dalam hadits\n",
        "    indonesian_stopwords = [\n",
        "        'telah', 'menceritakan', 'kepada', 'kami', 'dari', 'bin', 'ibn', 'abu',\n",
        "        'yang', 'dan', 'adalah', 'dengan', 'untuk', 'dalam', 'pada', 'itu',\n",
        "        'ini', 'dia', 'mereka', 'kita', 'saya', 'aku', 'engkau', 'kamu',\n",
        "        'beliau', 'ia', 'nya', 'juga', 'akan', 'telah', 'sudah', 'sedang',\n",
        "        'bahwa', 'jika', 'apabila', 'ketika', 'saat', 'waktu', 'kemudian',\n",
        "        'lalu', 'maka', 'sehingga', 'hingga', 'sampai', 'atau', 'tetapi',\n",
        "        'namun', 'karena', 'sebab', 'oleh', 'bagi', 'tentang', 'mengenai',\n",
        "        'terhadap', 'atas', 'bawah', 'depan', 'belakang', 'kiri', 'kanan'\n",
        "    ]\n",
        "\n",
        "    words = text.split()\n",
        "    filtered_words = [word for word in words if word not in indonesian_stopwords]\n",
        "    return ' '.join(filtered_words)"
      ]
    },
    {
      "cell_type": "markdown",
      "metadata": {
        "id": "tbl7991qyufm"
      },
      "source": [
        "**APPLY CLEANING**\n"
      ]
    },
    {
      "cell_type": "code",
      "execution_count": null,
      "metadata": {
        "colab": {
          "base_uri": "https://localhost:8080/"
        },
        "id": "LjnASizXywZ9",
        "outputId": "36fe4c98-6040-454c-9c7f-aae3a1cc5b4a"
      },
      "outputs": [
        {
          "output_type": "stream",
          "name": "stdout",
          "text": [
            "\n",
            "==================================================\n",
            "🧹 DATA CLEANING\n",
            "==================================================\n",
            "📝 Cleaning text...\n",
            "✅ Cleaning completed!\n",
            "📊 After cleaning: 38,100 hadits\n",
            "\n",
            "📖 Sample cleaned text:\n",
            "\n",
            "1. Original: Telah menceritakan kepada kami [Abdullah bin Maslamah bin Qa'nab al Qa'nabi] telah menceritakan kepa...\n",
            "   Cleaned:  bahwasanya nabi shallallahu 'alaihi wasallam hendak pergi buang hajat, menjauh....\n",
            "\n",
            "2. Original: Telah menceritakan kepada kami [Musaddad bin Musarhad] telah menceritakan kepada kami [Isa bin Yunus...\n",
            "   Cleaned:  mengabarkan bahwasanya nabi shallallahu 'alaihi wasallam hendak buang hajat, pergi tidak ada seorang...\n",
            "\n",
            "3. Original: Telah menceritakan kepada kami [Musa bin Isma'il] telah menceritakan kepada kami [Hammad] telah meng...\n",
            "   Cleaned:  mengabarkan berkata; berkata; tatkala abdullah abbas datang ke bashrah, hadits , abdullah menulis su...\n"
          ]
        }
      ],
      "source": [
        "print(\"\\n\" + \"=\"*50)\n",
        "print(\"🧹 DATA CLEANING\")\n",
        "print(\"=\"*50)\n",
        "\n",
        "print(\"📝 Cleaning text...\")\n",
        "# Clean terjemahan column\n",
        "df['cleaned_text'] = df['Terjemahan'].apply(clean_indonesian_text)\n",
        "df['cleaned_text'] = df['cleaned_text'].apply(remove_indonesian_stopwords)\n",
        "\n",
        "# Remove empty texts\n",
        "df = df[df['cleaned_text'].str.len() > 10].reset_index(drop=True)\n",
        "\n",
        "print(f\"✅ Cleaning completed!\")\n",
        "print(f\"📊 After cleaning: {len(df):,} hadits\")\n",
        "\n",
        "# Show cleaning results\n",
        "print(f\"\\n📖 Sample cleaned text:\")\n",
        "for i in range(3):\n",
        "    print(f\"\\n{i+1}. Original: {df.iloc[i]['Terjemahan'][:100]}...\")\n",
        "    print(f\"   Cleaned:  {df.iloc[i]['cleaned_text'][:100]}...\")\n"
      ]
    },
    {
      "cell_type": "markdown",
      "metadata": {
        "id": "27v0ZoC8zHz6"
      },
      "source": [
        "TEXT LENGTH ANALYSIS\n"
      ]
    },
    {
      "cell_type": "code",
      "execution_count": null,
      "metadata": {
        "colab": {
          "base_uri": "https://localhost:8080/",
          "height": 559
        },
        "id": "QFqloSaozEUJ",
        "outputId": "d389b213-1dc0-4ee4-cc6c-27c7613c0018"
      },
      "outputs": [
        {
          "output_type": "stream",
          "name": "stdout",
          "text": [
            "\n",
            "==================================================\n",
            "📏 TEXT LENGTH ANALYSIS\n",
            "==================================================\n",
            "📊 Text Statistics:\n",
            "   - Average text length: 445 characters\n",
            "   - Average word count: 55 words\n",
            "   - Min word count: 2\n",
            "   - Max word count: 1665\n"
          ]
        },
        {
          "output_type": "display_data",
          "data": {
            "text/plain": [
              "<Figure size 1200x400 with 2 Axes>"
            ],
            "image/png": "[encoded data removed]"
          },
          "metadata": {}
        }
      ],
      "source": [
        "print(\"\\n\" + \"=\"*50)\n",
        "print(\"📏 TEXT LENGTH ANALYSIS\")\n",
        "print(\"=\"*50)\n",
        "\n",
        "df['text_length'] = df['cleaned_text'].str.len()\n",
        "df['word_count'] = df['cleaned_text'].str.split().str.len()\n",
        "\n",
        "print(f\"📊 Text Statistics:\")\n",
        "print(f\"   - Average text length: {df['text_length'].mean():.0f} characters\")\n",
        "print(f\"   - Average word count: {df['word_count'].mean():.0f} words\")\n",
        "print(f\"   - Min word count: {df['word_count'].min()}\")\n",
        "print(f\"   - Max word count: {df['word_count'].max()}\")\n",
        "\n",
        "# Plot text length distribution\n",
        "plt.figure(figsize=(12, 4))\n",
        "\n",
        "plt.subplot(1, 2, 1)\n",
        "plt.hist(df['text_length'], bins=50, alpha=0.7, color='skyblue')\n",
        "plt.title('Distribution of Text Length (Characters)')\n",
        "plt.xlabel('Number of Characters')\n",
        "plt.ylabel('Frequency')\n",
        "\n",
        "plt.subplot(1, 2, 2)\n",
        "plt.hist(df['word_count'], bins=50, alpha=0.7, color='lightcoral')\n",
        "plt.title('Distribution of Word Count')\n",
        "plt.xlabel('Number of Words')\n",
        "plt.ylabel('Frequency')\n",
        "\n",
        "plt.tight_layout()\n",
        "plt.show()"
      ]
    },
    {
      "cell_type": "markdown",
      "metadata": {
        "id": "0w6uWQRzztq7"
      },
      "source": [
        "**SAMPLE DATA FOR CLUSTERING**\n"
      ]
    },
    {
      "cell_type": "code",
      "execution_count": null,
      "metadata": {
        "colab": {
          "base_uri": "https://localhost:8080/"
        },
        "id": "z3bWN7dyzsdH",
        "outputId": "139241ee-5d9e-4a94-d99c-dfc956ae643c"
      },
      "outputs": [
        {
          "output_type": "stream",
          "name": "stdout",
          "text": [
            "\n",
            "==================================================\n",
            "🎯 PREPARE DATA FOR CLUSTERING\n",
            "==================================================\n",
            "📊 Using all 38,100 hadits\n",
            "✅ Documents prepared for clustering!\n",
            "📋 Total documents: 38,100\n",
            "📄 First document: bahwasanya nabi shallallahu 'alaihi wasallam hendak pergi buang hajat, menjauh....\n"
          ]
        }
      ],
      "source": [
        "print(\"\\n\" + \"=\"*50)\n",
        "print(\"🎯 PREPARE DATA FOR CLUSTERING\")\n",
        "print(\"=\"*50)\n",
        "\n",
        "# Atau gunakan semua data\n",
        "df_sample = df.copy()\n",
        "print(f\"📊 Using all {len(df_sample):,} hadits\")\n",
        "\n",
        "# Prepare documents for clustering\n",
        "documents = df_sample['cleaned_text'].tolist()\n",
        "\n",
        "print(f\"✅ Documents prepared for clustering!\")\n",
        "print(f\"📋 Total documents: {len(documents):,}\")\n",
        "print(f\"📄 First document: {documents[0][:150]}...\")"
      ]
    },
    {
      "cell_type": "markdown",
      "metadata": {
        "id": "PQKVdMBp0HOE"
      },
      "source": [
        "**SAVE PREPROCESSED DATA**\n"
      ]
    },
    {
      "cell_type": "code",
      "execution_count": null,
      "metadata": {
        "colab": {
          "base_uri": "https://localhost:8080/"
        },
        "id": "HbkgIvsp0F4l",
        "outputId": "39eab9ce-42c0-4273-d003-c0a36238862a"
      },
      "outputs": [
        {
          "output_type": "stream",
          "name": "stdout",
          "text": [
            "\n",
            "==================================================\n",
            "💾 SAVING PREPROCESSED DATA\n",
            "==================================================\n",
            "✅ Preprocessed data saved as 'hadits_preprocessed.csv'\n",
            "\n",
            "==================================================\n",
            "🎉 DATA PREPARATION COMPLETED!\n",
            "==================================================\n",
            "📊 Summary:\n",
            "   - Original hadits: 38,100\n",
            "   - After cleaning: 38,100\n",
            "   - Ready for clustering: ✅\n",
            "   - Next step: BERTopic model training\n"
          ]
        }
      ],
      "source": [
        "print(\"\\n\" + \"=\"*50)\n",
        "print(\"💾 SAVING PREPROCESSED DATA\")\n",
        "print(\"=\"*50)\n",
        "\n",
        "df_sample.to_csv('hadits_preprocessed.csv', index=False)\n",
        "print(f\"✅ Preprocessed data saved as 'hadits_preprocessed.csv'\")\n",
        "\n",
        "print(\"\\n\" + \"=\"*50)\n",
        "print(\"🎉 DATA PREPARATION COMPLETED!\")\n",
        "print(\"=\"*50)\n",
        "print(f\"📊 Summary:\")\n",
        "print(f\"   - Original hadits: {df.shape[0]:,}\")\n",
        "print(f\"   - After cleaning: {len(df_sample):,}\")\n",
        "print(f\"   - Ready for clustering: ✅\")\n",
        "print(f\"   - Next step: BERTopic model training\")"
      ]
    },
    {
      "cell_type": "markdown",
      "metadata": {
        "id": "OONJkWUw32yQ"
      },
      "source": [
        "# 4. BERTOPIC MODEL TRAINING - CLUSTERING HADITS"
      ]
    },
    {
      "cell_type": "markdown",
      "metadata": {
        "id": "iulBU4K74OMy"
      },
      "source": [
        "1. SETUP SENTENCE TRANSFORMER\n"
      ]
    },
    {
      "cell_type": "code",
      "execution_count": null,
      "metadata": {
        "colab": {
          "base_uri": "https://localhost:8080/",
          "height": 371,
          "referenced_widgets": [
            "06a99318533541cd8918f995ccc32f22",
            "acb709bb15d3442eaa6e3d28c298ead1",
            "43ecbb3c0a994258b0635e934b0084be",
            "a915f06c5eea4331bd8bffcf8f21355b",
            "bf598124352345289056a3ffc0261c4b",
            "75725a85bfca4c7b8b02db332710883e",
            "7df1086dabae4d69aab02f68c39aedc8",
            "b83e3628c03d47a08a337165c245fb9c",
            "92e8286833ae4daebe9e8229164fcf5b",
            "2f71b635e92e454393529f7fe8ea2229",
            "a98e5f2f0d304215b790e81967ce7a83",
            "f28e0abab7a3453c8fa1097a3a4afc97",
            "9adaec9b84934cbab938f57b2b96d005",
            "0d2f1c6aa698452bb3211fe0ff2bcd76",
            "71fc26934d3341b3a5574f1fd10c0552",
            "f41587237b37456894723bc4cb88b445",
            "aadbfa8c011445ad8e32a3ff776fcc0e",
            "492880f162fd4c16979836ab70650656",
            "e1851d6830b24caca3b2b4acaea7214e",
            "905fcb5098fc43aeb9773241a1765200",
            "87de2683cf2d46fba867a531238096d3",
            "a7f9dcecf8d24df782e33c08c681c936",
            "12c5021b7320467abbf2f5928549feb0",
            "67acb0c7a9b44b5eb7b1d22954b83ee8",
            "084e9c988f204dbd966fe1d6085aca67",
            "a020e823d33848dd9348af9ee221f8f0",
            "92d1f371eedd49baa7bb977f184b4cb9",
            "a351996d91894ca2958ec0bd540af2fd",
            "34192c2a0c634e3690b215d21c145ab2",
            "23de58dd98ea4fcab08f41a16b75e373",
            "68d2239da184428f80bbf1c8da9d8c3b",
            "73c6627440ce4413b51e463120481d62",
            "66f8eaf9939949d8a7c3d5cbaa6dac66",
            "a305dc4e1c314826aad7d860a3ef74e2",
            "1ce17d657a144425a51f0081f8e9a44a",
            "2eabbed88cfb47bfbaeb10cc442abe35",
            "1b21b123f62a41898f81d3172125bd97",
            "538e91de0f214952ad6d5fa40460910b",
            "787ef8e0c77a4b60aad59238a87e5aaf",
            "5677eb4b7630497d814e530d01336fab",
            "388bffdd95064f42b48ac780f2c78e7e",
            "2f1fef72892f4acea38c9a0f70340248",
            "a87e15dc38584d338d9932a42a077924",
            "405f4eeafea04a7f8d1de0792329c1ea",
            "70a6e9ed4a234ad7b00c1c6f87e5a0b8",
            "456fad3d0b334ac4879fc10ab2979175",
            "5f54412c193141d7be044d432ae1356a",
            "430d6a1e241b4751b2d28283ff01266a",
            "a886d19eb58c47a6880f3d8a4e0028f8",
            "0a75daa35faa4d3cb680fcce3c87262b",
            "d5b0f253f9064fb8aa5ffe1eb83a6fdc",
            "54c16e9d310046199489567cdf1c2e11",
            "7e7f004b62574506acb4158ea93f73c2",
            "172cf0c8ba2245d0974e0bfa3d9b70b4",
            "ac5eb1056dc34f17aca19fee3309d3c1",
            "ee74530362d84c2689deea2135bdd58d",
            "09734c00e6a64ae8bcea24baf8e462a8",
            "88599d78a5f1446ebaf0e7f1007b5e92",
            "81d7ba8cf9bd403e8a49b0f0a9c2ce34",
            "b2f170f2e8cb4a85ad47817616ae690b",
            "81a4ecb30a3f401899d552453bfcc690",
            "56c9cca725b443f0bcd5f37d3a5a7a82",
            "f77d36a3bf5b43c08a94b46561d5824f",
            "6e80721c737441fe9ff188f958de5431",
            "5b6e0d25b8fa4acbb38c32426fda4597",
            "65d6a3d3fa21498cbeda55e2f3ec8c8f",
            "2617829a37fe47eaba6a30142ab1ac98",
            "e4dcc5563f0f42a188180cef3bb44219",
            "dc61f1c183624321a96c0221cc2be0c0",
            "c71b082c2d9a463983e36823ce301f2b",
            "ce1477ffe546433da1c494dde71ff77a",
            "ee9d8b9af0094f00ab4cfb1f9659591b",
            "e7798eda539c4ebab99a63aba7cd89c9",
            "0dfa796ef60e407eacf5e177e4c6be8e",
            "ca5dfb502d4647288f6edfae60ebc2a0",
            "2d37b0cd523748879fd377b7e9ccd977",
            "bc35538717954212b649870cb009d665",
            "3946243bbc1142a898bdf7c1c5217771",
            "677f0a476e744e338108491923f67f46",
            "bb5e05c4ce694d38ab2cd5fb28e7d4e0",
            "2c70cf813d334cd6aa3a8285f05d9f88",
            "4cadd3015e1044b1acef90f887792e22",
            "63235b2e91be49bd859b310d05055aad",
            "30df721a84d741959bf1a8e54aa0985b",
            "72636fa3204e43dc8c49629ebd585566",
            "c66f10a816b94fa3b28d448077f20c5e",
            "365a910732814e63b03da48c71847441",
            "5b7206f00cda4063985f3a943cbf15d0",
            "e986bf7d5ecd4473967dce6c09e8495a",
            "58ba26b27e5f4251aca40c965d1d4827",
            "35ead1d9f70440d583be8475d90383b9",
            "8227ddea03534ef4ba6de31ea29deb01",
            "70b7d91a9a1e4db2a65e81e4d78b2459",
            "ca952b3253be4e8584e7b58e7a5c94d0",
            "59abacd6e70e4a22b320770f6f356153",
            "8eb3726842eb4a94ae27c6cd81dcf17d",
            "9d3cb462e5c2453eae96812f34f816ae",
            "35551c649416481c9bff47b372c7e1f4",
            "9eabc1238f5d4a82a1c2340f2f42f569",
            "160f5068ecf64d18aa5795f967010213",
            "aa93b85809524aa0a31051ac95ab4a00",
            "3b3cee36c57746cdae34708ee6bb26fb",
            "d13c21596fea454e824297d9fb6b4f33",
            "87b354d713084c15aff139aa853d6087",
            "0377d3ac5f20421486a855576454a63c",
            "faa33ed37175418da7d983d250744e7f",
            "c88f2b6095ca47d08d7832e0a4336efb",
            "b33d5812532f4c8c9d46d93d37db98cf",
            "ad150a8e25de4d4592dd4f05c9f3cb3e",
            "caf0c24afbe64ad98d51d1b7303be12c"
          ]
        },
        "id": "UIMBo76Q4Ey3",
        "outputId": "01e0d314-36ac-47ba-840f-18794e23afef"
      },
      "outputs": [
        {
          "output_type": "stream",
          "name": "stdout",
          "text": [
            "🔧 Setting up Sentence Transformer...\n"
          ]
        },
        {
          "output_type": "display_data",
          "data": {
            "text/plain": [
              "modules.json:   0%|          | 0.00/229 [00:00<?, ?B/s]"
            ],
            "application/vnd.jupyter.widget-view+json": {
              "version_major": 2,
              "version_minor": 0,
              "model_id": "06a99318533541cd8918f995ccc32f22"
            }
          },
          "metadata": {}
        },
        {
          "output_type": "display_data",
          "data": {
            "text/plain": [
              "config_sentence_transformers.json:   0%|          | 0.00/122 [00:00<?, ?B/s]"
            ],
            "application/vnd.jupyter.widget-view+json": {
              "version_major": 2,
              "version_minor": 0,
              "model_id": "f28e0abab7a3453c8fa1097a3a4afc97"
            }
          },
          "metadata": {}
        },
        {
          "output_type": "display_data",
          "data": {
            "text/plain": [
              "README.md: 0.00B [00:00, ?B/s]"
            ],
            "application/vnd.jupyter.widget-view+json": {
              "version_major": 2,
              "version_minor": 0,
              "model_id": "12c5021b7320467abbf2f5928549feb0"
            }
          },
          "metadata": {}
        },
        {
          "output_type": "display_data",
          "data": {
            "text/plain": [
              "sentence_bert_config.json:   0%|          | 0.00/53.0 [00:00<?, ?B/s]"
            ],
            "application/vnd.jupyter.widget-view+json": {
              "version_major": 2,
              "version_minor": 0,
              "model_id": "a305dc4e1c314826aad7d860a3ef74e2"
            }
          },
          "metadata": {}
        },
        {
          "output_type": "display_data",
          "data": {
            "text/plain": [
              "config.json:   0%|          | 0.00/645 [00:00<?, ?B/s]"
            ],
            "application/vnd.jupyter.widget-view+json": {
              "version_major": 2,
              "version_minor": 0,
              "model_id": "70a6e9ed4a234ad7b00c1c6f87e5a0b8"
            }
          },
          "metadata": {}
        },
        {
          "output_type": "display_data",
          "data": {
            "text/plain": [
              "model.safetensors:   0%|          | 0.00/471M [00:00<?, ?B/s]"
            ],
            "application/vnd.jupyter.widget-view+json": {
              "version_major": 2,
              "version_minor": 0,
              "model_id": "ee74530362d84c2689deea2135bdd58d"
            }
          },
          "metadata": {}
        },
        {
          "output_type": "display_data",
          "data": {
            "text/plain": [
              "tokenizer_config.json:   0%|          | 0.00/480 [00:00<?, ?B/s]"
            ],
            "application/vnd.jupyter.widget-view+json": {
              "version_major": 2,
              "version_minor": 0,
              "model_id": "2617829a37fe47eaba6a30142ab1ac98"
            }
          },
          "metadata": {}
        },
        {
          "output_type": "display_data",
          "data": {
            "text/plain": [
              "tokenizer.json:   0%|          | 0.00/9.08M [00:00<?, ?B/s]"
            ],
            "application/vnd.jupyter.widget-view+json": {
              "version_major": 2,
              "version_minor": 0,
              "model_id": "3946243bbc1142a898bdf7c1c5217771"
            }
          },
          "metadata": {}
        },
        {
          "output_type": "display_data",
          "data": {
            "text/plain": [
              "special_tokens_map.json:   0%|          | 0.00/239 [00:00<?, ?B/s]"
            ],
            "application/vnd.jupyter.widget-view+json": {
              "version_major": 2,
              "version_minor": 0,
              "model_id": "e986bf7d5ecd4473967dce6c09e8495a"
            }
          },
          "metadata": {}
        },
        {
          "output_type": "display_data",
          "data": {
            "text/plain": [
              "config.json:   0%|          | 0.00/190 [00:00<?, ?B/s]"
            ],
            "application/vnd.jupyter.widget-view+json": {
              "version_major": 2,
              "version_minor": 0,
              "model_id": "160f5068ecf64d18aa5795f967010213"
            }
          },
          "metadata": {}
        },
        {
          "output_type": "stream",
          "name": "stdout",
          "text": [
            "✅ Sentence Transformer ready!\n"
          ]
        }
      ],
      "source": [
        "print(\"🔧 Setting up Sentence Transformer...\")\n",
        "# Menggunakan model multilingual yang bagus untuk bahasa Indonesia\n",
        "sentence_model = SentenceTransformer('sentence-transformers/paraphrase-multilingual-MiniLM-L12-v2')\n",
        "print(\"✅ Sentence Transformer ready!\")"
      ]
    },
    {
      "cell_type": "markdown",
      "metadata": {
        "id": "JswBFB3S4bcI"
      },
      "source": [
        "2. SETUP UMAP (Dimensionality Reduction)\n"
      ]
    },
    {
      "cell_type": "code",
      "execution_count": null,
      "metadata": {
        "colab": {
          "base_uri": "https://localhost:8080/"
        },
        "id": "4WIzuKnw4aKa",
        "outputId": "6bbce9e5-34ba-4dbb-c25c-dc27345fa795"
      },
      "outputs": [
        {
          "output_type": "stream",
          "name": "stdout",
          "text": [
            "🔧 Setting up UMAP...\n",
            "✅ UMAP ready!\n"
          ]
        }
      ],
      "source": [
        "print(\"🔧 Setting up UMAP...\")\n",
        "umap_model = UMAP(\n",
        "    n_neighbors=15,      # Jumlah tetangga terdekat\n",
        "    n_components=5,      # Dimensi output\n",
        "    min_dist=0.0,        # Jarak minimum antar titik\n",
        "    metric='cosine',     # Metrik jarak\n",
        "    random_state=42\n",
        ")\n",
        "print(\"✅ UMAP ready!\")"
      ]
    },
    {
      "cell_type": "markdown",
      "metadata": {
        "id": "ZUgRmNrd4i4O"
      },
      "source": [
        "3. SETUP HDBSCAN (Clustering Algorithm)\n"
      ]
    },
    {
      "cell_type": "code",
      "execution_count": null,
      "metadata": {
        "colab": {
          "base_uri": "https://localhost:8080/"
        },
        "id": "mn9hxtWQ4h7O",
        "outputId": "fa4756d6-6e46-4b36-e775-0d6a226aca89"
      },
      "outputs": [
        {
          "output_type": "stream",
          "name": "stdout",
          "text": [
            "🔧 Setting up HDBSCAN...\n",
            "✅ HDBSCAN ready!\n"
          ]
        }
      ],
      "source": [
        "print(\"🔧 Setting up HDBSCAN...\")\n",
        "hdbscan_model = HDBSCAN(\n",
        "    min_cluster_size=15,     # Ukuran minimum cluster\n",
        "    metric='euclidean',      # Metrik jarak\n",
        "    cluster_selection_method='eom',  # Metode seleksi cluster\n",
        "    prediction_data=True\n",
        ")\n",
        "print(\"✅ HDBSCAN ready!\")"
      ]
    },
    {
      "cell_type": "markdown",
      "metadata": {
        "id": "ztO8_Tl74n9_"
      },
      "source": [
        "4. SETUP VECTORIZER (untuk representasi topik)\n"
      ]
    },
    {
      "cell_type": "code",
      "execution_count": null,
      "metadata": {
        "colab": {
          "base_uri": "https://localhost:8080/"
        },
        "id": "-3UMG-lq4qX4",
        "outputId": "520abffb-204f-4a01-a0f8-378108822126"
      },
      "outputs": [
        {
          "output_type": "stream",
          "name": "stdout",
          "text": [
            "🔧 Setting up Vectorizer...\n",
            "✅ Vectorizer ready!\n"
          ]
        }
      ],
      "source": [
        "print(\"🔧 Setting up Vectorizer...\")\n",
        "vectorizer_model = CountVectorizer(\n",
        "    ngram_range=(1, 2),      # Unigram dan bigram\n",
        "    stop_words=None,         # Kita sudah remove stopwords\n",
        "    min_df=2,                # Minimum document frequency\n",
        "    max_df=0.9               # Maximum document frequency\n",
        ")\n",
        "print(\"✅ Vectorizer ready!\")"
      ]
    },
    {
      "cell_type": "markdown",
      "metadata": {
        "id": "gSdRmnc24uoQ"
      },
      "source": [
        "5. CREATE BERTOPIC MODEL\n"
      ]
    },
    {
      "cell_type": "code",
      "execution_count": null,
      "metadata": {
        "colab": {
          "base_uri": "https://localhost:8080/"
        },
        "id": "aOR30HNy4wQO",
        "outputId": "ae62c665-bac8-4d3f-c257-397b23f0cb09"
      },
      "outputs": [
        {
          "output_type": "stream",
          "name": "stdout",
          "text": [
            "\n",
            "==================================================\n",
            "🏗️ CREATING BERTOPIC MODEL\n",
            "==================================================\n",
            "✅ BERTopic model created!\n"
          ]
        }
      ],
      "source": [
        "print(\"\\n\" + \"=\"*50)\n",
        "print(\"🏗️ CREATING BERTOPIC MODEL\")\n",
        "print(\"=\"*50)\n",
        "\n",
        "topic_model = BERTopic(\n",
        "    embedding_model=sentence_model,\n",
        "    umap_model=umap_model,\n",
        "    hdbscan_model=hdbscan_model,\n",
        "    vectorizer_model=vectorizer_model,\n",
        "    calculate_probabilities=True,  # Untuk mendapatkan probabilitas topik\n",
        "    verbose=True\n",
        ")\n",
        "\n",
        "print(\"✅ BERTopic model created!\")"
      ]
    },
    {
      "cell_type": "markdown",
      "metadata": {
        "id": "F1a2UyqY43vz"
      },
      "source": [
        "6. TRAIN THE MODEL\n"
      ]
    },
    {
      "cell_type": "code",
      "execution_count": null,
      "metadata": {
        "colab": {
          "base_uri": "https://localhost:8080/",
          "height": 361,
          "referenced_widgets": [
            "4f97fcbcb16e4087927fa699a07290e1",
            "7e514a5c4e2840fab412f4f90eb4d424",
            "e6c66de641634aaca3f3971ddbfbcbb3",
            "dfe93aa9e63c4683a151c53265624ad8",
            "f0585ed4cccd4dc5b087c2ee51171db4",
            "547cbd808a854e0099d8e132f816f135",
            "c32b31cd91674b528e796e985d2b159e",
            "c6ca75555a0b4df1b1dc4f3a51a8d1aa",
            "76e1ed16d5044848975da1457b071902",
            "220497e0a98a4a8d8ddea29e06db233c",
            "610cc38bfba347c892902c5283fc6dc0"
          ]
        },
        "id": "dh3xbABO42fZ",
        "outputId": "00b557a2-f2ed-44d1-f0de-e00b7c6fef9f"
      },
      "outputs": [
        {
          "output_type": "stream",
          "name": "stderr",
          "text": [
            "2025-07-02 10:34:22,796 - BERTopic - Embedding - Transforming documents to embeddings.\n"
          ]
        },
        {
          "output_type": "stream",
          "name": "stdout",
          "text": [
            "\n",
            "==================================================\n",
            "🚀 TRAINING BERTOPIC MODEL\n",
            "==================================================\n",
            "⏳ This may take several minutes...\n"
          ]
        },
        {
          "output_type": "display_data",
          "data": {
            "text/plain": [
              "Batches:   0%|          | 0/1191 [00:00<?, ?it/s]"
            ],
            "application/vnd.jupyter.widget-view+json": {
              "version_major": 2,
              "version_minor": 0,
              "model_id": "4f97fcbcb16e4087927fa699a07290e1"
            }
          },
          "metadata": {}
        },
        {
          "output_type": "stream",
          "name": "stderr",
          "text": [
            "2025-07-02 11:21:48,157 - BERTopic - Embedding - Completed ✓\n",
            "2025-07-02 11:21:48,161 - BERTopic - Dimensionality - Fitting the dimensionality reduction algorithm\n",
            "2025-07-02 11:23:10,472 - BERTopic - Dimensionality - Completed ✓\n",
            "2025-07-02 11:23:10,474 - BERTopic - Cluster - Start clustering the reduced embeddings\n",
            "2025-07-02 11:28:26,091 - BERTopic - Cluster - Completed ✓\n",
            "2025-07-02 11:28:26,122 - BERTopic - Representation - Fine-tuning topics using representation models.\n",
            "2025-07-02 11:28:32,321 - BERTopic - Representation - Completed ✓\n"
          ]
        },
        {
          "output_type": "stream",
          "name": "stdout",
          "text": [
            "✅ Model training completed!\n",
            "📊 Results:\n",
            "   - Number of topics found: 300\n",
            "   - Documents with topics: 17671\n",
            "   - Outliers (topic -1): 20429\n"
          ]
        }
      ],
      "source": [
        "print(\"\\n\" + \"=\"*50)\n",
        "print(\"🚀 TRAINING BERTOPIC MODEL\")\n",
        "print(\"=\"*50)\n",
        "print(\"⏳ This may take several minutes...\")\n",
        "\n",
        "# Fit model pada dokumen\n",
        "topics, probs = topic_model.fit_transform(documents)\n",
        "\n",
        "print(f\"✅ Model training completed!\")\n",
        "print(f\"📊 Results:\")\n",
        "print(f\"   - Number of topics found: {len(set(topics)) - (1 if -1 in topics else 0)}\")\n",
        "print(f\"   - Documents with topics: {len([t for t in topics if t != -1])}\")\n",
        "print(f\"   - Outliers (topic -1): {len([t for t in topics if t == -1])}\")"
      ]
    },
    {
      "cell_type": "markdown",
      "metadata": {
        "id": "_F9TKqb2G7jR"
      },
      "source": [
        "7. ANALYZE RESULTS\n"
      ]
    },
    {
      "cell_type": "code",
      "execution_count": null,
      "metadata": {
        "colab": {
          "base_uri": "https://localhost:8080/"
        },
        "id": "w9Y5aAOmG6Yv",
        "outputId": "61ce63c8-9e5e-408e-af01-47aada1c814d"
      },
      "outputs": [
        {
          "output_type": "stream",
          "name": "stdout",
          "text": [
            "\n",
            "==================================================\n",
            "📈 TOPIC ANALYSIS\n",
            "==================================================\n",
            "📊 Top 10 topics by frequency:\n",
            "    Topic  Count\n",
            "0      -1  20429\n",
            "7       0   1124\n",
            "10      1    511\n",
            "22      2    489\n",
            "35      3    450\n",
            "77      4    396\n",
            "27      5    362\n",
            "9       6    337\n",
            "45      7    330\n",
            "41      8    262\n",
            "\n",
            "📋 Topic information:\n",
            "   Topic  Count                                               Name  \\\n",
            "0     -1  20429                             -1_allah_kalian_al_ada   \n",
            "1      0   1124                     0_matahari_malam_shalat_rakaat   \n",
            "2      1    511                   1_rambut_rambutnya_mencukur_bulu   \n",
            "3      2    489  2_mengangkat_kedua_mengangkat kedua_kedua tang...   \n",
            "4      3    450                        3_makanan_makan_daging_roti   \n",
            "\n",
            "                                      Representation  \\\n",
            "0  [allah, kalian, al, ada, menjawab, wahai, laki...   \n",
            "1  [matahari, malam, shalat, rakaat, tidur, subuh...   \n",
            "2  [rambut, rambutnya, mencukur, bulu, kumis, mem...   \n",
            "3  [mengangkat, kedua, mengangkat kedua, kedua ta...   \n",
            "4  [makanan, makan, daging, roti, memakannya, bia...   \n",
            "\n",
            "                                 Representative_Docs  \n",
            "0  [di makkah mendiktekan, berkata, kepadaku berk...  \n",
            "1  [mengabarkan berkata; bersabda: \"shalat malam ...  \n",
            "2  [kepadaku berkata, kepadaku , pernah mendengar...  \n",
            "3  [berkata; kataku; \"sungguh benar-benar melihat...  \n",
            "4  [mengabarkan kepadaku kepadaku berkata; mengab...  \n"
          ]
        }
      ],
      "source": [
        "print(\"\\n\" + \"=\"*50)\n",
        "print(\"📈 TOPIC ANALYSIS\")\n",
        "print(\"=\"*50)\n",
        "\n",
        "# Topic frequency\n",
        "topic_freq = topic_model.get_topic_freq()\n",
        "print(f\"📊 Top 10 topics by frequency:\")\n",
        "print(topic_freq.head(10))\n",
        "\n",
        "# Topic information\n",
        "topic_info = topic_model.get_topic_info()\n",
        "print(f\"\\n📋 Topic information:\")\n",
        "print(topic_info.head())\n"
      ]
    },
    {
      "cell_type": "markdown",
      "metadata": {
        "id": "JqWTRMfDHD_V"
      },
      "source": [
        "8. DISPLAY TOP TOPICS\n"
      ]
    },
    {
      "cell_type": "code",
      "execution_count": null,
      "metadata": {
        "colab": {
          "base_uri": "https://localhost:8080/"
        },
        "id": "EDIJBSzjHDIn",
        "outputId": "d57b05b9-407f-4eab-9aec-c9175d1d77b9"
      },
      "outputs": [
        {
          "output_type": "stream",
          "name": "stdout",
          "text": [
            "\n",
            "==================================================\n",
            "🏷️ TOP TOPICS DETAILS\n",
            "==================================================\n",
            "\n",
            "📍 Topic 1:\n",
            "   Words: rambut, rambutnya, mencukur, bulu, kumis, memotong, jenggot, memendekkan, memotong kuku, mencukur rambut\n",
            "   Sample hadits:\n",
            "   1. ibnu abdurrahman, berkata; pernah bertemu nabi shallallahu 'alaihi wasallam sebagaimana hurairah ber...\n",
            "   2. berkata; rasulullah shallallahu 'alaihi wasallam bersabda: \"sepuluh perkara termasuk fithrah: memoto...\n",
            "   3. berdua berkata; bahwasanya rasulullah shallallahu 'alaihi wasallam pernah berwudhu di sisinya, mengu...\n",
            "\n",
            "📍 Topic 2:\n",
            "   Words: mengangkat, kedua, mengangkat kedua, kedua tangannya, tangannya, tangan, meletakkan, jari, sujud, rukuk\n",
            "   Sample hadits:\n",
            "   1. berkata; \"tanganku tangan rasulullah shallallahu 'alaihi wasallam saling bergantian berwudhu satu be...\n",
            "   2. berkata; pernah melihat rasulullah shallallahu 'alaihi wasallam berwudhu, menggosok jari-jari kedua ...\n",
            "   3. berkata; pernah bertanya nabi shallallahu 'alaihi wasallam tayammum, memerintahkanku menepukkan satu...\n",
            "\n",
            "📍 Topic 3:\n",
            "   Words: makanan, makan, daging, roti, memakannya, biawak, daging biawak, makanlah, thalhah, labu\n",
            "   Sample hadits:\n",
            "   1. berkata; rasulullah shallallahu 'alaihi wasallam pernah ditanya berwudhu makan daging unta. shallall...\n",
            "   2. berkata mengabarkan berkata; pernah mendengar berkata; pernah mempersembahkan nabi shallallahu 'alai...\n",
            "   3. berkata; pernah menggigit daging, sementara haidl, daging berikan nabi shallallahu 'alaihi wasallam,...\n",
            "\n",
            "📍 Topic 4:\n",
            "   Words: surat, membaca, surat al, qur, qur an, al qur, an, membaca surat, bacaan, al\n",
            "   Sample hadits:\n",
            "   1. berkata; berkata; \"aku hafal dua tempat diam sejenaknya shalat, pertama imam bertakbir membaca (al f...\n",
            "   2. samurah jundab 'imran hushain saling mengingatkan (sesuatu), dirinya hafal rasulullah shallallahu 'a...\n",
            "   3. redaksi ini, katanya; berkata; \"dua tempat pemberhentian sejenak pernah hafal rasulullah shallallahu...\n"
          ]
        }
      ],
      "source": [
        "print(\"\\n\" + \"=\"*50)\n",
        "print(\"🏷️ TOP TOPICS DETAILS\")\n",
        "print(\"=\"*50)\n",
        "\n",
        "for topic_id in range(min(5, len(topic_freq))):  # Show top 5 topics\n",
        "    if topic_id == 0 and -1 in topics:  # Skip outlier topic\n",
        "        continue\n",
        "\n",
        "    topic_words = topic_model.get_topic(topic_id)\n",
        "    print(f\"\\n📍 Topic {topic_id}:\")\n",
        "    print(f\"   Words: {', '.join([word for word, score in topic_words[:10]])}\")\n",
        "\n",
        "    # Show sample documents from this topic\n",
        "    topic_docs_idx = [i for i, t in enumerate(topics) if t == topic_id]\n",
        "    sample_docs = topic_docs_idx[:3]  # Take 3 sample documents\n",
        "\n",
        "    print(f\"   Sample hadits:\")\n",
        "    for i, doc_idx in enumerate(sample_docs):\n",
        "        print(f\"   {i+1}. {documents[doc_idx][:100]}...\")"
      ]
    },
    {
      "cell_type": "markdown",
      "metadata": {
        "id": "E69nECA4HMqG"
      },
      "source": [
        "9. SAVE RESULTS\n"
      ]
    },
    {
      "cell_type": "code",
      "execution_count": null,
      "metadata": {
        "colab": {
          "base_uri": "https://localhost:8080/",
          "height": 567
        },
        "id": "c1MDpedFHLjc",
        "outputId": "590ac006-5250-4a96-8139-b21022870218"
      },
      "outputs": [
        {
          "output_type": "stream",
          "name": "stdout",
          "text": [
            "\n",
            "==================================================\n",
            "💾 SAVING RESULTS & ZIPPING MODEL\n",
            "==================================================\n"
          ]
        },
        {
          "output_type": "stream",
          "name": "stderr",
          "text": [
            "2025-07-02 12:38:08,763 - BERTopic - WARNING: When you use `pickle` to save/load a BERTopic model,please make sure that the environments in which you saveand load the model are **exactly** the same. The version of BERTopic,its dependencies, and python need to remain the same.\n"
          ]
        },
        {
          "output_type": "stream",
          "name": "stdout",
          "text": [
            "✅ Hasil analisis disimpan ke 'hadits_with_topics.csv'\n",
            "✅ Menyimpan model ke folder sementara 'bertopic_hadits_model'...\n",
            "✅ Folder model berhasil disimpan!\n",
            "📦 Mengompres folder model menjadi 'bertopic_hadits_model.zip'...\n",
            "✅ Berhasil! Output akhir Anda adalah file 'bertopic_hadits_model.zip'.\n",
            "🗑️ Menghapus folder sementara 'bertopic_hadits_model'...\n"
          ]
        },
        {
          "output_type": "error",
          "ename": "NotADirectoryError",
          "evalue": "[Errno 20] Not a directory: 'bertopic_hadits_model'",
          "traceback": [
            "\u001b[0;31m---------------------------------------------------------------------------\u001b[0m",
            "\u001b[0;31mNotADirectoryError\u001b[0m                        Traceback (most recent call last)",
            "\u001b[0;32m/tmp/ipython-input-37-1267424817.py\u001b[0m in \u001b[0;36m<cell line: 0>\u001b[0;34m()\u001b[0m\n\u001b[1;32m     40\u001b[0m     \u001b[0;31m# (Opsional) Hapus folder sementara setelah di-zip untuk menghemat ruang\u001b[0m\u001b[0;34m\u001b[0m\u001b[0;34m\u001b[0m\u001b[0m\n\u001b[1;32m     41\u001b[0m     \u001b[0mprint\u001b[0m\u001b[0;34m(\u001b[0m\u001b[0;34mf\"🗑️ Menghapus folder sementara '{model_folder_path}'...\"\u001b[0m\u001b[0;34m)\u001b[0m\u001b[0;34m\u001b[0m\u001b[0;34m\u001b[0m\u001b[0m\n\u001b[0;32m---> 42\u001b[0;31m     \u001b[0mshutil\u001b[0m\u001b[0;34m.\u001b[0m\u001b[0mrmtree\u001b[0m\u001b[0;34m(\u001b[0m\u001b[0mmodel_folder_path\u001b[0m\u001b[0;34m)\u001b[0m\u001b[0;34m\u001b[0m\u001b[0;34m\u001b[0m\u001b[0m\n\u001b[0m\u001b[1;32m     43\u001b[0m     \u001b[0mprint\u001b[0m\u001b[0;34m(\u001b[0m\u001b[0;34m\"✅ Selesai.\"\u001b[0m\u001b[0;34m)\u001b[0m\u001b[0;34m\u001b[0m\u001b[0;34m\u001b[0m\u001b[0m\n\u001b[1;32m     44\u001b[0m \u001b[0;34m\u001b[0m\u001b[0m\n",
            "\u001b[0;32m/usr/lib/python3.11/shutil.py\u001b[0m in \u001b[0;36mrmtree\u001b[0;34m(path, ignore_errors, onerror, dir_fd)\u001b[0m\n\u001b[1;32m    750\u001b[0m         \u001b[0;32mtry\u001b[0m\u001b[0;34m:\u001b[0m\u001b[0;34m\u001b[0m\u001b[0;34m\u001b[0m\u001b[0m\n\u001b[1;32m    751\u001b[0m             \u001b[0;32mif\u001b[0m \u001b[0mos\u001b[0m\u001b[0;34m.\u001b[0m\u001b[0mpath\u001b[0m\u001b[0;34m.\u001b[0m\u001b[0msamestat\u001b[0m\u001b[0;34m(\u001b[0m\u001b[0morig_st\u001b[0m\u001b[0;34m,\u001b[0m \u001b[0mos\u001b[0m\u001b[0;34m.\u001b[0m\u001b[0mfstat\u001b[0m\u001b[0;34m(\u001b[0m\u001b[0mfd\u001b[0m\u001b[0;34m)\u001b[0m\u001b[0;34m)\u001b[0m\u001b[0;34m:\u001b[0m\u001b[0;34m\u001b[0m\u001b[0;34m\u001b[0m\u001b[0m\n\u001b[0;32m--> 752\u001b[0;31m                 \u001b[0m_rmtree_safe_fd\u001b[0m\u001b[0;34m(\u001b[0m\u001b[0mfd\u001b[0m\u001b[0;34m,\u001b[0m \u001b[0mpath\u001b[0m\u001b[0;34m,\u001b[0m \u001b[0monerror\u001b[0m\u001b[0;34m)\u001b[0m\u001b[0;34m\u001b[0m\u001b[0;34m\u001b[0m\u001b[0m\n\u001b[0m\u001b[1;32m    753\u001b[0m                 \u001b[0;32mtry\u001b[0m\u001b[0;34m:\u001b[0m\u001b[0;34m\u001b[0m\u001b[0;34m\u001b[0m\u001b[0m\n\u001b[1;32m    754\u001b[0m                     \u001b[0mos\u001b[0m\u001b[0;34m.\u001b[0m\u001b[0mclose\u001b[0m\u001b[0;34m(\u001b[0m\u001b[0mfd\u001b[0m\u001b[0;34m)\u001b[0m\u001b[0;34m\u001b[0m\u001b[0;34m\u001b[0m\u001b[0m\n",
            "\u001b[0;32m/usr/lib/python3.11/shutil.py\u001b[0m in \u001b[0;36m_rmtree_safe_fd\u001b[0;34m(topfd, path, onerror)\u001b[0m\n\u001b[1;32m    645\u001b[0m     \u001b[0;32mexcept\u001b[0m \u001b[0mOSError\u001b[0m \u001b[0;32mas\u001b[0m \u001b[0merr\u001b[0m\u001b[0;34m:\u001b[0m\u001b[0;34m\u001b[0m\u001b[0;34m\u001b[0m\u001b[0m\n\u001b[1;32m    646\u001b[0m         \u001b[0merr\u001b[0m\u001b[0;34m.\u001b[0m\u001b[0mfilename\u001b[0m \u001b[0;34m=\u001b[0m \u001b[0mpath\u001b[0m\u001b[0;34m\u001b[0m\u001b[0;34m\u001b[0m\u001b[0m\n\u001b[0;32m--> 647\u001b[0;31m         \u001b[0monerror\u001b[0m\u001b[0;34m(\u001b[0m\u001b[0mos\u001b[0m\u001b[0;34m.\u001b[0m\u001b[0mscandir\u001b[0m\u001b[0;34m,\u001b[0m \u001b[0mpath\u001b[0m\u001b[0;34m,\u001b[0m \u001b[0msys\u001b[0m\u001b[0;34m.\u001b[0m\u001b[0mexc_info\u001b[0m\u001b[0;34m(\u001b[0m\u001b[0;34m)\u001b[0m\u001b[0;34m)\u001b[0m\u001b[0;34m\u001b[0m\u001b[0;34m\u001b[0m\u001b[0m\n\u001b[0m\u001b[1;32m    648\u001b[0m         \u001b[0;32mreturn\u001b[0m\u001b[0;34m\u001b[0m\u001b[0;34m\u001b[0m\u001b[0m\n\u001b[1;32m    649\u001b[0m     \u001b[0;32mfor\u001b[0m \u001b[0mentry\u001b[0m \u001b[0;32min\u001b[0m \u001b[0mentries\u001b[0m\u001b[0;34m:\u001b[0m\u001b[0;34m\u001b[0m\u001b[0;34m\u001b[0m\u001b[0m\n",
            "\u001b[0;32m/usr/lib/python3.11/shutil.py\u001b[0m in \u001b[0;36m_rmtree_safe_fd\u001b[0;34m(topfd, path, onerror)\u001b[0m\n\u001b[1;32m    641\u001b[0m \u001b[0;32mdef\u001b[0m \u001b[0m_rmtree_safe_fd\u001b[0m\u001b[0;34m(\u001b[0m\u001b[0mtopfd\u001b[0m\u001b[0;34m,\u001b[0m \u001b[0mpath\u001b[0m\u001b[0;34m,\u001b[0m \u001b[0monerror\u001b[0m\u001b[0;34m)\u001b[0m\u001b[0;34m:\u001b[0m\u001b[0;34m\u001b[0m\u001b[0;34m\u001b[0m\u001b[0m\n\u001b[1;32m    642\u001b[0m     \u001b[0;32mtry\u001b[0m\u001b[0;34m:\u001b[0m\u001b[0;34m\u001b[0m\u001b[0;34m\u001b[0m\u001b[0m\n\u001b[0;32m--> 643\u001b[0;31m         \u001b[0;32mwith\u001b[0m \u001b[0mos\u001b[0m\u001b[0;34m.\u001b[0m\u001b[0mscandir\u001b[0m\u001b[0;34m(\u001b[0m\u001b[0mtopfd\u001b[0m\u001b[0;34m)\u001b[0m \u001b[0;32mas\u001b[0m \u001b[0mscandir_it\u001b[0m\u001b[0;34m:\u001b[0m\u001b[0;34m\u001b[0m\u001b[0;34m\u001b[0m\u001b[0m\n\u001b[0m\u001b[1;32m    644\u001b[0m             \u001b[0mentries\u001b[0m \u001b[0;34m=\u001b[0m \u001b[0mlist\u001b[0m\u001b[0;34m(\u001b[0m\u001b[0mscandir_it\u001b[0m\u001b[0;34m)\u001b[0m\u001b[0;34m\u001b[0m\u001b[0;34m\u001b[0m\u001b[0m\n\u001b[1;32m    645\u001b[0m     \u001b[0;32mexcept\u001b[0m \u001b[0mOSError\u001b[0m \u001b[0;32mas\u001b[0m \u001b[0merr\u001b[0m\u001b[0;34m:\u001b[0m\u001b[0;34m\u001b[0m\u001b[0;34m\u001b[0m\u001b[0m\n",
            "\u001b[0;31mNotADirectoryError\u001b[0m: [Errno 20] Not a directory: 'bertopic_hadits_model'"
          ]
        }
      ],
      "source": [
        "# Pastikan library ini sudah di-import di bagian atas skrip Anda\n",
        "import shutil\n",
        "import os\n",
        "\n",
        "print(\"\\n\" + \"=\"*50)\n",
        "print(\"💾 SAVING RESULTS & ZIPPING MODEL\")\n",
        "print(\"=\"*50)\n",
        "\n",
        "# Tambahkan hasil topic modeling ke dalam dataframe\n",
        "df_sample['topic'] = topics\n",
        "df_sample['topic_probability'] = probs.max(axis=1) if probs is not None else None\n",
        "\n",
        "# Simpan dataframe yang sudah ada topiknya ke file CSV\n",
        "df_sample.to_csv('hadits_with_topics.csv', index=False)\n",
        "print(\"✅ Hasil analisis disimpan ke 'hadits_with_topics.csv'\")\n",
        "\n",
        "# --- Langkah 1: Simpan model ke sebuah FOLDER terlebih dahulu ---\n",
        "# Ini adalah langkah yang wajib, karena model tidak bisa langsung disimpan ke zip.\n",
        "model_folder_path = \"bertopic_hadits_model\"\n",
        "print(f\"✅ Menyimpan model ke folder sementara '{model_folder_path}'...\")\n",
        "topic_model.save(model_folder_path, save_embedding_model=False)\n",
        "print(\"✅ Folder model berhasil disimpan!\")\n",
        "\n",
        "# Kompres FOLDER tersebut menjadi satu file .ZIP ---\n",
        "# Nama file zip yang akan dihasilkan\n",
        "output_zip_filename = 'bertopic_hadits_model' # Ini akan membuat 'bertopic_hadits_model.zip'\n",
        "print(f\"📦 Mengompres folder model menjadi '{output_zip_filename}.zip'...\")\n",
        "\n",
        "# Cek apakah folder sumber ada sebelum mencoba men-zip\n",
        "if os.path.exists(model_folder_path):\n",
        "    # Membuat arsip zip dari folder\n",
        "    shutil.make_archive(\n",
        "        base_name=output_zip_filename,  # Nama file output\n",
        "        format='zip',                   # Format arsip\n",
        "        root_dir='.',                   # Direktori awal\n",
        "        base_dir=model_folder_path      # Folder yang akan di-zip\n",
        "    )\n",
        "    print(f\"✅ Berhasil! Output akhir Anda adalah file '{output_zip_filename}.zip'.\")"
      ]
    },
    {
      "cell_type": "markdown",
      "metadata": {
        "id": "_2yzZag5HbxO"
      },
      "source": [
        "10. BASIC VISUALIZATION\n"
      ]
    },
    {
      "cell_type": "code",
      "execution_count": null,
      "metadata": {
        "colab": {
          "base_uri": "https://localhost:8080/",
          "height": 826
        },
        "id": "J3AMS3DXHWQf",
        "outputId": "c6d5e80e-9578-4de9-d118-54ca87d9c130"
      },
      "outputs": [
        {
          "output_type": "stream",
          "name": "stdout",
          "text": [
            "\n",
            "==================================================\n",
            "📊 BASIC VISUALIZATION\n",
            "==================================================\n"
          ]
        },
        {
          "output_type": "display_data",
          "data": {
            "text/plain": [
              "<Figure size 1200x600 with 2 Axes>"
            ],
            "image/png": "[encoded data removed]"
          },
          "metadata": {}
        },
        {
          "output_type": "stream",
          "name": "stdout",
          "text": [
            "\n",
            "==================================================\n",
            "🎉 BERTOPIC TRAINING COMPLETED!\n",
            "==================================================\n",
            "📊 Summary:\n",
            "   - Topics discovered: 300\n",
            "   - Model saved: ✅\n",
            "   - Results saved: ✅\n",
            "   - Ready for analysis: ✅\n"
          ]
        }
      ],
      "source": [
        "print(\"\\n\" + \"=\"*50)\n",
        "print(\"📊 BASIC VISUALIZATION\")\n",
        "print(\"=\"*50)\n",
        "\n",
        "# Topic distribution\n",
        "plt.figure(figsize=(12, 6))\n",
        "\n",
        "# Topic frequency plot\n",
        "plt.subplot(1, 2, 1)\n",
        "topic_counts = Counter(topics)\n",
        "topics_list = list(topic_counts.keys())\n",
        "counts_list = list(topic_counts.values())\n",
        "\n",
        "# Remove outlier topic for better visualization\n",
        "if -1 in topics_list:\n",
        "    outlier_idx = topics_list.index(-1)\n",
        "    topics_list.pop(outlier_idx)\n",
        "    counts_list.pop(outlier_idx)\n",
        "\n",
        "plt.bar(range(len(topics_list[:10])), counts_list[:10])\n",
        "plt.title('Top 10 Topics by Document Count')\n",
        "plt.xlabel('Topic ID')\n",
        "plt.ylabel('Number of Documents')\n",
        "plt.xticks(range(len(topics_list[:10])), topics_list[:10])\n",
        "\n",
        "# Topic probability distribution\n",
        "if probs is not None:\n",
        "    plt.subplot(1, 2, 2)\n",
        "    max_probs = probs.max(axis=1)\n",
        "    plt.hist(max_probs, bins=30, alpha=0.7, color='skyblue')\n",
        "    plt.title('Distribution of Topic Probabilities')\n",
        "    plt.xlabel('Maximum Topic Probability')\n",
        "    plt.ylabel('Frequency')\n",
        "\n",
        "plt.tight_layout()\n",
        "plt.show()\n",
        "\n",
        "print(\"\\n\" + \"=\"*50)\n",
        "print(\"🎉 BERTOPIC TRAINING COMPLETED!\")\n",
        "print(\"=\"*50)\n",
        "print(\"📊 Summary:\")\n",
        "print(f\"   - Topics discovered: {len(set(topics)) - (1 if -1 in topics else 0)}\")\n",
        "print(f\"   - Model saved: ✅\")\n",
        "print(f\"   - Results saved: ✅\")\n",
        "print(f\"   - Ready for analysis: ✅\")"
      ]
    },
    {
      "cell_type": "markdown",
      "metadata": {
        "id": "R4pFAx4XHmt7"
      },
      "source": [
        "# ALISIS DAN VISUALISASI HASIL CLUSTERING HADITS"
      ]
    },
    {
      "cell_type": "code",
      "execution_count": null,
      "metadata": {
        "colab": {
          "base_uri": "https://localhost:8080/"
        },
        "id": "I3nrvh5WHonv",
        "outputId": "c146b61a-7532-428b-86e2-4466ad99f3a4"
      },
      "outputs": [
        {
          "output_type": "stream",
          "name": "stdout",
          "text": [
            "📊 Using existing model and data\n",
            "\n",
            "==================================================\n",
            "🔍 DETAILED TOPIC ANALYSIS\n",
            "==================================================\n"
          ]
        }
      ],
      "source": [
        "# Load model dan data jika belum ada\n",
        "try:\n",
        "    print(f\"📊 Using existing model and data\")\n",
        "except:\n",
        "    print(\"📂 Loading saved model and data...\")\n",
        "    topic_model = BERTopic.load(\"bertopic_hadits_model\")\n",
        "    df_sample = pd.read_csv('hadits_with_topics.csv')\n",
        "    documents = df_sample['cleaned_text'].tolist()\n",
        "    topics = df_sample['topic'].tolist()\n",
        "    print(\"✅ Model and data loaded!\")\n",
        "\n",
        "print(\"\\n\" + \"=\"*50)\n",
        "print(\"🔍 DETAILED TOPIC ANALYSIS\")\n",
        "print(\"=\"*50)"
      ]
    },
    {
      "cell_type": "markdown",
      "metadata": {
        "id": "iAbqEQoSHwJv"
      },
      "source": [
        "1. TOPIC STATISTICS\n"
      ]
    },
    {
      "cell_type": "code",
      "execution_count": null,
      "metadata": {
        "colab": {
          "base_uri": "https://localhost:8080/"
        },
        "id": "kpTFh5q3HvNC",
        "outputId": "c8f16615-7bae-45ee-a6fe-7878e8d0568e"
      },
      "outputs": [
        {
          "output_type": "stream",
          "name": "stdout",
          "text": [
            "📊 Topic Statistics:\n",
            "   - Total topics: 301\n",
            "   - Largest topic: 20429 documents\n",
            "   - Smallest topic: 15 documents\n",
            "   - Average topic size: 126.6 documents\n",
            "   - Outliers (ungrouped): 20429 documents (53.6%)\n"
          ]
        }
      ],
      "source": [
        "print(\"📊 Topic Statistics:\")\n",
        "topic_counts = df_sample['topic'].value_counts().sort_index()\n",
        "print(f\"   - Total topics: {len(topic_counts)}\")\n",
        "print(f\"   - Largest topic: {topic_counts.max()} documents\")\n",
        "print(f\"   - Smallest topic: {topic_counts.min()} documents\")\n",
        "print(f\"   - Average topic size: {topic_counts.mean():.1f} documents\")\n",
        "\n",
        "if -1 in topic_counts.index:\n",
        "    print(f\"   - Outliers (ungrouped): {topic_counts[-1]} documents ({topic_counts[-1]/len(df_sample)*100:.1f}%)\")"
      ]
    },
    {
      "cell_type": "markdown",
      "metadata": {
        "id": "-2E1Sd7UH18c"
      },
      "source": [
        "2. TOPIC LABELS (Manual Interpretation)\n"
      ]
    },
    {
      "cell_type": "code",
      "execution_count": null,
      "metadata": {
        "id": "k1oFsugdH07P"
      },
      "outputs": [],
      "source": [
        "def interpret_topic_theme(topic_words):\n",
        "    \"\"\"\n",
        "    Fungsi untuk menginterpretasi tema topik berdasarkan kata-kata kunci\n",
        "    \"\"\"\n",
        "    words = [word for word, score in topic_words[:10]]\n",
        "    word_str = ' '.join(words)\n",
        "\n",
        "    # Interpretasi berdasarkan kata kunci\n",
        "    if any(word in word_str for word in ['sholat', 'salat', 'rukuk', 'sujud', 'imam']):\n",
        "        return \"Sholat dan Ibadah\"\n",
        "    elif any(word in word_str for word in ['rasul', 'allah', 'nabi', 'muhammad']):\n",
        "        return \"Rasulullah dan Kenabian\"\n",
        "    elif any(word in word_str for word in ['nikah', 'isteri', 'suami', 'keluarga']):\n",
        "        return \"Pernikahan dan Keluarga\"\n",
        "    elif any(word in word_str for word in ['makanan', 'makan', 'minum', 'halal', 'haram']):\n",
        "        return \"Makanan dan Minuman\"\n",
        "    elif any(word in word_str for word in ['jihad', 'perang', 'musuh', 'tentara']):\n",
        "        return \"Jihad dan Perang\"\n",
        "    elif any(word in word_str for word in ['zakat', 'sedekah', 'harta', 'miskin']):\n",
        "        return \"Zakat dan Sedekah\"\n",
        "    elif any(word in word_str for word in ['puasa', 'ramadhan', 'buka', 'sahur']):\n",
        "        return \"Puasa dan Ramadhan\"\n",
        "    elif any(word in word_str for word in ['haji', 'umrah', 'makkah', 'madinah']):\n",
        "        return \"Haji dan Umrah\"\n",
        "    elif any(word in word_str for word in ['ilmu', 'belajar', 'guru', 'murid']):\n",
        "        return \"Ilmu dan Pendidikan\"\n",
        "    elif any(word in word_str for word in ['sakit', 'obat', 'dokter', 'sehat']):\n",
        "        return \"Kesehatan dan Pengobatan\"\n",
        "    else:\n",
        "        return \"Tema Umum\""
      ]
    },
    {
      "cell_type": "markdown",
      "metadata": {
        "id": "6HmKk7lgIBgh"
      },
      "source": [
        "3. ANALYZE EACH TOPIC IN DETAIL\n"
      ]
    },
    {
      "cell_type": "code",
      "execution_count": null,
      "metadata": {
        "colab": {
          "base_uri": "https://localhost:8080/"
        },
        "id": "J2_En3r_IAcs",
        "outputId": "48f28c11-ccbe-4db8-a8ad-e932c0e4a182"
      },
      "outputs": [
        {
          "output_type": "stream",
          "name": "stdout",
          "text": [
            "\n",
            "==================================================\n",
            "📋 DETAILED TOPIC BREAKDOWN\n",
            "==================================================\n",
            "\n",
            "🏷️ Topic 0: Tema Umum\n",
            "   📊 Size: 1124 dokumen (3.0%)\n",
            "   🔑 Kata kunci: matahari, malam, shalat, rakaat, tidur, subuh, terbit, gerhana, dua rakaat, bangun\n",
            "   📄 Contoh hadits:\n",
            "      1. bahwasanya berkata; nabi shallallahu 'alaihi wasallam memiliki bejana pelepah kurma (yang letakkan) di ranjangnya, gunak...\n",
            "      2. bahwasanya rasulullah shallallahu 'alaihi wasallam bangun di malam hari, menggosok (gigi-gigi) mulutnya siwak....\n",
            "      3. bahwasanya nabi shallallahu 'alaihi wasallam tidaklah bangun tidurnya baik malam maupun siang, kecuali bersiwak dahulu s...\n",
            "\n",
            "🏷️ Topic 1: Tema Umum\n",
            "   📊 Size: 511 dokumen (1.3%)\n",
            "   🔑 Kata kunci: rambut, rambutnya, mencukur, bulu, kumis, memotong, jenggot, memendekkan, memotong kuku, mencukur rambut\n",
            "   📄 Contoh hadits:\n",
            "      1. ibnu abdurrahman, berkata; pernah bertemu nabi shallallahu 'alaihi wasallam sebagaimana hurairah bersahabat beliau, berk...\n",
            "      2. berkata; rasulullah shallallahu 'alaihi wasallam bersabda: \"sepuluh perkara termasuk fithrah: memotong kumis, memelihara...\n",
            "      3. berdua berkata; bahwasanya rasulullah shallallahu 'alaihi wasallam pernah berwudhu di sisinya, mengusap semua kepalanya,...\n",
            "\n",
            "🏷️ Topic 2: Sholat dan Ibadah\n",
            "   📊 Size: 489 dokumen (1.3%)\n",
            "   🔑 Kata kunci: mengangkat, kedua, mengangkat kedua, kedua tangannya, tangannya, tangan, meletakkan, jari, sujud, rukuk\n",
            "   📄 Contoh hadits:\n",
            "      1. berkata; \"tanganku tangan rasulullah shallallahu 'alaihi wasallam saling bergantian berwudhu satu bejana.\"...\n",
            "      2. berkata; pernah melihat rasulullah shallallahu 'alaihi wasallam berwudhu, menggosok jari-jari kedua kakinya jari kelingk...\n",
            "      3. berkata; pernah bertanya nabi shallallahu 'alaihi wasallam tayammum, memerintahkanku menepukkan satu kali tepukan ke tan...\n",
            "\n",
            "🏷️ Topic 3: Makanan dan Minuman\n",
            "   📊 Size: 450 dokumen (1.2%)\n",
            "   🔑 Kata kunci: makanan, makan, daging, roti, memakannya, biawak, daging biawak, makanlah, thalhah, labu\n",
            "   📄 Contoh hadits:\n",
            "      1. berkata; rasulullah shallallahu 'alaihi wasallam pernah ditanya berwudhu makan daging unta. shallallahu 'alaihi wasallam...\n",
            "      2. berkata mengabarkan berkata; pernah mendengar berkata; pernah mempersembahkan nabi shallallahu 'alaihi wasallam sepotong...\n",
            "      3. berkata; pernah menggigit daging, sementara haidl, daging berikan nabi shallallahu 'alaihi wasallam, menggigitnya bagian...\n",
            "\n",
            "🏷️ Topic 4: Tema Umum\n",
            "   📊 Size: 396 dokumen (1.0%)\n",
            "   🔑 Kata kunci: surat, membaca, surat al, qur, qur an, al qur, an, membaca surat, bacaan, al\n",
            "   📄 Contoh hadits:\n",
            "      1. berkata; berkata; \"aku hafal dua tempat diam sejenaknya shalat, pertama imam bertakbir membaca (al fatihah) diamnya kedu...\n",
            "      2. samurah jundab 'imran hushain saling mengingatkan (sesuatu), dirinya hafal rasulullah shallallahu 'alaihi wasallam dua t...\n",
            "      3. redaksi ini, katanya; berkata; \"dua tempat pemberhentian sejenak pernah hafal rasulullah shallallahu 'alaihi wasallam, (...\n",
            "\n",
            "🏷️ Topic 5: Sholat dan Ibadah\n",
            "   📊 Size: 362 dokumen (1.0%)\n",
            "   🔑 Kata kunci: bakar, api, api neraka, neraka, membakar, mengimami, memimpin, bakar berkata, memimpin shalat, suruhlah\n",
            "   📄 Contoh hadits:\n",
            "      1. bahwasanya rasulullah shallallahu 'alaihi wasallam pernah melihat suatu kaum mata kaki terlihat masih kering, bersabda: ...\n",
            "      2. berkata; akhir kedua perkara rasulullah shallallahu 'alaihi wasallam tidak berwudhu makan sesuatu disentuh api. dawud be...\n",
            "      3. berkata; rasulullah shallallahu 'alaihi wasallam bersabda: \"berwudhulah makan makanan masak (terpanggang) api.\"...\n",
            "\n",
            "🏷️ Topic 6: Tema Umum\n",
            "   📊 Size: 337 dokumen (0.9%)\n",
            "   🔑 Kata kunci: air, bejana, mendapatkan air, berwudlu, wudlu, telapak, tangannya, air wudlu, tanah, tidak mendapatkan\n",
            "   📄 Contoh hadits:\n",
            "      1. haditsnya lebih sempurna, bahwasanya mereka, berkata; mengabarkan bahwasanya kepadanya , berkata; rasulullah shallallahu...\n",
            "      2. berdua berkata; . menurut jalur lain; berkata; mengabarkan berkata; rasulullah shallallahu 'alaihi wasallam buang air ke...\n",
            "      3. bahwasanya rasulullah shallallahu 'alaihi wasallam memasuki sebuah kebun bersama seorang anak kecil membawa tempat air w...\n",
            "\n",
            "🏷️ Topic 7: Tema Umum\n",
            "   📊 Size: 330 dokumen (0.9%)\n",
            "   🔑 Kata kunci: kain, pakaian, baju, sutera, mengenakan, memakai, shalat memakai, dikafani, jubah, terbuat\n",
            "   📄 Contoh hadits:\n",
            "      1. berkata; salah seorang di antara (istri-istri rasulullah) junub, mengambil tiga kali ciduk, begini, yakni kedua telapak ...\n",
            "      2. bahwasanya rasulullah shallallahu 'alaihi wasallam bercumbu salah satu istri keadaan haidl, (istri beliau) memakai kain ...\n",
            "      3. berkata; biasa rasulullah shallallahu'alaihiwasallam menyuruh salah seorang di antara (istri-istri beliau) haidl memakai...\n",
            "\n",
            "🏷️ Topic 8: Tema Umum\n",
            "   📊 Size: 262 dokumen (0.7%)\n",
            "   🔑 Kata kunci: malaikat, para malaikat, langit, aamiin, para, malaikat tidak, jibril, malaikat menjawab, malaikat berkata, gambar\n",
            "   📄 Contoh hadits:\n",
            "      1. nabi shallallahu 'alaihi wasallam, bersabda: \"malaikat tidak memasuki rumah ada gambar, anjing, orang junub.\"...\n",
            "      2. bahwasanya rasulullah shallallahu 'alaihi wasallam bersabda: \"para malaikat bershalawat (mendoakan ampunan) salah seoran...\n",
            "      3. bahwasanya rasulullah shallallahu 'alaihi wasallam bersabda: \"seorang hamba senantiasa dihitung keadaan shalat selama be...\n",
            "\n",
            "🏷️ Topic 9: Sholat dan Ibadah\n",
            "   📊 Size: 248 dokumen (0.7%)\n",
            "   🔑 Kata kunci: raka, raka at, rakaat, at, dua raka, dua, dua rakaat, shalat dua, sujud dua, dua kali\n",
            "   📄 Contoh hadits:\n",
            "      1. kepadaku kepadaku berkata; mendengar berkata; rasulullah shallallahu alaihi wasallam pernah shalat zhuhur siang hari san...\n",
            "      2. mendengar nabi shallallahu 'alaihi wasallam mengerjakan shalat dluhur salam di raka'at kedua, di beritahukan kepadanya; ...\n",
            "      3. sedangkan maksud haditsnya sama, hafsh mengatakan; berkata; \"rasulullah shallallahu 'alaihi wasallam shalat dzuhur lima ...\n"
          ]
        }
      ],
      "source": [
        "print(\"\\n\" + \"=\"*50)\n",
        "print(\"📋 DETAILED TOPIC BREAKDOWN\")\n",
        "print(\"=\"*50)\n",
        "\n",
        "topic_analysis = []\n",
        "\n",
        "for topic_id in sorted(set(topics)):\n",
        "    if topic_id == -1:  # Skip outliers\n",
        "        continue\n",
        "\n",
        "    # Get topic information\n",
        "    topic_words = topic_model.get_topic(topic_id)\n",
        "    topic_size = topic_counts[topic_id]\n",
        "\n",
        "    # Interpret theme\n",
        "    theme = interpret_topic_theme(topic_words)\n",
        "\n",
        "    # Get sample documents\n",
        "    topic_docs_idx = [i for i, t in enumerate(topics) if t == topic_id]\n",
        "    sample_docs = [documents[i] for i in topic_docs_idx[:3]]\n",
        "\n",
        "    topic_analysis.append({\n",
        "        'topic_id': topic_id,\n",
        "        'theme': theme,\n",
        "        'size': topic_size,\n",
        "        'percentage': (topic_size / len(df_sample)) * 100,\n",
        "        'top_words': [word for word, score in topic_words[:10]],\n",
        "        'sample_docs': sample_docs\n",
        "    })\n",
        "\n",
        "# Sort by size\n",
        "topic_analysis.sort(key=lambda x: x['size'], reverse=True)\n",
        "\n",
        "# Display analysis\n",
        "for i, analysis in enumerate(topic_analysis[:10]):  # Show top 10 topics\n",
        "    print(f\"\\n🏷️ Topic {analysis['topic_id']}: {analysis['theme']}\")\n",
        "    print(f\"   📊 Size: {analysis['size']} dokumen ({analysis['percentage']:.1f}%)\")\n",
        "    print(f\"   🔑 Kata kunci: {', '.join(analysis['top_words'])}\")\n",
        "    print(f\"   📄 Contoh hadits:\")\n",
        "    for j, doc in enumerate(analysis['sample_docs']):\n",
        "        print(f\"      {j+1}. {doc[:120]}...\")"
      ]
    },
    {
      "cell_type": "markdown",
      "metadata": {
        "id": "D0tFzRUPIIi4"
      },
      "source": [
        "4. CREATE TOPIC SUMMARY TABLE\n"
      ]
    },
    {
      "cell_type": "code",
      "execution_count": null,
      "metadata": {
        "colab": {
          "base_uri": "https://localhost:8080/"
        },
        "id": "nDOWSu-CIHiS",
        "outputId": "9b5d4b97-6b69-4193-cd16-f82309de5eb2"
      },
      "outputs": [
        {
          "output_type": "stream",
          "name": "stdout",
          "text": [
            "\n",
            "==================================================\n",
            "📊 TOPIC SUMMARY TABLE\n",
            "==================================================\n",
            " topic_id               theme  size  percentage\n",
            "        0           Tema Umum  1124    2.950131\n",
            "        1           Tema Umum   511    1.341207\n",
            "        2   Sholat dan Ibadah   489    1.283465\n",
            "        3 Makanan dan Minuman   450    1.181102\n",
            "        4           Tema Umum   396    1.039370\n",
            "        5   Sholat dan Ibadah   362    0.950131\n",
            "        6           Tema Umum   337    0.884514\n",
            "        7           Tema Umum   330    0.866142\n",
            "        8           Tema Umum   262    0.687664\n",
            "        9   Sholat dan Ibadah   248    0.650919\n",
            "       10   Zakat dan Sedekah   227    0.595801\n",
            "       11           Tema Umum   215    0.564304\n",
            "       12 Makanan dan Minuman   200    0.524934\n",
            "       13           Tema Umum   190    0.498688\n",
            "       14    Jihad dan Perang   189    0.496063\n"
          ]
        }
      ],
      "source": [
        "print(\"\\n\" + \"=\"*50)\n",
        "print(\"📊 TOPIC SUMMARY TABLE\")\n",
        "print(\"=\"*50)\n",
        "\n",
        "summary_df = pd.DataFrame(topic_analysis)\n",
        "summary_df = summary_df[['topic_id', 'theme', 'size', 'percentage']].head(15)\n",
        "print(summary_df.to_string(index=False))"
      ]
    },
    {
      "cell_type": "markdown",
      "metadata": {
        "id": "vnnE9N8sIRIf"
      },
      "source": [
        "# 5. ADVANCED VISUALIZATIONS"
      ]
    },
    {
      "cell_type": "markdown",
      "metadata": {
        "id": "PrvD7FgoIVIq"
      },
      "source": [
        "1. Horizontal bar chart of top topics\n"
      ]
    },
    {
      "cell_type": "code",
      "execution_count": null,
      "metadata": {
        "colab": {
          "base_uri": "https://localhost:8080/",
          "height": 469
        },
        "id": "Ba6go4gtIRsn",
        "outputId": "5e32db64-9294-4853-ae2c-1f6585bdac16"
      },
      "outputs": [
        {
          "output_type": "execute_result",
          "data": {
            "text/plain": [
              "Text(0.5, 0, 'Number of Documents')"
            ]
          },
          "metadata": {},
          "execution_count": 28
        },
        {
          "output_type": "display_data",
          "data": {
            "text/plain": [
              "<Figure size 1500x1000 with 1 Axes>"
            ],
            "image/png": "[encoded data removed]"
          },
          "metadata": {}
        }
      ],
      "source": [
        "# Topic size visualization\n",
        "plt.figure(figsize=(15, 10))\n",
        "\n",
        "plt.subplot(2, 2, 1)\n",
        "top_topics = summary_df.head(10)\n",
        "plt.barh(range(len(top_topics)), top_topics['size'])\n",
        "plt.yticks(range(len(top_topics)), [f\"T{row['topic_id']}: {row['theme'][:20]}...\"\n",
        "                                   for _, row in top_topics.iterrows()])\n",
        "plt.title('Top 10 Topics by Size')\n",
        "plt.xlabel('Number of Documents')"
      ]
    },
    {
      "cell_type": "markdown",
      "metadata": {
        "id": "oLERk6-rIa3K"
      },
      "source": [
        "2. Topic percentage pie chart\n"
      ]
    },
    {
      "cell_type": "code",
      "execution_count": null,
      "metadata": {
        "colab": {
          "base_uri": "https://localhost:8080/",
          "height": 244
        },
        "id": "FIMVNzd3IZRg",
        "outputId": "225b29ae-0471-4c58-ee55-aac40623e71b"
      },
      "outputs": [
        {
          "output_type": "execute_result",
          "data": {
            "text/plain": [
              "Text(0.5, 1.0, 'Topic Distribution (Top 5)')"
            ]
          },
          "metadata": {},
          "execution_count": 29
        },
        {
          "output_type": "display_data",
          "data": {
            "text/plain": [
              "<Figure size 640x480 with 1 Axes>"
            ],
            "image/png": "[encoded data removed]"
          },
          "metadata": {}
        }
      ],
      "source": [
        "plt.subplot(2, 2, 2)\n",
        "top_5_topics = summary_df.head(5)\n",
        "other_size = summary_df[5:]['size'].sum() if len(summary_df) > 5 else 0\n",
        "sizes = list(top_5_topics['size']) + ([other_size] if other_size > 0 else [])\n",
        "labels = [f\"{row['theme'][:15]}...\" for _, row in top_5_topics.iterrows()] + (['Others'] if other_size > 0 else [])\n",
        "plt.pie(sizes, labels=labels, autopct='%1.1f%%', startangle=90)\n",
        "plt.title('Topic Distribution (Top 5)')"
      ]
    },
    {
      "cell_type": "markdown",
      "metadata": {
        "id": "crA8EvqdIgui"
      },
      "source": [
        "3. Topic size distribution\n"
      ]
    },
    {
      "cell_type": "code",
      "execution_count": null,
      "metadata": {
        "colab": {
          "base_uri": "https://localhost:8080/",
          "height": 287
        },
        "id": "EdkbM7OUIfwS",
        "outputId": "88a73d25-04b6-49ee-a10c-5ada589dd53c"
      },
      "outputs": [
        {
          "output_type": "execute_result",
          "data": {
            "text/plain": [
              "Text(0, 0.5, 'Number of Topics')"
            ]
          },
          "metadata": {},
          "execution_count": 30
        },
        {
          "output_type": "display_data",
          "data": {
            "text/plain": [
              "<Figure size 640x480 with 1 Axes>"
            ],
            "image/png": "[encoded data removed]"
          },
          "metadata": {}
        }
      ],
      "source": [
        "plt.subplot(2, 2, 3)\n",
        "plt.hist([analysis['size'] for analysis in topic_analysis], bins=20, alpha=0.7, color='lightgreen')\n",
        "plt.title('Distribution of Topic Sizes')\n",
        "plt.xlabel('Topic Size (Number of Documents)')\n",
        "plt.ylabel('Number of Topics')"
      ]
    },
    {
      "cell_type": "markdown",
      "metadata": {
        "id": "uSWFpaPyIoql"
      },
      "source": [
        "4. Word cloud preparation (top words from all topics)\n"
      ]
    },
    {
      "cell_type": "code",
      "execution_count": null,
      "metadata": {
        "colab": {
          "base_uri": "https://localhost:8080/",
          "height": 287
        },
        "id": "vzlePBH9Inth",
        "outputId": "0ff80aa9-fb96-4b1d-d776-cd34f25df2a6"
      },
      "outputs": [
        {
          "output_type": "display_data",
          "data": {
            "text/plain": [
              "<Figure size 640x480 with 1 Axes>"
            ],
            "image/png": "[encoded data removed]"
          },
          "metadata": {}
        }
      ],
      "source": [
        "plt.subplot(2, 2, 4)\n",
        "all_words = []\n",
        "for analysis in topic_analysis[:10]:\n",
        "    all_words.extend(analysis['top_words'])\n",
        "word_freq = Counter(all_words)\n",
        "most_common = word_freq.most_common(20)\n",
        "\n",
        "words, freqs = zip(*most_common)\n",
        "plt.barh(range(len(words)), freqs)\n",
        "plt.yticks(range(len(words)), words)\n",
        "plt.title('Most Frequent Words Across Topics')\n",
        "plt.xlabel('Frequency')\n",
        "\n",
        "plt.tight_layout()\n",
        "plt.show()"
      ]
    },
    {
      "cell_type": "markdown",
      "metadata": {
        "id": "leJJIylhIv9j"
      },
      "source": [
        "# 6. SEARCH FUNCTION\n"
      ]
    },
    {
      "cell_type": "code",
      "execution_count": null,
      "metadata": {
        "colab": {
          "base_uri": "https://localhost:8080/"
        },
        "id": "b7NuRdBLIuYw",
        "outputId": "a25e1e04-0d8d-481e-ec68-86fe60e006bd"
      },
      "outputs": [
        {
          "output_type": "stream",
          "name": "stdout",
          "text": [
            "\n",
            "==================================================\n",
            "🔍 SEARCH FUNCTION\n",
            "==================================================\n",
            "🔍 Example searches:\n",
            "🔍 Searching for: 'sholat'\n",
            "\n",
            "📋 Most relevant topics:\n",
            "1. Topic 13: Tema Umum (similarity: 0.753)\n",
            "   📄 Sample hadits:\n",
            "   1. memarfu'kannya nabi shallallahu 'alaihi wasallam, bersabda: \"kalau saja tidak memberatkan orang-oran...\n",
            "   2. mengabarkan berkata; rasulullah shallallahu 'alaihi wasallam bersabda: \"allah tidak menerima shalat ...\n",
            "   3. berkata; rasulullah shallallahu 'alaihi wasallam bersabda: \"kunci shalat bersuci, mengharamkannya (d...\n",
            "   4. berkata; biasanya bilal setelah mengumandangkan adzan, menunggu sejenak, melihat nabi shallallahu 'a...\n",
            "   5. berkata; iqamat shalat dikumandangkan, sementara rasulullah shallallahu alaihi wasallam berbiisik-bi...\n",
            "\n",
            "2. Topic 125: Tema Umum (similarity: 0.747)\n",
            "   📄 Sample hadits:\n",
            "   1. kepadaku berkata; tatkala mendatangi sebagai tentara perang, uqbah amir menjadi gubernur mesir. meng...\n",
            "   2. berkata; berkata; kepadaku berkata; seorang laki-laki bernadzar zaman rasulullah shallallahu 'alaihi...\n",
            "   3. yaitu ibnu ma'mar, berkata; umar abdul aziz menjabat gubernur kota madinah, berkata; rasulullah shal...\n",
            "   4. abdullah berkata; kepadaku berkata; berkata; salah seorang ikut peristiwa hudaibiyah, saudaranya ter...\n",
            "   5. , seorang lelaki juling matanya bani tsaqif, qatadah mengatakan; biasa dipanggil ma'ruf -maksudnya d...\n",
            "\n",
            "3. Topic 76: Tema Umum (similarity: 0.737)\n",
            "   📄 Sample hadits:\n",
            "   1. mengabarkan berkata; mendengar -dari jalur lainnya- mendengar berkata; pelaksanaan shalat mengalami ...\n",
            "   2. berkata; ada seseorang melaksanakan shalat memanjangkan pakaiannya (hingga melewati mata kaki), rasu...\n",
            "   3. mendengarnya berkata; \"mu'adz biasa shalat bersama nabi shallallahu 'alaihi wasallam, kembali menjad...\n",
            "   4. mendengar berkata; \"ketika duduk-duduk di masjid, rasulullah shallallahu 'alaihi wasallam muncul men...\n",
            "   5. mengabarkan berkata; berkata; wahai rasulullah, sesungguhnya memiliki perkampungan tinggal di sana a...\n",
            "\n",
            "------------------------------\n",
            "🔍 Searching for: 'makanan'\n",
            "\n",
            "📋 Most relevant topics:\n",
            "1. Topic 3: Makanan dan Minuman (similarity: 0.650)\n",
            "   📄 Sample hadits:\n",
            "   1. berkata; rasulullah shallallahu 'alaihi wasallam pernah ditanya berwudhu makan daging unta. shallall...\n",
            "   2. berkata mengabarkan berkata; pernah mendengar berkata; pernah mempersembahkan nabi shallallahu 'alai...\n",
            "   3. berkata; pernah menggigit daging, sementara haidl, daging berikan nabi shallallahu 'alaihi wasallam,...\n",
            "   4. berkata; kencing anak perempuan dicuci sedangkan kencing anak laki-laki cukup diperciki, selama belu...\n",
            "   5. mengabarkan , , , , , berkata; datang rasulullah shallallahu 'alaihi wasallam. mu'awiyah berkata; ka...\n",
            "\n",
            "2. Topic 203: Makanan dan Minuman (similarity: 0.529)\n",
            "   📄 Sample hadits:\n",
            "   1. mengabarkan berkata; \"kami melaksanakan qailulah (tidur siang) makan siang setelah melaksanakan shal...\n",
            "   2. secara makna, ahmad berkata; kepadaku berkata; kepadaku nabi shallallahu 'alaihi wasallam bersabda: ...\n",
            "   3. berkata, \"aku pernah bersama ayahku zaman kekhilafahan ibnu az zubair menuju , 'abbad abdullah az zu...\n",
            "   4. (ahmad hanbal radliyallahu'anhu) berkata; berkata; berkata; melihat beberapa orang beristirahat maka...\n",
            "   5. berkata, berkata, kepadaku, katanya: \"aku mendengar berkata,, nabi shallallahu 'alaihi wasallam bers...\n",
            "\n",
            "3. Topic 53: Zakat dan Sedekah (similarity: 0.486)\n",
            "   📄 Sample hadits:\n",
            "   1. berkata; rasulullah shallallahu 'alaihi wasallam bersabda: \"barangsiapa meninggalkan jum'at tanpa ad...\n",
            "   2. , malik membacakannya kepadaku juga, rasulullah shallallahu wa'alaihi wa sallam mewajibkan zakat fit...\n",
            "   3. , di ganti jalur periwayatan lain, nabi shallallahu wa'alaihi wa sallam mewajibkan zakat fitrah, sat...\n",
            "   4. , berkata; dahulu orang-orang mengeluarkan zakat fitrah zaman nabi shallallahu 'alaihi wasallam satu...\n",
            "   5. serta , berkata; , berkata; berkata; setelah orang-orang beralih setengah sha' gandum. nafi' berkata...\n",
            "\n",
            "------------------------------\n",
            "🔍 Searching for: 'keluarga'\n",
            "\n",
            "📋 Most relevant topics:\n",
            "1. Topic 11: Tema Umum (similarity: 0.624)\n",
            "   📄 Sample hadits:\n",
            "   1. berkata, berkata, \"orang merdeka tidak boleh diqishas (membunuh) seorang budak.\"...\n",
            "   2. berkata; berkata; mendengar berkata,: \"aku ibuku termasuk orang-orang lemah, golongan anak-anak ibuk...\n",
            "   3. bercerita berkata; dahulu harta warisan menjadi milik anak sedangkan wasiat hak kedua orangtua. alla...\n",
            "   4. mengabarkan yaitu ibu aisyah berkata; 'tatkala aisyah dituduh berbuat keji, tersungkur pingsan karen...\n",
            "   5. berkata; pernah melihatnya sebagai seorang budak. maksudnya, suami barirah....\n",
            "\n",
            "2. Topic 140: Pernikahan dan Keluarga (similarity: 0.527)\n",
            "   📄 Sample hadits:\n",
            "   1. , , , , , berkata; rasulullah shallallahu 'alaihi wasallam bersabda: \"tidak boleh seorang wanita din...\n",
            "   2. , , mengabarkan kepadaku , mengabarkan kepadaku mendengar berkata; rasulullah shallallahu 'alaihi wa...\n",
            "   3. , , nabi shallallahu 'alaihi wasallam tidak menyukai menggabungkan (dalam satu perkawinan) antara se...\n",
            "   4. mengabarkan mengabarkan mendengar radliallahu 'anhu berkata; \"rasulullah shallallahu 'alaihi wasalla...\n",
            "   5. mengabarkan radliallahu 'anhu rasulullah shallallahu 'alaihi wasallam bersabda: \"seorang wanita tida...\n",
            "\n",
            "3. Topic 172: Rasulullah dan Kenabian (similarity: 0.437)\n",
            "   📄 Sample hadits:\n",
            "   1. berkata; bertanya -atau- bertanya; \"wahai rasulullah, anda memerintahkan bershalawat salam anda, men...\n",
            "   2. . di riwayatkan jalur lain, mengabarkan mengabarkan kepadaku berkata; mengabarkan kepadaku bertanya;...\n",
            "   3. , , mengabarkan , mengabarkan kepadaku , mengabarkan kepadanya memberitahukan kepadanya rasulullah s...\n",
            "   4. mengabarkan , seorang laki-laki berkata nabi shallallahu 'alaihi wasallam: \"wahai rasulullah, tahu b...\n",
            "   5. berkata, kepadaku berkata, mengabarkan berkata, mendengar berkata; menemuiku, berkata; berkata, \"mau...\n",
            "\n",
            "------------------------------\n"
          ]
        }
      ],
      "source": [
        "print(\"\\n\" + \"=\"*50)\n",
        "print(\"🔍 SEARCH FUNCTION\")\n",
        "print(\"=\"*50)\n",
        "\n",
        "def search_hadits_by_topic(query, top_k=5):\n",
        "    \"\"\"\n",
        "    Fungsi untuk mencari hadits berdasarkan query\n",
        "    \"\"\"\n",
        "    print(f\"🔍 Searching for: '{query}'\")\n",
        "\n",
        "    # Find similar topics\n",
        "    query_embedding = topic_model._extract_embeddings([query])\n",
        "    similarities = []\n",
        "\n",
        "    for topic_id in set(topics):\n",
        "        if topic_id == -1:\n",
        "            continue\n",
        "\n",
        "        topic_words = topic_model.get_topic(topic_id)\n",
        "        topic_text = ' '.join([word for word, score in topic_words[:20]])\n",
        "        topic_embedding = topic_model._extract_embeddings([topic_text])\n",
        "\n",
        "        # Calculate cosine similarity\n",
        "        similarity = np.dot(query_embedding[0], topic_embedding[0]) / (\n",
        "            np.linalg.norm(query_embedding[0]) * np.linalg.norm(topic_embedding[0])\n",
        "        )\n",
        "        similarities.append((topic_id, similarity))\n",
        "\n",
        "    # Sort by similarity\n",
        "    similarities.sort(key=lambda x: x[1], reverse=True)\n",
        "\n",
        "    print(f\"\\n📋 Most relevant topics:\")\n",
        "    for i, (topic_id, sim) in enumerate(similarities[:3]):\n",
        "        topic_info = next(a for a in topic_analysis if a['topic_id'] == topic_id)\n",
        "        print(f\"{i+1}. Topic {topic_id}: {topic_info['theme']} (similarity: {sim:.3f})\")\n",
        "\n",
        "        # Show sample hadits from this topic\n",
        "        topic_docs_idx = [j for j, t in enumerate(topics) if t == topic_id]\n",
        "        sample_docs = topic_docs_idx[:top_k]\n",
        "\n",
        "        print(f\"   📄 Sample hadits:\")\n",
        "        for j, doc_idx in enumerate(sample_docs):\n",
        "            print(f\"   {j+1}. {documents[doc_idx][:100]}...\")\n",
        "        print()\n",
        "\n",
        "# Example searches\n",
        "print(\"🔍 Example searches:\")\n",
        "search_queries = [\"sholat\", \"makanan\", \"keluarga\"]\n",
        "\n",
        "for query in search_queries:\n",
        "    search_hadits_by_topic(query)\n",
        "    print(\"-\" * 30)"
      ]
    },
    {
      "cell_type": "markdown",
      "metadata": {
        "id": "-QViYkkFJf8D"
      },
      "source": [
        "# 7. SAVE FINAL RESULTS\n"
      ]
    },
    {
      "cell_type": "code",
      "execution_count": null,
      "metadata": {
        "colab": {
          "base_uri": "https://localhost:8080/"
        },
        "id": "qqYnenxvJOPs",
        "outputId": "f8b48dae-cc4d-4ed5-eec2-02eeada7dbf0"
      },
      "outputs": [
        {
          "output_type": "stream",
          "name": "stdout",
          "text": [
            "\n",
            "==================================================\n",
            "💾 SAVING FINAL RESULTS\n",
            "==================================================\n",
            "✅ Final results saved as 'hadits_final_results.csv'\n",
            "✅ Topic analysis saved as 'topic_analysis_summary.csv'\n",
            "\n",
            "==================================================\n",
            "🎉 CLUSTERING ANALYSIS COMPLETED!\n",
            "==================================================\n",
            "📊 Final Summary:\n",
            "   - Total hadits processed: 38,100\n",
            "   - Topics discovered: 300\n",
            "   - Largest topic: 1124 hadits\n",
            "   - Analysis saved: ✅\n",
            "   - Search function: ✅\n",
            "   - Ready for deployment: ✅\n"
          ]
        }
      ],
      "source": [
        "print(\"\\n\" + \"=\"*50)\n",
        "print(\"💾 SAVING FINAL RESULTS\")\n",
        "print(\"=\"*50)\n",
        "\n",
        "# Add interpreted themes to dataframe\n",
        "theme_mapping = {analysis['topic_id']: analysis['theme'] for analysis in topic_analysis}\n",
        "theme_mapping[-1] = \"Uncategorized\"  # For outliers\n",
        "\n",
        "df_sample['topic_theme'] = df_sample['topic'].map(theme_mapping)\n",
        "\n",
        "# Save final results\n",
        "df_sample.to_csv('hadits_final_results.csv', index=False)\n",
        "print(\"✅ Final results saved as 'hadits_final_results.csv'\")\n",
        "\n",
        "# Save topic analysis\n",
        "pd.DataFrame(topic_analysis).to_csv('topic_analysis_summary.csv', index=False)\n",
        "print(\"✅ Topic analysis saved as 'topic_analysis_summary.csv'\")\n",
        "\n",
        "print(\"\\n\" + \"=\"*50)\n",
        "print(\"🎉 CLUSTERING ANALYSIS COMPLETED!\")\n",
        "print(\"=\"*50)\n",
        "print(\"📊 Final Summary:\")\n",
        "print(f\"   - Total hadits processed: {len(df_sample):,}\")\n",
        "print(f\"   - Topics discovered: {len(topic_analysis)}\")\n",
        "print(f\"   - Largest topic: {max(analysis['size'] for analysis in topic_analysis)} hadits\")\n",
        "print(f\"   - Analysis saved: ✅\")\n",
        "print(f\"   - Search function: ✅\")\n",
        "print(f\"   - Ready for deployment: ✅\")"
      ]
    },
    {
      "cell_type": "code",
      "source": [
        "!pip freeze > requirements.txt"
      ],
      "metadata": {
        "id": "7Qi1wY-EBVnn"
      },
      "execution_count": null,
      "outputs": []
    }
  ],
  "metadata": {
    "colab": {
      "provenance": []
    },
    "kernelspec": {
      "display_name": "Python 3",
      "name": "python3"
    },
    "language_info": {
      "name": "python"
    },
    "widgets": {
      "application/vnd.jupyter.widget-state+json": {
        "06a99318533541cd8918f995ccc32f22": {
          "model_module": "@jupyter-widgets/controls",
          "model_name": "HBoxModel",
          "model_module_version": "1.5.0",
          "state": {
            "_dom_classes": [],
            "_model_module": "@jupyter-widgets/controls",
            "_model_module_version": "1.5.0",
            "_model_name": "HBoxModel",
            "_view_count": null,
            "_view_module": "@jupyter-widgets/controls",
            "_view_module_version": "1.5.0",
            "_view_name": "HBoxView",
            "box_style": "",
            "children": [
              "IPY_MODEL_acb709bb15d3442eaa6e3d28c298ead1",
              "IPY_MODEL_43ecbb3c0a994258b0635e934b0084be",
              "IPY_MODEL_a915f06c5eea4331bd8bffcf8f21355b"
            ],
            "layout": "IPY_MODEL_bf598124352345289056a3ffc0261c4b"
          }
        },
        "acb709bb15d3442eaa6e3d28c298ead1": {
          "model_module": "@jupyter-widgets/controls",
          "model_name": "HTMLModel",
          "model_module_version": "1.5.0",
          "state": {
            "_dom_classes": [],
            "_model_module": "@jupyter-widgets/controls",
            "_model_module_version": "1.5.0",
            "_model_name": "HTMLModel",
            "_view_count": null,
            "_view_module": "@jupyter-widgets/controls",
            "_view_module_version": "1.5.0",
            "_view_name": "HTMLView",
            "description": "",
            "description_tooltip": null,
            "layout": "IPY_MODEL_75725a85bfca4c7b8b02db332710883e",
            "placeholder": "​",
            "style": "IPY_MODEL_7df1086dabae4d69aab02f68c39aedc8",
            "value": "modules.json: 100%"
          }
        },
        "43ecbb3c0a994258b0635e934b0084be": {
          "model_module": "@jupyter-widgets/controls",
          "model_name": "FloatProgressModel",
          "model_module_version": "1.5.0",
          "state": {
            "_dom_classes": [],
            "_model_module": "@jupyter-widgets/controls",
            "_model_module_version": "1.5.0",
            "_model_name": "FloatProgressModel",
            "_view_count": null,
            "_view_module": "@jupyter-widgets/controls",
            "_view_module_version": "1.5.0",
            "_view_name": "ProgressView",
            "bar_style": "success",
            "description": "",
            "description_tooltip": null,
            "layout": "IPY_MODEL_b83e3628c03d47a08a337165c245fb9c",
            "max": 229,
            "min": 0,
            "orientation": "horizontal",
            "style": "IPY_MODEL_92e8286833ae4daebe9e8229164fcf5b",
            "value": 229
          }
        },
        "a915f06c5eea4331bd8bffcf8f21355b": {
          "model_module": "@jupyter-widgets/controls",
          "model_name": "HTMLModel",
          "model_module_version": "1.5.0",
          "state": {
            "_dom_classes": [],
            "_model_module": "@jupyter-widgets/controls",
            "_model_module_version": "1.5.0",
            "_model_name": "HTMLModel",
            "_view_count": null,
            "_view_module": "@jupyter-widgets/controls",
            "_view_module_version": "1.5.0",
            "_view_name": "HTMLView",
            "description": "",
            "description_tooltip": null,
            "layout": "IPY_MODEL_2f71b635e92e454393529f7fe8ea2229",
            "placeholder": "​",
            "style": "IPY_MODEL_a98e5f2f0d304215b790e81967ce7a83",
            "value": " 229/229 [00:00&lt;00:00, 14.8kB/s]"
          }
        },
        "bf598124352345289056a3ffc0261c4b": {
          "model_module": "@jupyter-widgets/base",
          "model_name": "LayoutModel",
          "model_module_version": "1.2.0",
          "state": {
            "_model_module": "@jupyter-widgets/base",
            "_model_module_version": "1.2.0",
            "_model_name": "LayoutModel",
            "_view_count": null,
            "_view_module": "@jupyter-widgets/base",
            "_view_module_version": "1.2.0",
            "_view_name": "LayoutView",
            "align_content": null,
            "align_items": null,
            "align_self": null,
            "border": null,
            "bottom": null,
            "display": null,
            "flex": null,
            "flex_flow": null,
            "grid_area": null,
            "grid_auto_columns": null,
            "grid_auto_flow": null,
            "grid_auto_rows": null,
            "grid_column": null,
            "grid_gap": null,
            "grid_row": null,
            "grid_template_areas": null,
            "grid_template_columns": null,
            "grid_template_rows": null,
            "height": null,
            "justify_content": null,
            "justify_items": null,
            "left": null,
            "margin": null,
            "max_height": null,
            "max_width": null,
            "min_height": null,
            "min_width": null,
            "object_fit": null,
            "object_position": null,
            "order": null,
            "overflow": null,
            "overflow_x": null,
            "overflow_y": null,
            "padding": null,
            "right": null,
            "top": null,
            "visibility": null,
            "width": null
          }
        },
        "75725a85bfca4c7b8b02db332710883e": {
          "model_module": "@jupyter-widgets/base",
          "model_name": "LayoutModel",
          "model_module_version": "1.2.0",
          "state": {
            "_model_module": "@jupyter-widgets/base",
            "_model_module_version": "1.2.0",
            "_model_name": "LayoutModel",
            "_view_count": null,
            "_view_module": "@jupyter-widgets/base",
            "_view_module_version": "1.2.0",
            "_view_name": "LayoutView",
            "align_content": null,
            "align_items": null,
            "align_self": null,
            "border": null,
            "bottom": null,
            "display": null,
            "flex": null,
            "flex_flow": null,
            "grid_area": null,
            "grid_auto_columns": null,
            "grid_auto_flow": null,
            "grid_auto_rows": null,
            "grid_column": null,
            "grid_gap": null,
            "grid_row": null,
            "grid_template_areas": null,
            "grid_template_columns": null,
            "grid_template_rows": null,
            "height": null,
            "justify_content": null,
            "justify_items": null,
            "left": null,
            "margin": null,
            "max_height": null,
            "max_width": null,
            "min_height": null,
            "min_width": null,
            "object_fit": null,
            "object_position": null,
            "order": null,
            "overflow": null,
            "overflow_x": null,
            "overflow_y": null,
            "padding": null,
            "right": null,
            "top": null,
            "visibility": null,
            "width": null
          }
        },
        "7df1086dabae4d69aab02f68c39aedc8": {
          "model_module": "@jupyter-widgets/controls",
          "model_name": "DescriptionStyleModel",
          "model_module_version": "1.5.0",
          "state": {
            "_model_module": "@jupyter-widgets/controls",
            "_model_module_version": "1.5.0",
            "_model_name": "DescriptionStyleModel",
            "_view_count": null,
            "_view_module": "@jupyter-widgets/base",
            "_view_module_version": "1.2.0",
            "_view_name": "StyleView",
            "description_width": ""
          }
        },
        "b83e3628c03d47a08a337165c245fb9c": {
          "model_module": "@jupyter-widgets/base",
          "model_name": "LayoutModel",
          "model_module_version": "1.2.0",
          "state": {
            "_model_module": "@jupyter-widgets/base",
            "_model_module_version": "1.2.0",
            "_model_name": "LayoutModel",
            "_view_count": null,
            "_view_module": "@jupyter-widgets/base",
            "_view_module_version": "1.2.0",
            "_view_name": "LayoutView",
            "align_content": null,
            "align_items": null,
            "align_self": null,
            "border": null,
            "bottom": null,
            "display": null,
            "flex": null,
            "flex_flow": null,
            "grid_area": null,
            "grid_auto_columns": null,
            "grid_auto_flow": null,
            "grid_auto_rows": null,
            "grid_column": null,
            "grid_gap": null,
            "grid_row": null,
            "grid_template_areas": null,
            "grid_template_columns": null,
            "grid_template_rows": null,
            "height": null,
            "justify_content": null,
            "justify_items": null,
            "left": null,
            "margin": null,
            "max_height": null,
            "max_width": null,
            "min_height": null,
            "min_width": null,
            "object_fit": null,
            "object_position": null,
            "order": null,
            "overflow": null,
            "overflow_x": null,
            "overflow_y": null,
            "padding": null,
            "right": null,
            "top": null,
            "visibility": null,
            "width": null
          }
        },
        "92e8286833ae4daebe9e8229164fcf5b": {
          "model_module": "@jupyter-widgets/controls",
          "model_name": "ProgressStyleModel",
          "model_module_version": "1.5.0",
          "state": {
            "_model_module": "@jupyter-widgets/controls",
            "_model_module_version": "1.5.0",
            "_model_name": "ProgressStyleModel",
            "_view_count": null,
            "_view_module": "@jupyter-widgets/base",
            "_view_module_version": "1.2.0",
            "_view_name": "StyleView",
            "bar_color": null,
            "description_width": ""
          }
        },
        "2f71b635e92e454393529f7fe8ea2229": {
          "model_module": "@jupyter-widgets/base",
          "model_name": "LayoutModel",
          "model_module_version": "1.2.0",
          "state": {
            "_model_module": "@jupyter-widgets/base",
            "_model_module_version": "1.2.0",
            "_model_name": "LayoutModel",
            "_view_count": null,
            "_view_module": "@jupyter-widgets/base",
            "_view_module_version": "1.2.0",
            "_view_name": "LayoutView",
            "align_content": null,
            "align_items": null,
            "align_self": null,
            "border": null,
            "bottom": null,
            "display": null,
            "flex": null,
            "flex_flow": null,
            "grid_area": null,
            "grid_auto_columns": null,
            "grid_auto_flow": null,
            "grid_auto_rows": null,
            "grid_column": null,
            "grid_gap": null,
            "grid_row": null,
            "grid_template_areas": null,
            "grid_template_columns": null,
            "grid_template_rows": null,
            "height": null,
            "justify_content": null,
            "justify_items": null,
            "left": null,
            "margin": null,
            "max_height": null,
            "max_width": null,
            "min_height": null,
            "min_width": null,
            "object_fit": null,
            "object_position": null,
            "order": null,
            "overflow": null,
            "overflow_x": null,
            "overflow_y": null,
            "padding": null,
            "right": null,
            "top": null,
            "visibility": null,
            "width": null
          }
        },
        "a98e5f2f0d304215b790e81967ce7a83": {
          "model_module": "@jupyter-widgets/controls",
          "model_name": "DescriptionStyleModel",
          "model_module_version": "1.5.0",
          "state": {
            "_model_module": "@jupyter-widgets/controls",
            "_model_module_version": "1.5.0",
            "_model_name": "DescriptionStyleModel",
            "_view_count": null,
            "_view_module": "@jupyter-widgets/base",
            "_view_module_version": "1.2.0",
            "_view_name": "StyleView",
            "description_width": ""
          }
        },
        "f28e0abab7a3453c8fa1097a3a4afc97": {
          "model_module": "@jupyter-widgets/controls",
          "model_name": "HBoxModel",
          "model_module_version": "1.5.0",
          "state": {
            "_dom_classes": [],
            "_model_module": "@jupyter-widgets/controls",
            "_model_module_version": "1.5.0",
            "_model_name": "HBoxModel",
            "_view_count": null,
            "_view_module": "@jupyter-widgets/controls",
            "_view_module_version": "1.5.0",
            "_view_name": "HBoxView",
            "box_style": "",
            "children": [
              "IPY_MODEL_9adaec9b84934cbab938f57b2b96d005",
              "IPY_MODEL_0d2f1c6aa698452bb3211fe0ff2bcd76",
              "IPY_MODEL_71fc26934d3341b3a5574f1fd10c0552"
            ],
            "layout": "IPY_MODEL_f41587237b37456894723bc4cb88b445"
          }
        },
        "9adaec9b84934cbab938f57b2b96d005": {
          "model_module": "@jupyter-widgets/controls",
          "model_name": "HTMLModel",
          "model_module_version": "1.5.0",
          "state": {
            "_dom_classes": [],
            "_model_module": "@jupyter-widgets/controls",
            "_model_module_version": "1.5.0",
            "_model_name": "HTMLModel",
            "_view_count": null,
            "_view_module": "@jupyter-widgets/controls",
            "_view_module_version": "1.5.0",
            "_view_name": "HTMLView",
            "description": "",
            "description_tooltip": null,
            "layout": "IPY_MODEL_aadbfa8c011445ad8e32a3ff776fcc0e",
            "placeholder": "​",
            "style": "IPY_MODEL_492880f162fd4c16979836ab70650656",
            "value": "config_sentence_transformers.json: 100%"
          }
        },
        "0d2f1c6aa698452bb3211fe0ff2bcd76": {
          "model_module": "@jupyter-widgets/controls",
          "model_name": "FloatProgressModel",
          "model_module_version": "1.5.0",
          "state": {
            "_dom_classes": [],
            "_model_module": "@jupyter-widgets/controls",
            "_model_module_version": "1.5.0",
            "_model_name": "FloatProgressModel",
            "_view_count": null,
            "_view_module": "@jupyter-widgets/controls",
            "_view_module_version": "1.5.0",
            "_view_name": "ProgressView",
            "bar_style": "success",
            "description": "",
            "description_tooltip": null,
            "layout": "IPY_MODEL_e1851d6830b24caca3b2b4acaea7214e",
            "max": 122,
            "min": 0,
            "orientation": "horizontal",
            "style": "IPY_MODEL_905fcb5098fc43aeb9773241a1765200",
            "value": 122
          }
        },
        "71fc26934d3341b3a5574f1fd10c0552": {
          "model_module": "@jupyter-widgets/controls",
          "model_name": "HTMLModel",
          "model_module_version": "1.5.0",
          "state": {
            "_dom_classes": [],
            "_model_module": "@jupyter-widgets/controls",
            "_model_module_version": "1.5.0",
            "_model_name": "HTMLModel",
            "_view_count": null,
            "_view_module": "@jupyter-widgets/controls",
            "_view_module_version": "1.5.0",
            "_view_name": "HTMLView",
            "description": "",
            "description_tooltip": null,
            "layout": "IPY_MODEL_87de2683cf2d46fba867a531238096d3",
            "placeholder": "​",
            "style": "IPY_MODEL_a7f9dcecf8d24df782e33c08c681c936",
            "value": " 122/122 [00:00&lt;00:00, 9.70kB/s]"
          }
        },
        "f41587237b37456894723bc4cb88b445": {
          "model_module": "@jupyter-widgets/base",
          "model_name": "LayoutModel",
          "model_module_version": "1.2.0",
          "state": {
            "_model_module": "@jupyter-widgets/base",
            "_model_module_version": "1.2.0",
            "_model_name": "LayoutModel",
            "_view_count": null,
            "_view_module": "@jupyter-widgets/base",
            "_view_module_version": "1.2.0",
            "_view_name": "LayoutView",
            "align_content": null,
            "align_items": null,
            "align_self": null,
            "border": null,
            "bottom": null,
            "display": null,
            "flex": null,
            "flex_flow": null,
            "grid_area": null,
            "grid_auto_columns": null,
            "grid_auto_flow": null,
            "grid_auto_rows": null,
            "grid_column": null,
            "grid_gap": null,
            "grid_row": null,
            "grid_template_areas": null,
            "grid_template_columns": null,
            "grid_template_rows": null,
            "height": null,
            "justify_content": null,
            "justify_items": null,
            "left": null,
            "margin": null,
            "max_height": null,
            "max_width": null,
            "min_height": null,
            "min_width": null,
            "object_fit": null,
            "object_position": null,
            "order": null,
            "overflow": null,
            "overflow_x": null,
            "overflow_y": null,
            "padding": null,
            "right": null,
            "top": null,
            "visibility": null,
            "width": null
          }
        },
        "aadbfa8c011445ad8e32a3ff776fcc0e": {
          "model_module": "@jupyter-widgets/base",
          "model_name": "LayoutModel",
          "model_module_version": "1.2.0",
          "state": {
            "_model_module": "@jupyter-widgets/base",
            "_model_module_version": "1.2.0",
            "_model_name": "LayoutModel",
            "_view_count": null,
            "_view_module": "@jupyter-widgets/base",
            "_view_module_version": "1.2.0",
            "_view_name": "LayoutView",
            "align_content": null,
            "align_items": null,
            "align_self": null,
            "border": null,
            "bottom": null,
            "display": null,
            "flex": null,
            "flex_flow": null,
            "grid_area": null,
            "grid_auto_columns": null,
            "grid_auto_flow": null,
            "grid_auto_rows": null,
            "grid_column": null,
            "grid_gap": null,
            "grid_row": null,
            "grid_template_areas": null,
            "grid_template_columns": null,
            "grid_template_rows": null,
            "height": null,
            "justify_content": null,
            "justify_items": null,
            "left": null,
            "margin": null,
            "max_height": null,
            "max_width": null,
            "min_height": null,
            "min_width": null,
            "object_fit": null,
            "object_position": null,
            "order": null,
            "overflow": null,
            "overflow_x": null,
            "overflow_y": null,
            "padding": null,
            "right": null,
            "top": null,
            "visibility": null,
            "width": null
          }
        },
        "492880f162fd4c16979836ab70650656": {
          "model_module": "@jupyter-widgets/controls",
          "model_name": "DescriptionStyleModel",
          "model_module_version": "1.5.0",
          "state": {
            "_model_module": "@jupyter-widgets/controls",
            "_model_module_version": "1.5.0",
            "_model_name": "DescriptionStyleModel",
            "_view_count": null,
            "_view_module": "@jupyter-widgets/base",
            "_view_module_version": "1.2.0",
            "_view_name": "StyleView",
            "description_width": ""
          }
        },
        "e1851d6830b24caca3b2b4acaea7214e": {
          "model_module": "@jupyter-widgets/base",
          "model_name": "LayoutModel",
          "model_module_version": "1.2.0",
          "state": {
            "_model_module": "@jupyter-widgets/base",
            "_model_module_version": "1.2.0",
            "_model_name": "LayoutModel",
            "_view_count": null,
            "_view_module": "@jupyter-widgets/base",
            "_view_module_version": "1.2.0",
            "_view_name": "LayoutView",
            "align_content": null,
            "align_items": null,
            "align_self": null,
            "border": null,
            "bottom": null,
            "display": null,
            "flex": null,
            "flex_flow": null,
            "grid_area": null,
            "grid_auto_columns": null,
            "grid_auto_flow": null,
            "grid_auto_rows": null,
            "grid_column": null,
            "grid_gap": null,
            "grid_row": null,
            "grid_template_areas": null,
            "grid_template_columns": null,
            "grid_template_rows": null,
            "height": null,
            "justify_content": null,
            "justify_items": null,
            "left": null,
            "margin": null,
            "max_height": null,
            "max_width": null,
            "min_height": null,
            "min_width": null,
            "object_fit": null,
            "object_position": null,
            "order": null,
            "overflow": null,
            "overflow_x": null,
            "overflow_y": null,
            "padding": null,
            "right": null,
            "top": null,
            "visibility": null,
            "width": null
          }
        },
        "905fcb5098fc43aeb9773241a1765200": {
          "model_module": "@jupyter-widgets/controls",
          "model_name": "ProgressStyleModel",
          "model_module_version": "1.5.0",
          "state": {
            "_model_module": "@jupyter-widgets/controls",
            "_model_module_version": "1.5.0",
            "_model_name": "ProgressStyleModel",
            "_view_count": null,
            "_view_module": "@jupyter-widgets/base",
            "_view_module_version": "1.2.0",
            "_view_name": "StyleView",
            "bar_color": null,
            "description_width": ""
          }
        },
        "87de2683cf2d46fba867a531238096d3": {
          "model_module": "@jupyter-widgets/base",
          "model_name": "LayoutModel",
          "model_module_version": "1.2.0",
          "state": {
            "_model_module": "@jupyter-widgets/base",
            "_model_module_version": "1.2.0",
            "_model_name": "LayoutModel",
            "_view_count": null,
            "_view_module": "@jupyter-widgets/base",
            "_view_module_version": "1.2.0",
            "_view_name": "LayoutView",
            "align_content": null,
            "align_items": null,
            "align_self": null,
            "border": null,
            "bottom": null,
            "display": null,
            "flex": null,
            "flex_flow": null,
            "grid_area": null,
            "grid_auto_columns": null,
            "grid_auto_flow": null,
            "grid_auto_rows": null,
            "grid_column": null,
            "grid_gap": null,
            "grid_row": null,
            "grid_template_areas": null,
            "grid_template_columns": null,
            "grid_template_rows": null,
            "height": null,
            "justify_content": null,
            "justify_items": null,
            "left": null,
            "margin": null,
            "max_height": null,
            "max_width": null,
            "min_height": null,
            "min_width": null,
            "object_fit": null,
            "object_position": null,
            "order": null,
            "overflow": null,
            "overflow_x": null,
            "overflow_y": null,
            "padding": null,
            "right": null,
            "top": null,
            "visibility": null,
            "width": null
          }
        },
        "a7f9dcecf8d24df782e33c08c681c936": {
          "model_module": "@jupyter-widgets/controls",
          "model_name": "DescriptionStyleModel",
          "model_module_version": "1.5.0",
          "state": {
            "_model_module": "@jupyter-widgets/controls",
            "_model_module_version": "1.5.0",
            "_model_name": "DescriptionStyleModel",
            "_view_count": null,
            "_view_module": "@jupyter-widgets/base",
            "_view_module_version": "1.2.0",
            "_view_name": "StyleView",
            "description_width": ""
          }
        },
        "12c5021b7320467abbf2f5928549feb0": {
          "model_module": "@jupyter-widgets/controls",
          "model_name": "HBoxModel",
          "model_module_version": "1.5.0",
          "state": {
            "_dom_classes": [],
            "_model_module": "@jupyter-widgets/controls",
            "_model_module_version": "1.5.0",
            "_model_name": "HBoxModel",
            "_view_count": null,
            "_view_module": "@jupyter-widgets/controls",
            "_view_module_version": "1.5.0",
            "_view_name": "HBoxView",
            "box_style": "",
            "children": [
              "IPY_MODEL_67acb0c7a9b44b5eb7b1d22954b83ee8",
              "IPY_MODEL_084e9c988f204dbd966fe1d6085aca67",
              "IPY_MODEL_a020e823d33848dd9348af9ee221f8f0"
            ],
            "layout": "IPY_MODEL_92d1f371eedd49baa7bb977f184b4cb9"
          }
        },
        "67acb0c7a9b44b5eb7b1d22954b83ee8": {
          "model_module": "@jupyter-widgets/controls",
          "model_name": "HTMLModel",
          "model_module_version": "1.5.0",
          "state": {
            "_dom_classes": [],
            "_model_module": "@jupyter-widgets/controls",
            "_model_module_version": "1.5.0",
            "_model_name": "HTMLModel",
            "_view_count": null,
            "_view_module": "@jupyter-widgets/controls",
            "_view_module_version": "1.5.0",
            "_view_name": "HTMLView",
            "description": "",
            "description_tooltip": null,
            "layout": "IPY_MODEL_a351996d91894ca2958ec0bd540af2fd",
            "placeholder": "​",
            "style": "IPY_MODEL_34192c2a0c634e3690b215d21c145ab2",
            "value": "README.md: "
          }
        },
        "084e9c988f204dbd966fe1d6085aca67": {
          "model_module": "@jupyter-widgets/controls",
          "model_name": "FloatProgressModel",
          "model_module_version": "1.5.0",
          "state": {
            "_dom_classes": [],
            "_model_module": "@jupyter-widgets/controls",
            "_model_module_version": "1.5.0",
            "_model_name": "FloatProgressModel",
            "_view_count": null,
            "_view_module": "@jupyter-widgets/controls",
            "_view_module_version": "1.5.0",
            "_view_name": "ProgressView",
            "bar_style": "success",
            "description": "",
            "description_tooltip": null,
            "layout": "IPY_MODEL_23de58dd98ea4fcab08f41a16b75e373",
            "max": 1,
            "min": 0,
            "orientation": "horizontal",
            "style": "IPY_MODEL_68d2239da184428f80bbf1c8da9d8c3b",
            "value": 1
          }
        },
        "a020e823d33848dd9348af9ee221f8f0": {
          "model_module": "@jupyter-widgets/controls",
          "model_name": "HTMLModel",
          "model_module_version": "1.5.0",
          "state": {
            "_dom_classes": [],
            "_model_module": "@jupyter-widgets/controls",
            "_model_module_version": "1.5.0",
            "_model_name": "HTMLModel",
            "_view_count": null,
            "_view_module": "@jupyter-widgets/controls",
            "_view_module_version": "1.5.0",
            "_view_name": "HTMLView",
            "description": "",
            "description_tooltip": null,
            "layout": "IPY_MODEL_73c6627440ce4413b51e463120481d62",
            "placeholder": "​",
            "style": "IPY_MODEL_66f8eaf9939949d8a7c3d5cbaa6dac66",
            "value": " 3.89k/? [00:00&lt;00:00, 272kB/s]"
          }
        },
        "92d1f371eedd49baa7bb977f184b4cb9": {
          "model_module": "@jupyter-widgets/base",
          "model_name": "LayoutModel",
          "model_module_version": "1.2.0",
          "state": {
            "_model_module": "@jupyter-widgets/base",
            "_model_module_version": "1.2.0",
            "_model_name": "LayoutModel",
            "_view_count": null,
            "_view_module": "@jupyter-widgets/base",
            "_view_module_version": "1.2.0",
            "_view_name": "LayoutView",
            "align_content": null,
            "align_items": null,
            "align_self": null,
            "border": null,
            "bottom": null,
            "display": null,
            "flex": null,
            "flex_flow": null,
            "grid_area": null,
            "grid_auto_columns": null,
            "grid_auto_flow": null,
            "grid_auto_rows": null,
            "grid_column": null,
            "grid_gap": null,
            "grid_row": null,
            "grid_template_areas": null,
            "grid_template_columns": null,
            "grid_template_rows": null,
            "height": null,
            "justify_content": null,
            "justify_items": null,
            "left": null,
            "margin": null,
            "max_height": null,
            "max_width": null,
            "min_height": null,
            "min_width": null,
            "object_fit": null,
            "object_position": null,
            "order": null,
            "overflow": null,
            "overflow_x": null,
            "overflow_y": null,
            "padding": null,
            "right": null,
            "top": null,
            "visibility": null,
            "width": null
          }
        },
        "a351996d91894ca2958ec0bd540af2fd": {
          "model_module": "@jupyter-widgets/base",
          "model_name": "LayoutModel",
          "model_module_version": "1.2.0",
          "state": {
            "_model_module": "@jupyter-widgets/base",
            "_model_module_version": "1.2.0",
            "_model_name": "LayoutModel",
            "_view_count": null,
            "_view_module": "@jupyter-widgets/base",
            "_view_module_version": "1.2.0",
            "_view_name": "LayoutView",
            "align_content": null,
            "align_items": null,
            "align_self": null,
            "border": null,
            "bottom": null,
            "display": null,
            "flex": null,
            "flex_flow": null,
            "grid_area": null,
            "grid_auto_columns": null,
            "grid_auto_flow": null,
            "grid_auto_rows": null,
            "grid_column": null,
            "grid_gap": null,
            "grid_row": null,
            "grid_template_areas": null,
            "grid_template_columns": null,
            "grid_template_rows": null,
            "height": null,
            "justify_content": null,
            "justify_items": null,
            "left": null,
            "margin": null,
            "max_height": null,
            "max_width": null,
            "min_height": null,
            "min_width": null,
            "object_fit": null,
            "object_position": null,
            "order": null,
            "overflow": null,
            "overflow_x": null,
            "overflow_y": null,
            "padding": null,
            "right": null,
            "top": null,
            "visibility": null,
            "width": null
          }
        },
        "34192c2a0c634e3690b215d21c145ab2": {
          "model_module": "@jupyter-widgets/controls",
          "model_name": "DescriptionStyleModel",
          "model_module_version": "1.5.0",
          "state": {
            "_model_module": "@jupyter-widgets/controls",
            "_model_module_version": "1.5.0",
            "_model_name": "DescriptionStyleModel",
            "_view_count": null,
            "_view_module": "@jupyter-widgets/base",
            "_view_module_version": "1.2.0",
            "_view_name": "StyleView",
            "description_width": ""
          }
        },
        "23de58dd98ea4fcab08f41a16b75e373": {
          "model_module": "@jupyter-widgets/base",
          "model_name": "LayoutModel",
          "model_module_version": "1.2.0",
          "state": {
            "_model_module": "@jupyter-widgets/base",
            "_model_module_version": "1.2.0",
            "_model_name": "LayoutModel",
            "_view_count": null,
            "_view_module": "@jupyter-widgets/base",
            "_view_module_version": "1.2.0",
            "_view_name": "LayoutView",
            "align_content": null,
            "align_items": null,
            "align_self": null,
            "border": null,
            "bottom": null,
            "display": null,
            "flex": null,
            "flex_flow": null,
            "grid_area": null,
            "grid_auto_columns": null,
            "grid_auto_flow": null,
            "grid_auto_rows": null,
            "grid_column": null,
            "grid_gap": null,
            "grid_row": null,
            "grid_template_areas": null,
            "grid_template_columns": null,
            "grid_template_rows": null,
            "height": null,
            "justify_content": null,
            "justify_items": null,
            "left": null,
            "margin": null,
            "max_height": null,
            "max_width": null,
            "min_height": null,
            "min_width": null,
            "object_fit": null,
            "object_position": null,
            "order": null,
            "overflow": null,
            "overflow_x": null,
            "overflow_y": null,
            "padding": null,
            "right": null,
            "top": null,
            "visibility": null,
            "width": "20px"
          }
        },
        "68d2239da184428f80bbf1c8da9d8c3b": {
          "model_module": "@jupyter-widgets/controls",
          "model_name": "ProgressStyleModel",
          "model_module_version": "1.5.0",
          "state": {
            "_model_module": "@jupyter-widgets/controls",
            "_model_module_version": "1.5.0",
            "_model_name": "ProgressStyleModel",
            "_view_count": null,
            "_view_module": "@jupyter-widgets/base",
            "_view_module_version": "1.2.0",
            "_view_name": "StyleView",
            "bar_color": null,
            "description_width": ""
          }
        },
        "73c6627440ce4413b51e463120481d62": {
          "model_module": "@jupyter-widgets/base",
          "model_name": "LayoutModel",
          "model_module_version": "1.2.0",
          "state": {
            "_model_module": "@jupyter-widgets/base",
            "_model_module_version": "1.2.0",
            "_model_name": "LayoutModel",
            "_view_count": null,
            "_view_module": "@jupyter-widgets/base",
            "_view_module_version": "1.2.0",
            "_view_name": "LayoutView",
            "align_content": null,
            "align_items": null,
            "align_self": null,
            "border": null,
            "bottom": null,
            "display": null,
            "flex": null,
            "flex_flow": null,
            "grid_area": null,
            "grid_auto_columns": null,
            "grid_auto_flow": null,
            "grid_auto_rows": null,
            "grid_column": null,
            "grid_gap": null,
            "grid_row": null,
            "grid_template_areas": null,
            "grid_template_columns": null,
            "grid_template_rows": null,
            "height": null,
            "justify_content": null,
            "justify_items": null,
            "left": null,
            "margin": null,
            "max_height": null,
            "max_width": null,
            "min_height": null,
            "min_width": null,
            "object_fit": null,
            "object_position": null,
            "order": null,
            "overflow": null,
            "overflow_x": null,
            "overflow_y": null,
            "padding": null,
            "right": null,
            "top": null,
            "visibility": null,
            "width": null
          }
        },
        "66f8eaf9939949d8a7c3d5cbaa6dac66": {
          "model_module": "@jupyter-widgets/controls",
          "model_name": "DescriptionStyleModel",
          "model_module_version": "1.5.0",
          "state": {
            "_model_module": "@jupyter-widgets/controls",
            "_model_module_version": "1.5.0",
            "_model_name": "DescriptionStyleModel",
            "_view_count": null,
            "_view_module": "@jupyter-widgets/base",
            "_view_module_version": "1.2.0",
            "_view_name": "StyleView",
            "description_width": ""
          }
        },
        "a305dc4e1c314826aad7d860a3ef74e2": {
          "model_module": "@jupyter-widgets/controls",
          "model_name": "HBoxModel",
          "model_module_version": "1.5.0",
          "state": {
            "_dom_classes": [],
            "_model_module": "@jupyter-widgets/controls",
            "_model_module_version": "1.5.0",
            "_model_name": "HBoxModel",
            "_view_count": null,
            "_view_module": "@jupyter-widgets/controls",
            "_view_module_version": "1.5.0",
            "_view_name": "HBoxView",
            "box_style": "",
            "children": [
              "IPY_MODEL_1ce17d657a144425a51f0081f8e9a44a",
              "IPY_MODEL_2eabbed88cfb47bfbaeb10cc442abe35",
              "IPY_MODEL_1b21b123f62a41898f81d3172125bd97"
            ],
            "layout": "IPY_MODEL_538e91de0f214952ad6d5fa40460910b"
          }
        },
        "1ce17d657a144425a51f0081f8e9a44a": {
          "model_module": "@jupyter-widgets/controls",
          "model_name": "HTMLModel",
          "model_module_version": "1.5.0",
          "state": {
            "_dom_classes": [],
            "_model_module": "@jupyter-widgets/controls",
            "_model_module_version": "1.5.0",
            "_model_name": "HTMLModel",
            "_view_count": null,
            "_view_module": "@jupyter-widgets/controls",
            "_view_module_version": "1.5.0",
            "_view_name": "HTMLView",
            "description": "",
            "description_tooltip": null,
            "layout": "IPY_MODEL_787ef8e0c77a4b60aad59238a87e5aaf",
            "placeholder": "​",
            "style": "IPY_MODEL_5677eb4b7630497d814e530d01336fab",
            "value": "sentence_bert_config.json: 100%"
          }
        },
        "2eabbed88cfb47bfbaeb10cc442abe35": {
          "model_module": "@jupyter-widgets/controls",
          "model_name": "FloatProgressModel",
          "model_module_version": "1.5.0",
          "state": {
            "_dom_classes": [],
            "_model_module": "@jupyter-widgets/controls",
            "_model_module_version": "1.5.0",
            "_model_name": "FloatProgressModel",
            "_view_count": null,
            "_view_module": "@jupyter-widgets/controls",
            "_view_module_version": "1.5.0",
            "_view_name": "ProgressView",
            "bar_style": "success",
            "description": "",
            "description_tooltip": null,
            "layout": "IPY_MODEL_388bffdd95064f42b48ac780f2c78e7e",
            "max": 53,
            "min": 0,
            "orientation": "horizontal",
            "style": "IPY_MODEL_2f1fef72892f4acea38c9a0f70340248",
            "value": 53
          }
        },
        "1b21b123f62a41898f81d3172125bd97": {
          "model_module": "@jupyter-widgets/controls",
          "model_name": "HTMLModel",
          "model_module_version": "1.5.0",
          "state": {
            "_dom_classes": [],
            "_model_module": "@jupyter-widgets/controls",
            "_model_module_version": "1.5.0",
            "_model_name": "HTMLModel",
            "_view_count": null,
            "_view_module": "@jupyter-widgets/controls",
            "_view_module_version": "1.5.0",
            "_view_name": "HTMLView",
            "description": "",
            "description_tooltip": null,
            "layout": "IPY_MODEL_a87e15dc38584d338d9932a42a077924",
            "placeholder": "​",
            "style": "IPY_MODEL_405f4eeafea04a7f8d1de0792329c1ea",
            "value": " 53.0/53.0 [00:00&lt;00:00, 3.84kB/s]"
          }
        },
        "538e91de0f214952ad6d5fa40460910b": {
          "model_module": "@jupyter-widgets/base",
          "model_name": "LayoutModel",
          "model_module_version": "1.2.0",
          "state": {
            "_model_module": "@jupyter-widgets/base",
            "_model_module_version": "1.2.0",
            "_model_name": "LayoutModel",
            "_view_count": null,
            "_view_module": "@jupyter-widgets/base",
            "_view_module_version": "1.2.0",
            "_view_name": "LayoutView",
            "align_content": null,
            "align_items": null,
            "align_self": null,
            "border": null,
            "bottom": null,
            "display": null,
            "flex": null,
            "flex_flow": null,
            "grid_area": null,
            "grid_auto_columns": null,
            "grid_auto_flow": null,
            "grid_auto_rows": null,
            "grid_column": null,
            "grid_gap": null,
            "grid_row": null,
            "grid_template_areas": null,
            "grid_template_columns": null,
            "grid_template_rows": null,
            "height": null,
            "justify_content": null,
            "justify_items": null,
            "left": null,
            "margin": null,
            "max_height": null,
            "max_width": null,
            "min_height": null,
            "min_width": null,
            "object_fit": null,
            "object_position": null,
            "order": null,
            "overflow": null,
            "overflow_x": null,
            "overflow_y": null,
            "padding": null,
            "right": null,
            "top": null,
            "visibility": null,
            "width": null
          }
        },
        "787ef8e0c77a4b60aad59238a87e5aaf": {
          "model_module": "@jupyter-widgets/base",
          "model_name": "LayoutModel",
          "model_module_version": "1.2.0",
          "state": {
            "_model_module": "@jupyter-widgets/base",
            "_model_module_version": "1.2.0",
            "_model_name": "LayoutModel",
            "_view_count": null,
            "_view_module": "@jupyter-widgets/base",
            "_view_module_version": "1.2.0",
            "_view_name": "LayoutView",
            "align_content": null,
            "align_items": null,
            "align_self": null,
            "border": null,
            "bottom": null,
            "display": null,
            "flex": null,
            "flex_flow": null,
            "grid_area": null,
            "grid_auto_columns": null,
            "grid_auto_flow": null,
            "grid_auto_rows": null,
            "grid_column": null,
            "grid_gap": null,
            "grid_row": null,
            "grid_template_areas": null,
            "grid_template_columns": null,
            "grid_template_rows": null,
            "height": null,
            "justify_content": null,
            "justify_items": null,
            "left": null,
            "margin": null,
            "max_height": null,
            "max_width": null,
            "min_height": null,
            "min_width": null,
            "object_fit": null,
            "object_position": null,
            "order": null,
            "overflow": null,
            "overflow_x": null,
            "overflow_y": null,
            "padding": null,
            "right": null,
            "top": null,
            "visibility": null,
            "width": null
          }
        },
        "5677eb4b7630497d814e530d01336fab": {
          "model_module": "@jupyter-widgets/controls",
          "model_name": "DescriptionStyleModel",
          "model_module_version": "1.5.0",
          "state": {
            "_model_module": "@jupyter-widgets/controls",
            "_model_module_version": "1.5.0",
            "_model_name": "DescriptionStyleModel",
            "_view_count": null,
            "_view_module": "@jupyter-widgets/base",
            "_view_module_version": "1.2.0",
            "_view_name": "StyleView",
            "description_width": ""
          }
        },
        "388bffdd95064f42b48ac780f2c78e7e": {
          "model_module": "@jupyter-widgets/base",
          "model_name": "LayoutModel",
          "model_module_version": "1.2.0",
          "state": {
            "_model_module": "@jupyter-widgets/base",
            "_model_module_version": "1.2.0",
            "_model_name": "LayoutModel",
            "_view_count": null,
            "_view_module": "@jupyter-widgets/base",
            "_view_module_version": "1.2.0",
            "_view_name": "LayoutView",
            "align_content": null,
            "align_items": null,
            "align_self": null,
            "border": null,
            "bottom": null,
            "display": null,
            "flex": null,
            "flex_flow": null,
            "grid_area": null,
            "grid_auto_columns": null,
            "grid_auto_flow": null,
            "grid_auto_rows": null,
            "grid_column": null,
            "grid_gap": null,
            "grid_row": null,
            "grid_template_areas": null,
            "grid_template_columns": null,
            "grid_template_rows": null,
            "height": null,
            "justify_content": null,
            "justify_items": null,
            "left": null,
            "margin": null,
            "max_height": null,
            "max_width": null,
            "min_height": null,
            "min_width": null,
            "object_fit": null,
            "object_position": null,
            "order": null,
            "overflow": null,
            "overflow_x": null,
            "overflow_y": null,
            "padding": null,
            "right": null,
            "top": null,
            "visibility": null,
            "width": null
          }
        },
        "2f1fef72892f4acea38c9a0f70340248": {
          "model_module": "@jupyter-widgets/controls",
          "model_name": "ProgressStyleModel",
          "model_module_version": "1.5.0",
          "state": {
            "_model_module": "@jupyter-widgets/controls",
            "_model_module_version": "1.5.0",
            "_model_name": "ProgressStyleModel",
            "_view_count": null,
            "_view_module": "@jupyter-widgets/base",
            "_view_module_version": "1.2.0",
            "_view_name": "StyleView",
            "bar_color": null,
            "description_width": ""
          }
        },
        "a87e15dc38584d338d9932a42a077924": {
          "model_module": "@jupyter-widgets/base",
          "model_name": "LayoutModel",
          "model_module_version": "1.2.0",
          "state": {
            "_model_module": "@jupyter-widgets/base",
            "_model_module_version": "1.2.0",
            "_model_name": "LayoutModel",
            "_view_count": null,
            "_view_module": "@jupyter-widgets/base",
            "_view_module_version": "1.2.0",
            "_view_name": "LayoutView",
            "align_content": null,
            "align_items": null,
            "align_self": null,
            "border": null,
            "bottom": null,
            "display": null,
            "flex": null,
            "flex_flow": null,
            "grid_area": null,
            "grid_auto_columns": null,
            "grid_auto_flow": null,
            "grid_auto_rows": null,
            "grid_column": null,
            "grid_gap": null,
            "grid_row": null,
            "grid_template_areas": null,
            "grid_template_columns": null,
            "grid_template_rows": null,
            "height": null,
            "justify_content": null,
            "justify_items": null,
            "left": null,
            "margin": null,
            "max_height": null,
            "max_width": null,
            "min_height": null,
            "min_width": null,
            "object_fit": null,
            "object_position": null,
            "order": null,
            "overflow": null,
            "overflow_x": null,
            "overflow_y": null,
            "padding": null,
            "right": null,
            "top": null,
            "visibility": null,
            "width": null
          }
        },
        "405f4eeafea04a7f8d1de0792329c1ea": {
          "model_module": "@jupyter-widgets/controls",
          "model_name": "DescriptionStyleModel",
          "model_module_version": "1.5.0",
          "state": {
            "_model_module": "@jupyter-widgets/controls",
            "_model_module_version": "1.5.0",
            "_model_name": "DescriptionStyleModel",
            "_view_count": null,
            "_view_module": "@jupyter-widgets/base",
            "_view_module_version": "1.2.0",
            "_view_name": "StyleView",
            "description_width": ""
          }
        },
        "70a6e9ed4a234ad7b00c1c6f87e5a0b8": {
          "model_module": "@jupyter-widgets/controls",
          "model_name": "HBoxModel",
          "model_module_version": "1.5.0",
          "state": {
            "_dom_classes": [],
            "_model_module": "@jupyter-widgets/controls",
            "_model_module_version": "1.5.0",
            "_model_name": "HBoxModel",
            "_view_count": null,
            "_view_module": "@jupyter-widgets/controls",
            "_view_module_version": "1.5.0",
            "_view_name": "HBoxView",
            "box_style": "",
            "children": [
              "IPY_MODEL_456fad3d0b334ac4879fc10ab2979175",
              "IPY_MODEL_5f54412c193141d7be044d432ae1356a",
              "IPY_MODEL_430d6a1e241b4751b2d28283ff01266a"
            ],
            "layout": "IPY_MODEL_a886d19eb58c47a6880f3d8a4e0028f8"
          }
        },
        "456fad3d0b334ac4879fc10ab2979175": {
          "model_module": "@jupyter-widgets/controls",
          "model_name": "HTMLModel",
          "model_module_version": "1.5.0",
          "state": {
            "_dom_classes": [],
            "_model_module": "@jupyter-widgets/controls",
            "_model_module_version": "1.5.0",
            "_model_name": "HTMLModel",
            "_view_count": null,
            "_view_module": "@jupyter-widgets/controls",
            "_view_module_version": "1.5.0",
            "_view_name": "HTMLView",
            "description": "",
            "description_tooltip": null,
            "layout": "IPY_MODEL_0a75daa35faa4d3cb680fcce3c87262b",
            "placeholder": "​",
            "style": "IPY_MODEL_d5b0f253f9064fb8aa5ffe1eb83a6fdc",
            "value": "config.json: 100%"
          }
        },
        "5f54412c193141d7be044d432ae1356a": {
          "model_module": "@jupyter-widgets/controls",
          "model_name": "FloatProgressModel",
          "model_module_version": "1.5.0",
          "state": {
            "_dom_classes": [],
            "_model_module": "@jupyter-widgets/controls",
            "_model_module_version": "1.5.0",
            "_model_name": "FloatProgressModel",
            "_view_count": null,
            "_view_module": "@jupyter-widgets/controls",
            "_view_module_version": "1.5.0",
            "_view_name": "ProgressView",
            "bar_style": "success",
            "description": "",
            "description_tooltip": null,
            "layout": "IPY_MODEL_54c16e9d310046199489567cdf1c2e11",
            "max": 645,
            "min": 0,
            "orientation": "horizontal",
            "style": "IPY_MODEL_7e7f004b62574506acb4158ea93f73c2",
            "value": 645
          }
        },
        "430d6a1e241b4751b2d28283ff01266a": {
          "model_module": "@jupyter-widgets/controls",
          "model_name": "HTMLModel",
          "model_module_version": "1.5.0",
          "state": {
            "_dom_classes": [],
            "_model_module": "@jupyter-widgets/controls",
            "_model_module_version": "1.5.0",
            "_model_name": "HTMLModel",
            "_view_count": null,
            "_view_module": "@jupyter-widgets/controls",
            "_view_module_version": "1.5.0",
            "_view_name": "HTMLView",
            "description": "",
            "description_tooltip": null,
            "layout": "IPY_MODEL_172cf0c8ba2245d0974e0bfa3d9b70b4",
            "placeholder": "​",
            "style": "IPY_MODEL_ac5eb1056dc34f17aca19fee3309d3c1",
            "value": " 645/645 [00:00&lt;00:00, 37.4kB/s]"
          }
        },
        "a886d19eb58c47a6880f3d8a4e0028f8": {
          "model_module": "@jupyter-widgets/base",
          "model_name": "LayoutModel",
          "model_module_version": "1.2.0",
          "state": {
            "_model_module": "@jupyter-widgets/base",
            "_model_module_version": "1.2.0",
            "_model_name": "LayoutModel",
            "_view_count": null,
            "_view_module": "@jupyter-widgets/base",
            "_view_module_version": "1.2.0",
            "_view_name": "LayoutView",
            "align_content": null,
            "align_items": null,
            "align_self": null,
            "border": null,
            "bottom": null,
            "display": null,
            "flex": null,
            "flex_flow": null,
            "grid_area": null,
            "grid_auto_columns": null,
            "grid_auto_flow": null,
            "grid_auto_rows": null,
            "grid_column": null,
            "grid_gap": null,
            "grid_row": null,
            "grid_template_areas": null,
            "grid_template_columns": null,
            "grid_template_rows": null,
            "height": null,
            "justify_content": null,
            "justify_items": null,
            "left": null,
            "margin": null,
            "max_height": null,
            "max_width": null,
            "min_height": null,
            "min_width": null,
            "object_fit": null,
            "object_position": null,
            "order": null,
            "overflow": null,
            "overflow_x": null,
            "overflow_y": null,
            "padding": null,
            "right": null,
            "top": null,
            "visibility": null,
            "width": null
          }
        },
        "0a75daa35faa4d3cb680fcce3c87262b": {
          "model_module": "@jupyter-widgets/base",
          "model_name": "LayoutModel",
          "model_module_version": "1.2.0",
          "state": {
            "_model_module": "@jupyter-widgets/base",
            "_model_module_version": "1.2.0",
            "_model_name": "LayoutModel",
            "_view_count": null,
            "_view_module": "@jupyter-widgets/base",
            "_view_module_version": "1.2.0",
            "_view_name": "LayoutView",
            "align_content": null,
            "align_items": null,
            "align_self": null,
            "border": null,
            "bottom": null,
            "display": null,
            "flex": null,
            "flex_flow": null,
            "grid_area": null,
            "grid_auto_columns": null,
            "grid_auto_flow": null,
            "grid_auto_rows": null,
            "grid_column": null,
            "grid_gap": null,
            "grid_row": null,
            "grid_template_areas": null,
            "grid_template_columns": null,
            "grid_template_rows": null,
            "height": null,
            "justify_content": null,
            "justify_items": null,
            "left": null,
            "margin": null,
            "max_height": null,
            "max_width": null,
            "min_height": null,
            "min_width": null,
            "object_fit": null,
            "object_position": null,
            "order": null,
            "overflow": null,
            "overflow_x": null,
            "overflow_y": null,
            "padding": null,
            "right": null,
            "top": null,
            "visibility": null,
            "width": null
          }
        },
        "d5b0f253f9064fb8aa5ffe1eb83a6fdc": {
          "model_module": "@jupyter-widgets/controls",
          "model_name": "DescriptionStyleModel",
          "model_module_version": "1.5.0",
          "state": {
            "_model_module": "@jupyter-widgets/controls",
            "_model_module_version": "1.5.0",
            "_model_name": "DescriptionStyleModel",
            "_view_count": null,
            "_view_module": "@jupyter-widgets/base",
            "_view_module_version": "1.2.0",
            "_view_name": "StyleView",
            "description_width": ""
          }
        },
        "54c16e9d310046199489567cdf1c2e11": {
          "model_module": "@jupyter-widgets/base",
          "model_name": "LayoutModel",
          "model_module_version": "1.2.0",
          "state": {
            "_model_module": "@jupyter-widgets/base",
            "_model_module_version": "1.2.0",
            "_model_name": "LayoutModel",
            "_view_count": null,
            "_view_module": "@jupyter-widgets/base",
            "_view_module_version": "1.2.0",
            "_view_name": "LayoutView",
            "align_content": null,
            "align_items": null,
            "align_self": null,
            "border": null,
            "bottom": null,
            "display": null,
            "flex": null,
            "flex_flow": null,
            "grid_area": null,
            "grid_auto_columns": null,
            "grid_auto_flow": null,
            "grid_auto_rows": null,
            "grid_column": null,
            "grid_gap": null,
            "grid_row": null,
            "grid_template_areas": null,
            "grid_template_columns": null,
            "grid_template_rows": null,
            "height": null,
            "justify_content": null,
            "justify_items": null,
            "left": null,
            "margin": null,
            "max_height": null,
            "max_width": null,
            "min_height": null,
            "min_width": null,
            "object_fit": null,
            "object_position": null,
            "order": null,
            "overflow": null,
            "overflow_x": null,
            "overflow_y": null,
            "padding": null,
            "right": null,
            "top": null,
            "visibility": null,
            "width": null
          }
        },
        "7e7f004b62574506acb4158ea93f73c2": {
          "model_module": "@jupyter-widgets/controls",
          "model_name": "ProgressStyleModel",
          "model_module_version": "1.5.0",
          "state": {
            "_model_module": "@jupyter-widgets/controls",
            "_model_module_version": "1.5.0",
            "_model_name": "ProgressStyleModel",
            "_view_count": null,
            "_view_module": "@jupyter-widgets/base",
            "_view_module_version": "1.2.0",
            "_view_name": "StyleView",
            "bar_color": null,
            "description_width": ""
          }
        },
        "172cf0c8ba2245d0974e0bfa3d9b70b4": {
          "model_module": "@jupyter-widgets/base",
          "model_name": "LayoutModel",
          "model_module_version": "1.2.0",
          "state": {
            "_model_module": "@jupyter-widgets/base",
            "_model_module_version": "1.2.0",
            "_model_name": "LayoutModel",
            "_view_count": null,
            "_view_module": "@jupyter-widgets/base",
            "_view_module_version": "1.2.0",
            "_view_name": "LayoutView",
            "align_content": null,
            "align_items": null,
            "align_self": null,
            "border": null,
            "bottom": null,
            "display": null,
            "flex": null,
            "flex_flow": null,
            "grid_area": null,
            "grid_auto_columns": null,
            "grid_auto_flow": null,
            "grid_auto_rows": null,
            "grid_column": null,
            "grid_gap": null,
            "grid_row": null,
            "grid_template_areas": null,
            "grid_template_columns": null,
            "grid_template_rows": null,
            "height": null,
            "justify_content": null,
            "justify_items": null,
            "left": null,
            "margin": null,
            "max_height": null,
            "max_width": null,
            "min_height": null,
            "min_width": null,
            "object_fit": null,
            "object_position": null,
            "order": null,
            "overflow": null,
            "overflow_x": null,
            "overflow_y": null,
            "padding": null,
            "right": null,
            "top": null,
            "visibility": null,
            "width": null
          }
        },
        "ac5eb1056dc34f17aca19fee3309d3c1": {
          "model_module": "@jupyter-widgets/controls",
          "model_name": "DescriptionStyleModel",
          "model_module_version": "1.5.0",
          "state": {
            "_model_module": "@jupyter-widgets/controls",
            "_model_module_version": "1.5.0",
            "_model_name": "DescriptionStyleModel",
            "_view_count": null,
            "_view_module": "@jupyter-widgets/base",
            "_view_module_version": "1.2.0",
            "_view_name": "StyleView",
            "description_width": ""
          }
        },
        "ee74530362d84c2689deea2135bdd58d": {
          "model_module": "@jupyter-widgets/controls",
          "model_name": "HBoxModel",
          "model_module_version": "1.5.0",
          "state": {
            "_dom_classes": [],
            "_model_module": "@jupyter-widgets/controls",
            "_model_module_version": "1.5.0",
            "_model_name": "HBoxModel",
            "_view_count": null,
            "_view_module": "@jupyter-widgets/controls",
            "_view_module_version": "1.5.0",
            "_view_name": "HBoxView",
            "box_style": "",
            "children": [
              "IPY_MODEL_09734c00e6a64ae8bcea24baf8e462a8",
              "IPY_MODEL_88599d78a5f1446ebaf0e7f1007b5e92",
              "IPY_MODEL_81d7ba8cf9bd403e8a49b0f0a9c2ce34"
            ],
            "layout": "IPY_MODEL_b2f170f2e8cb4a85ad47817616ae690b"
          }
        },
        "09734c00e6a64ae8bcea24baf8e462a8": {
          "model_module": "@jupyter-widgets/controls",
          "model_name": "HTMLModel",
          "model_module_version": "1.5.0",
          "state": {
            "_dom_classes": [],
            "_model_module": "@jupyter-widgets/controls",
            "_model_module_version": "1.5.0",
            "_model_name": "HTMLModel",
            "_view_count": null,
            "_view_module": "@jupyter-widgets/controls",
            "_view_module_version": "1.5.0",
            "_view_name": "HTMLView",
            "description": "",
            "description_tooltip": null,
            "layout": "IPY_MODEL_81a4ecb30a3f401899d552453bfcc690",
            "placeholder": "​",
            "style": "IPY_MODEL_56c9cca725b443f0bcd5f37d3a5a7a82",
            "value": "model.safetensors: 100%"
          }
        },
        "88599d78a5f1446ebaf0e7f1007b5e92": {
          "model_module": "@jupyter-widgets/controls",
          "model_name": "FloatProgressModel",
          "model_module_version": "1.5.0",
          "state": {
            "_dom_classes": [],
            "_model_module": "@jupyter-widgets/controls",
            "_model_module_version": "1.5.0",
            "_model_name": "FloatProgressModel",
            "_view_count": null,
            "_view_module": "@jupyter-widgets/controls",
            "_view_module_version": "1.5.0",
            "_view_name": "ProgressView",
            "bar_style": "success",
            "description": "",
            "description_tooltip": null,
            "layout": "IPY_MODEL_f77d36a3bf5b43c08a94b46561d5824f",
            "max": 470641600,
            "min": 0,
            "orientation": "horizontal",
            "style": "IPY_MODEL_6e80721c737441fe9ff188f958de5431",
            "value": 470641600
          }
        },
        "81d7ba8cf9bd403e8a49b0f0a9c2ce34": {
          "model_module": "@jupyter-widgets/controls",
          "model_name": "HTMLModel",
          "model_module_version": "1.5.0",
          "state": {
            "_dom_classes": [],
            "_model_module": "@jupyter-widgets/controls",
            "_model_module_version": "1.5.0",
            "_model_name": "HTMLModel",
            "_view_count": null,
            "_view_module": "@jupyter-widgets/controls",
            "_view_module_version": "1.5.0",
            "_view_name": "HTMLView",
            "description": "",
            "description_tooltip": null,
            "layout": "IPY_MODEL_5b6e0d25b8fa4acbb38c32426fda4597",
            "placeholder": "​",
            "style": "IPY_MODEL_65d6a3d3fa21498cbeda55e2f3ec8c8f",
            "value": " 471M/471M [00:11&lt;00:00, 50.3MB/s]"
          }
        },
        "b2f170f2e8cb4a85ad47817616ae690b": {
          "model_module": "@jupyter-widgets/base",
          "model_name": "LayoutModel",
          "model_module_version": "1.2.0",
          "state": {
            "_model_module": "@jupyter-widgets/base",
            "_model_module_version": "1.2.0",
            "_model_name": "LayoutModel",
            "_view_count": null,
            "_view_module": "@jupyter-widgets/base",
            "_view_module_version": "1.2.0",
            "_view_name": "LayoutView",
            "align_content": null,
            "align_items": null,
            "align_self": null,
            "border": null,
            "bottom": null,
            "display": null,
            "flex": null,
            "flex_flow": null,
            "grid_area": null,
            "grid_auto_columns": null,
            "grid_auto_flow": null,
            "grid_auto_rows": null,
            "grid_column": null,
            "grid_gap": null,
            "grid_row": null,
            "grid_template_areas": null,
            "grid_template_columns": null,
            "grid_template_rows": null,
            "height": null,
            "justify_content": null,
            "justify_items": null,
            "left": null,
            "margin": null,
            "max_height": null,
            "max_width": null,
            "min_height": null,
            "min_width": null,
            "object_fit": null,
            "object_position": null,
            "order": null,
            "overflow": null,
            "overflow_x": null,
            "overflow_y": null,
            "padding": null,
            "right": null,
            "top": null,
            "visibility": null,
            "width": null
          }
        },
        "81a4ecb30a3f401899d552453bfcc690": {
          "model_module": "@jupyter-widgets/base",
          "model_name": "LayoutModel",
          "model_module_version": "1.2.0",
          "state": {
            "_model_module": "@jupyter-widgets/base",
            "_model_module_version": "1.2.0",
            "_model_name": "LayoutModel",
            "_view_count": null,
            "_view_module": "@jupyter-widgets/base",
            "_view_module_version": "1.2.0",
            "_view_name": "LayoutView",
            "align_content": null,
            "align_items": null,
            "align_self": null,
            "border": null,
            "bottom": null,
            "display": null,
            "flex": null,
            "flex_flow": null,
            "grid_area": null,
            "grid_auto_columns": null,
            "grid_auto_flow": null,
            "grid_auto_rows": null,
            "grid_column": null,
            "grid_gap": null,
            "grid_row": null,
            "grid_template_areas": null,
            "grid_template_columns": null,
            "grid_template_rows": null,
            "height": null,
            "justify_content": null,
            "justify_items": null,
            "left": null,
            "margin": null,
            "max_height": null,
            "max_width": null,
            "min_height": null,
            "min_width": null,
            "object_fit": null,
            "object_position": null,
            "order": null,
            "overflow": null,
            "overflow_x": null,
            "overflow_y": null,
            "padding": null,
            "right": null,
            "top": null,
            "visibility": null,
            "width": null
          }
        },
        "56c9cca725b443f0bcd5f37d3a5a7a82": {
          "model_module": "@jupyter-widgets/controls",
          "model_name": "DescriptionStyleModel",
          "model_module_version": "1.5.0",
          "state": {
            "_model_module": "@jupyter-widgets/controls",
            "_model_module_version": "1.5.0",
            "_model_name": "DescriptionStyleModel",
            "_view_count": null,
            "_view_module": "@jupyter-widgets/base",
            "_view_module_version": "1.2.0",
            "_view_name": "StyleView",
            "description_width": ""
          }
        },
        "f77d36a3bf5b43c08a94b46561d5824f": {
          "model_module": "@jupyter-widgets/base",
          "model_name": "LayoutModel",
          "model_module_version": "1.2.0",
          "state": {
            "_model_module": "@jupyter-widgets/base",
            "_model_module_version": "1.2.0",
            "_model_name": "LayoutModel",
            "_view_count": null,
            "_view_module": "@jupyter-widgets/base",
            "_view_module_version": "1.2.0",
            "_view_name": "LayoutView",
            "align_content": null,
            "align_items": null,
            "align_self": null,
            "border": null,
            "bottom": null,
            "display": null,
            "flex": null,
            "flex_flow": null,
            "grid_area": null,
            "grid_auto_columns": null,
            "grid_auto_flow": null,
            "grid_auto_rows": null,
            "grid_column": null,
            "grid_gap": null,
            "grid_row": null,
            "grid_template_areas": null,
            "grid_template_columns": null,
            "grid_template_rows": null,
            "height": null,
            "justify_content": null,
            "justify_items": null,
            "left": null,
            "margin": null,
            "max_height": null,
            "max_width": null,
            "min_height": null,
            "min_width": null,
            "object_fit": null,
            "object_position": null,
            "order": null,
            "overflow": null,
            "overflow_x": null,
            "overflow_y": null,
            "padding": null,
            "right": null,
            "top": null,
            "visibility": null,
            "width": null
          }
        },
        "6e80721c737441fe9ff188f958de5431": {
          "model_module": "@jupyter-widgets/controls",
          "model_name": "ProgressStyleModel",
          "model_module_version": "1.5.0",
          "state": {
            "_model_module": "@jupyter-widgets/controls",
            "_model_module_version": "1.5.0",
            "_model_name": "ProgressStyleModel",
            "_view_count": null,
            "_view_module": "@jupyter-widgets/base",
            "_view_module_version": "1.2.0",
            "_view_name": "StyleView",
            "bar_color": null,
            "description_width": ""
          }
        },
        "5b6e0d25b8fa4acbb38c32426fda4597": {
          "model_module": "@jupyter-widgets/base",
          "model_name": "LayoutModel",
          "model_module_version": "1.2.0",
          "state": {
            "_model_module": "@jupyter-widgets/base",
            "_model_module_version": "1.2.0",
            "_model_name": "LayoutModel",
            "_view_count": null,
            "_view_module": "@jupyter-widgets/base",
            "_view_module_version": "1.2.0",
            "_view_name": "LayoutView",
            "align_content": null,
            "align_items": null,
            "align_self": null,
            "border": null,
            "bottom": null,
            "display": null,
            "flex": null,
            "flex_flow": null,
            "grid_area": null,
            "grid_auto_columns": null,
            "grid_auto_flow": null,
            "grid_auto_rows": null,
            "grid_column": null,
            "grid_gap": null,
            "grid_row": null,
            "grid_template_areas": null,
            "grid_template_columns": null,
            "grid_template_rows": null,
            "height": null,
            "justify_content": null,
            "justify_items": null,
            "left": null,
            "margin": null,
            "max_height": null,
            "max_width": null,
            "min_height": null,
            "min_width": null,
            "object_fit": null,
            "object_position": null,
            "order": null,
            "overflow": null,
            "overflow_x": null,
            "overflow_y": null,
            "padding": null,
            "right": null,
            "top": null,
            "visibility": null,
            "width": null
          }
        },
        "65d6a3d3fa21498cbeda55e2f3ec8c8f": {
          "model_module": "@jupyter-widgets/controls",
          "model_name": "DescriptionStyleModel",
          "model_module_version": "1.5.0",
          "state": {
            "_model_module": "@jupyter-widgets/controls",
            "_model_module_version": "1.5.0",
            "_model_name": "DescriptionStyleModel",
            "_view_count": null,
            "_view_module": "@jupyter-widgets/base",
            "_view_module_version": "1.2.0",
            "_view_name": "StyleView",
            "description_width": ""
          }
        },
        "2617829a37fe47eaba6a30142ab1ac98": {
          "model_module": "@jupyter-widgets/controls",
          "model_name": "HBoxModel",
          "model_module_version": "1.5.0",
          "state": {
            "_dom_classes": [],
            "_model_module": "@jupyter-widgets/controls",
            "_model_module_version": "1.5.0",
            "_model_name": "HBoxModel",
            "_view_count": null,
            "_view_module": "@jupyter-widgets/controls",
            "_view_module_version": "1.5.0",
            "_view_name": "HBoxView",
            "box_style": "",
            "children": [
              "IPY_MODEL_e4dcc5563f0f42a188180cef3bb44219",
              "IPY_MODEL_dc61f1c183624321a96c0221cc2be0c0",
              "IPY_MODEL_c71b082c2d9a463983e36823ce301f2b"
            ],
            "layout": "IPY_MODEL_ce1477ffe546433da1c494dde71ff77a"
          }
        },
        "e4dcc5563f0f42a188180cef3bb44219": {
          "model_module": "@jupyter-widgets/controls",
          "model_name": "HTMLModel",
          "model_module_version": "1.5.0",
          "state": {
            "_dom_classes": [],
            "_model_module": "@jupyter-widgets/controls",
            "_model_module_version": "1.5.0",
            "_model_name": "HTMLModel",
            "_view_count": null,
            "_view_module": "@jupyter-widgets/controls",
            "_view_module_version": "1.5.0",
            "_view_name": "HTMLView",
            "description": "",
            "description_tooltip": null,
            "layout": "IPY_MODEL_ee9d8b9af0094f00ab4cfb1f9659591b",
            "placeholder": "​",
            "style": "IPY_MODEL_e7798eda539c4ebab99a63aba7cd89c9",
            "value": "tokenizer_config.json: 100%"
          }
        },
        "dc61f1c183624321a96c0221cc2be0c0": {
          "model_module": "@jupyter-widgets/controls",
          "model_name": "FloatProgressModel",
          "model_module_version": "1.5.0",
          "state": {
            "_dom_classes": [],
            "_model_module": "@jupyter-widgets/controls",
            "_model_module_version": "1.5.0",
            "_model_name": "FloatProgressModel",
            "_view_count": null,
            "_view_module": "@jupyter-widgets/controls",
            "_view_module_version": "1.5.0",
            "_view_name": "ProgressView",
            "bar_style": "success",
            "description": "",
            "description_tooltip": null,
            "layout": "IPY_MODEL_0dfa796ef60e407eacf5e177e4c6be8e",
            "max": 480,
            "min": 0,
            "orientation": "horizontal",
            "style": "IPY_MODEL_ca5dfb502d4647288f6edfae60ebc2a0",
            "value": 480
          }
        },
        "c71b082c2d9a463983e36823ce301f2b": {
          "model_module": "@jupyter-widgets/controls",
          "model_name": "HTMLModel",
          "model_module_version": "1.5.0",
          "state": {
            "_dom_classes": [],
            "_model_module": "@jupyter-widgets/controls",
            "_model_module_version": "1.5.0",
            "_model_name": "HTMLModel",
            "_view_count": null,
            "_view_module": "@jupyter-widgets/controls",
            "_view_module_version": "1.5.0",
            "_view_name": "HTMLView",
            "description": "",
            "description_tooltip": null,
            "layout": "IPY_MODEL_2d37b0cd523748879fd377b7e9ccd977",
            "placeholder": "​",
            "style": "IPY_MODEL_bc35538717954212b649870cb009d665",
            "value": " 480/480 [00:00&lt;00:00, 25.2kB/s]"
          }
        },
        "ce1477ffe546433da1c494dde71ff77a": {
          "model_module": "@jupyter-widgets/base",
          "model_name": "LayoutModel",
          "model_module_version": "1.2.0",
          "state": {
            "_model_module": "@jupyter-widgets/base",
            "_model_module_version": "1.2.0",
            "_model_name": "LayoutModel",
            "_view_count": null,
            "_view_module": "@jupyter-widgets/base",
            "_view_module_version": "1.2.0",
            "_view_name": "LayoutView",
            "align_content": null,
            "align_items": null,
            "align_self": null,
            "border": null,
            "bottom": null,
            "display": null,
            "flex": null,
            "flex_flow": null,
            "grid_area": null,
            "grid_auto_columns": null,
            "grid_auto_flow": null,
            "grid_auto_rows": null,
            "grid_column": null,
            "grid_gap": null,
            "grid_row": null,
            "grid_template_areas": null,
            "grid_template_columns": null,
            "grid_template_rows": null,
            "height": null,
            "justify_content": null,
            "justify_items": null,
            "left": null,
            "margin": null,
            "max_height": null,
            "max_width": null,
            "min_height": null,
            "min_width": null,
            "object_fit": null,
            "object_position": null,
            "order": null,
            "overflow": null,
            "overflow_x": null,
            "overflow_y": null,
            "padding": null,
            "right": null,
            "top": null,
            "visibility": null,
            "width": null
          }
        },
        "ee9d8b9af0094f00ab4cfb1f9659591b": {
          "model_module": "@jupyter-widgets/base",
          "model_name": "LayoutModel",
          "model_module_version": "1.2.0",
          "state": {
            "_model_module": "@jupyter-widgets/base",
            "_model_module_version": "1.2.0",
            "_model_name": "LayoutModel",
            "_view_count": null,
            "_view_module": "@jupyter-widgets/base",
            "_view_module_version": "1.2.0",
            "_view_name": "LayoutView",
            "align_content": null,
            "align_items": null,
            "align_self": null,
            "border": null,
            "bottom": null,
            "display": null,
            "flex": null,
            "flex_flow": null,
            "grid_area": null,
            "grid_auto_columns": null,
            "grid_auto_flow": null,
            "grid_auto_rows": null,
            "grid_column": null,
            "grid_gap": null,
            "grid_row": null,
            "grid_template_areas": null,
            "grid_template_columns": null,
            "grid_template_rows": null,
            "height": null,
            "justify_content": null,
            "justify_items": null,
            "left": null,
            "margin": null,
            "max_height": null,
            "max_width": null,
            "min_height": null,
            "min_width": null,
            "object_fit": null,
            "object_position": null,
            "order": null,
            "overflow": null,
            "overflow_x": null,
            "overflow_y": null,
            "padding": null,
            "right": null,
            "top": null,
            "visibility": null,
            "width": null
          }
        },
        "e7798eda539c4ebab99a63aba7cd89c9": {
          "model_module": "@jupyter-widgets/controls",
          "model_name": "DescriptionStyleModel",
          "model_module_version": "1.5.0",
          "state": {
            "_model_module": "@jupyter-widgets/controls",
            "_model_module_version": "1.5.0",
            "_model_name": "DescriptionStyleModel",
            "_view_count": null,
            "_view_module": "@jupyter-widgets/base",
            "_view_module_version": "1.2.0",
            "_view_name": "StyleView",
            "description_width": ""
          }
        },
        "0dfa796ef60e407eacf5e177e4c6be8e": {
          "model_module": "@jupyter-widgets/base",
          "model_name": "LayoutModel",
          "model_module_version": "1.2.0",
          "state": {
            "_model_module": "@jupyter-widgets/base",
            "_model_module_version": "1.2.0",
            "_model_name": "LayoutModel",
            "_view_count": null,
            "_view_module": "@jupyter-widgets/base",
            "_view_module_version": "1.2.0",
            "_view_name": "LayoutView",
            "align_content": null,
            "align_items": null,
            "align_self": null,
            "border": null,
            "bottom": null,
            "display": null,
            "flex": null,
            "flex_flow": null,
            "grid_area": null,
            "grid_auto_columns": null,
            "grid_auto_flow": null,
            "grid_auto_rows": null,
            "grid_column": null,
            "grid_gap": null,
            "grid_row": null,
            "grid_template_areas": null,
            "grid_template_columns": null,
            "grid_template_rows": null,
            "height": null,
            "justify_content": null,
            "justify_items": null,
            "left": null,
            "margin": null,
            "max_height": null,
            "max_width": null,
            "min_height": null,
            "min_width": null,
            "object_fit": null,
            "object_position": null,
            "order": null,
            "overflow": null,
            "overflow_x": null,
            "overflow_y": null,
            "padding": null,
            "right": null,
            "top": null,
            "visibility": null,
            "width": null
          }
        },
        "ca5dfb502d4647288f6edfae60ebc2a0": {
          "model_module": "@jupyter-widgets/controls",
          "model_name": "ProgressStyleModel",
          "model_module_version": "1.5.0",
          "state": {
            "_model_module": "@jupyter-widgets/controls",
            "_model_module_version": "1.5.0",
            "_model_name": "ProgressStyleModel",
            "_view_count": null,
            "_view_module": "@jupyter-widgets/base",
            "_view_module_version": "1.2.0",
            "_view_name": "StyleView",
            "bar_color": null,
            "description_width": ""
          }
        },
        "2d37b0cd523748879fd377b7e9ccd977": {
          "model_module": "@jupyter-widgets/base",
          "model_name": "LayoutModel",
          "model_module_version": "1.2.0",
          "state": {
            "_model_module": "@jupyter-widgets/base",
            "_model_module_version": "1.2.0",
            "_model_name": "LayoutModel",
            "_view_count": null,
            "_view_module": "@jupyter-widgets/base",
            "_view_module_version": "1.2.0",
            "_view_name": "LayoutView",
            "align_content": null,
            "align_items": null,
            "align_self": null,
            "border": null,
            "bottom": null,
            "display": null,
            "flex": null,
            "flex_flow": null,
            "grid_area": null,
            "grid_auto_columns": null,
            "grid_auto_flow": null,
            "grid_auto_rows": null,
            "grid_column": null,
            "grid_gap": null,
            "grid_row": null,
            "grid_template_areas": null,
            "grid_template_columns": null,
            "grid_template_rows": null,
            "height": null,
            "justify_content": null,
            "justify_items": null,
            "left": null,
            "margin": null,
            "max_height": null,
            "max_width": null,
            "min_height": null,
            "min_width": null,
            "object_fit": null,
            "object_position": null,
            "order": null,
            "overflow": null,
            "overflow_x": null,
            "overflow_y": null,
            "padding": null,
            "right": null,
            "top": null,
            "visibility": null,
            "width": null
          }
        },
        "bc35538717954212b649870cb009d665": {
          "model_module": "@jupyter-widgets/controls",
          "model_name": "DescriptionStyleModel",
          "model_module_version": "1.5.0",
          "state": {
            "_model_module": "@jupyter-widgets/controls",
            "_model_module_version": "1.5.0",
            "_model_name": "DescriptionStyleModel",
            "_view_count": null,
            "_view_module": "@jupyter-widgets/base",
            "_view_module_version": "1.2.0",
            "_view_name": "StyleView",
            "description_width": ""
          }
        },
        "3946243bbc1142a898bdf7c1c5217771": {
          "model_module": "@jupyter-widgets/controls",
          "model_name": "HBoxModel",
          "model_module_version": "1.5.0",
          "state": {
            "_dom_classes": [],
            "_model_module": "@jupyter-widgets/controls",
            "_model_module_version": "1.5.0",
            "_model_name": "HBoxModel",
            "_view_count": null,
            "_view_module": "@jupyter-widgets/controls",
            "_view_module_version": "1.5.0",
            "_view_name": "HBoxView",
            "box_style": "",
            "children": [
              "IPY_MODEL_677f0a476e744e338108491923f67f46",
              "IPY_MODEL_bb5e05c4ce694d38ab2cd5fb28e7d4e0",
              "IPY_MODEL_2c70cf813d334cd6aa3a8285f05d9f88"
            ],
            "layout": "IPY_MODEL_4cadd3015e1044b1acef90f887792e22"
          }
        },
        "677f0a476e744e338108491923f67f46": {
          "model_module": "@jupyter-widgets/controls",
          "model_name": "HTMLModel",
          "model_module_version": "1.5.0",
          "state": {
            "_dom_classes": [],
            "_model_module": "@jupyter-widgets/controls",
            "_model_module_version": "1.5.0",
            "_model_name": "HTMLModel",
            "_view_count": null,
            "_view_module": "@jupyter-widgets/controls",
            "_view_module_version": "1.5.0",
            "_view_name": "HTMLView",
            "description": "",
            "description_tooltip": null,
            "layout": "IPY_MODEL_63235b2e91be49bd859b310d05055aad",
            "placeholder": "​",
            "style": "IPY_MODEL_30df721a84d741959bf1a8e54aa0985b",
            "value": "tokenizer.json: 100%"
          }
        },
        "bb5e05c4ce694d38ab2cd5fb28e7d4e0": {
          "model_module": "@jupyter-widgets/controls",
          "model_name": "FloatProgressModel",
          "model_module_version": "1.5.0",
          "state": {
            "_dom_classes": [],
            "_model_module": "@jupyter-widgets/controls",
            "_model_module_version": "1.5.0",
            "_model_name": "FloatProgressModel",
            "_view_count": null,
            "_view_module": "@jupyter-widgets/controls",
            "_view_module_version": "1.5.0",
            "_view_name": "ProgressView",
            "bar_style": "success",
            "description": "",
            "description_tooltip": null,
            "layout": "IPY_MODEL_72636fa3204e43dc8c49629ebd585566",
            "max": 9081518,
            "min": 0,
            "orientation": "horizontal",
            "style": "IPY_MODEL_c66f10a816b94fa3b28d448077f20c5e",
            "value": 9081518
          }
        },
        "2c70cf813d334cd6aa3a8285f05d9f88": {
          "model_module": "@jupyter-widgets/controls",
          "model_name": "HTMLModel",
          "model_module_version": "1.5.0",
          "state": {
            "_dom_classes": [],
            "_model_module": "@jupyter-widgets/controls",
            "_model_module_version": "1.5.0",
            "_model_name": "HTMLModel",
            "_view_count": null,
            "_view_module": "@jupyter-widgets/controls",
            "_view_module_version": "1.5.0",
            "_view_name": "HTMLView",
            "description": "",
            "description_tooltip": null,
            "layout": "IPY_MODEL_365a910732814e63b03da48c71847441",
            "placeholder": "​",
            "style": "IPY_MODEL_5b7206f00cda4063985f3a943cbf15d0",
            "value": " 9.08M/9.08M [00:01&lt;00:00, 8.81MB/s]"
          }
        },
        "4cadd3015e1044b1acef90f887792e22": {
          "model_module": "@jupyter-widgets/base",
          "model_name": "LayoutModel",
          "model_module_version": "1.2.0",
          "state": {
            "_model_module": "@jupyter-widgets/base",
            "_model_module_version": "1.2.0",
            "_model_name": "LayoutModel",
            "_view_count": null,
            "_view_module": "@jupyter-widgets/base",
            "_view_module_version": "1.2.0",
            "_view_name": "LayoutView",
            "align_content": null,
            "align_items": null,
            "align_self": null,
            "border": null,
            "bottom": null,
            "display": null,
            "flex": null,
            "flex_flow": null,
            "grid_area": null,
            "grid_auto_columns": null,
            "grid_auto_flow": null,
            "grid_auto_rows": null,
            "grid_column": null,
            "grid_gap": null,
            "grid_row": null,
            "grid_template_areas": null,
            "grid_template_columns": null,
            "grid_template_rows": null,
            "height": null,
            "justify_content": null,
            "justify_items": null,
            "left": null,
            "margin": null,
            "max_height": null,
            "max_width": null,
            "min_height": null,
            "min_width": null,
            "object_fit": null,
            "object_position": null,
            "order": null,
            "overflow": null,
            "overflow_x": null,
            "overflow_y": null,
            "padding": null,
            "right": null,
            "top": null,
            "visibility": null,
            "width": null
          }
        },
        "63235b2e91be49bd859b310d05055aad": {
          "model_module": "@jupyter-widgets/base",
          "model_name": "LayoutModel",
          "model_module_version": "1.2.0",
          "state": {
            "_model_module": "@jupyter-widgets/base",
            "_model_module_version": "1.2.0",
            "_model_name": "LayoutModel",
            "_view_count": null,
            "_view_module": "@jupyter-widgets/base",
            "_view_module_version": "1.2.0",
            "_view_name": "LayoutView",
            "align_content": null,
            "align_items": null,
            "align_self": null,
            "border": null,
            "bottom": null,
            "display": null,
            "flex": null,
            "flex_flow": null,
            "grid_area": null,
            "grid_auto_columns": null,
            "grid_auto_flow": null,
            "grid_auto_rows": null,
            "grid_column": null,
            "grid_gap": null,
            "grid_row": null,
            "grid_template_areas": null,
            "grid_template_columns": null,
            "grid_template_rows": null,
            "height": null,
            "justify_content": null,
            "justify_items": null,
            "left": null,
            "margin": null,
            "max_height": null,
            "max_width": null,
            "min_height": null,
            "min_width": null,
            "object_fit": null,
            "object_position": null,
            "order": null,
            "overflow": null,
            "overflow_x": null,
            "overflow_y": null,
            "padding": null,
            "right": null,
            "top": null,
            "visibility": null,
            "width": null
          }
        },
        "30df721a84d741959bf1a8e54aa0985b": {
          "model_module": "@jupyter-widgets/controls",
          "model_name": "DescriptionStyleModel",
          "model_module_version": "1.5.0",
          "state": {
            "_model_module": "@jupyter-widgets/controls",
            "_model_module_version": "1.5.0",
            "_model_name": "DescriptionStyleModel",
            "_view_count": null,
            "_view_module": "@jupyter-widgets/base",
            "_view_module_version": "1.2.0",
            "_view_name": "StyleView",
            "description_width": ""
          }
        },
        "72636fa3204e43dc8c49629ebd585566": {
          "model_module": "@jupyter-widgets/base",
          "model_name": "LayoutModel",
          "model_module_version": "1.2.0",
          "state": {
            "_model_module": "@jupyter-widgets/base",
            "_model_module_version": "1.2.0",
            "_model_name": "LayoutModel",
            "_view_count": null,
            "_view_module": "@jupyter-widgets/base",
            "_view_module_version": "1.2.0",
            "_view_name": "LayoutView",
            "align_content": null,
            "align_items": null,
            "align_self": null,
            "border": null,
            "bottom": null,
            "display": null,
            "flex": null,
            "flex_flow": null,
            "grid_area": null,
            "grid_auto_columns": null,
            "grid_auto_flow": null,
            "grid_auto_rows": null,
            "grid_column": null,
            "grid_gap": null,
            "grid_row": null,
            "grid_template_areas": null,
            "grid_template_columns": null,
            "grid_template_rows": null,
            "height": null,
            "justify_content": null,
            "justify_items": null,
            "left": null,
            "margin": null,
            "max_height": null,
            "max_width": null,
            "min_height": null,
            "min_width": null,
            "object_fit": null,
            "object_position": null,
            "order": null,
            "overflow": null,
            "overflow_x": null,
            "overflow_y": null,
            "padding": null,
            "right": null,
            "top": null,
            "visibility": null,
            "width": null
          }
        },
        "c66f10a816b94fa3b28d448077f20c5e": {
          "model_module": "@jupyter-widgets/controls",
          "model_name": "ProgressStyleModel",
          "model_module_version": "1.5.0",
          "state": {
            "_model_module": "@jupyter-widgets/controls",
            "_model_module_version": "1.5.0",
            "_model_name": "ProgressStyleModel",
            "_view_count": null,
            "_view_module": "@jupyter-widgets/base",
            "_view_module_version": "1.2.0",
            "_view_name": "StyleView",
            "bar_color": null,
            "description_width": ""
          }
        },
        "365a910732814e63b03da48c71847441": {
          "model_module": "@jupyter-widgets/base",
          "model_name": "LayoutModel",
          "model_module_version": "1.2.0",
          "state": {
            "_model_module": "@jupyter-widgets/base",
            "_model_module_version": "1.2.0",
            "_model_name": "LayoutModel",
            "_view_count": null,
            "_view_module": "@jupyter-widgets/base",
            "_view_module_version": "1.2.0",
            "_view_name": "LayoutView",
            "align_content": null,
            "align_items": null,
            "align_self": null,
            "border": null,
            "bottom": null,
            "display": null,
            "flex": null,
            "flex_flow": null,
            "grid_area": null,
            "grid_auto_columns": null,
            "grid_auto_flow": null,
            "grid_auto_rows": null,
            "grid_column": null,
            "grid_gap": null,
            "grid_row": null,
            "grid_template_areas": null,
            "grid_template_columns": null,
            "grid_template_rows": null,
            "height": null,
            "justify_content": null,
            "justify_items": null,
            "left": null,
            "margin": null,
            "max_height": null,
            "max_width": null,
            "min_height": null,
            "min_width": null,
            "object_fit": null,
            "object_position": null,
            "order": null,
            "overflow": null,
            "overflow_x": null,
            "overflow_y": null,
            "padding": null,
            "right": null,
            "top": null,
            "visibility": null,
            "width": null
          }
        },
        "5b7206f00cda4063985f3a943cbf15d0": {
          "model_module": "@jupyter-widgets/controls",
          "model_name": "DescriptionStyleModel",
          "model_module_version": "1.5.0",
          "state": {
            "_model_module": "@jupyter-widgets/controls",
            "_model_module_version": "1.5.0",
            "_model_name": "DescriptionStyleModel",
            "_view_count": null,
            "_view_module": "@jupyter-widgets/base",
            "_view_module_version": "1.2.0",
            "_view_name": "StyleView",
            "description_width": ""
          }
        },
        "e986bf7d5ecd4473967dce6c09e8495a": {
          "model_module": "@jupyter-widgets/controls",
          "model_name": "HBoxModel",
          "model_module_version": "1.5.0",
          "state": {
            "_dom_classes": [],
            "_model_module": "@jupyter-widgets/controls",
            "_model_module_version": "1.5.0",
            "_model_name": "HBoxModel",
            "_view_count": null,
            "_view_module": "@jupyter-widgets/controls",
            "_view_module_version": "1.5.0",
            "_view_name": "HBoxView",
            "box_style": "",
            "children": [
              "IPY_MODEL_58ba26b27e5f4251aca40c965d1d4827",
              "IPY_MODEL_35ead1d9f70440d583be8475d90383b9",
              "IPY_MODEL_8227ddea03534ef4ba6de31ea29deb01"
            ],
            "layout": "IPY_MODEL_70b7d91a9a1e4db2a65e81e4d78b2459"
          }
        },
        "58ba26b27e5f4251aca40c965d1d4827": {
          "model_module": "@jupyter-widgets/controls",
          "model_name": "HTMLModel",
          "model_module_version": "1.5.0",
          "state": {
            "_dom_classes": [],
            "_model_module": "@jupyter-widgets/controls",
            "_model_module_version": "1.5.0",
            "_model_name": "HTMLModel",
            "_view_count": null,
            "_view_module": "@jupyter-widgets/controls",
            "_view_module_version": "1.5.0",
            "_view_name": "HTMLView",
            "description": "",
            "description_tooltip": null,
            "layout": "IPY_MODEL_ca952b3253be4e8584e7b58e7a5c94d0",
            "placeholder": "​",
            "style": "IPY_MODEL_59abacd6e70e4a22b320770f6f356153",
            "value": "special_tokens_map.json: 100%"
          }
        },
        "35ead1d9f70440d583be8475d90383b9": {
          "model_module": "@jupyter-widgets/controls",
          "model_name": "FloatProgressModel",
          "model_module_version": "1.5.0",
          "state": {
            "_dom_classes": [],
            "_model_module": "@jupyter-widgets/controls",
            "_model_module_version": "1.5.0",
            "_model_name": "FloatProgressModel",
            "_view_count": null,
            "_view_module": "@jupyter-widgets/controls",
            "_view_module_version": "1.5.0",
            "_view_name": "ProgressView",
            "bar_style": "success",
            "description": "",
            "description_tooltip": null,
            "layout": "IPY_MODEL_8eb3726842eb4a94ae27c6cd81dcf17d",
            "max": 239,
            "min": 0,
            "orientation": "horizontal",
            "style": "IPY_MODEL_9d3cb462e5c2453eae96812f34f816ae",
            "value": 239
          }
        },
        "8227ddea03534ef4ba6de31ea29deb01": {
          "model_module": "@jupyter-widgets/controls",
          "model_name": "HTMLModel",
          "model_module_version": "1.5.0",
          "state": {
            "_dom_classes": [],
            "_model_module": "@jupyter-widgets/controls",
            "_model_module_version": "1.5.0",
            "_model_name": "HTMLModel",
            "_view_count": null,
            "_view_module": "@jupyter-widgets/controls",
            "_view_module_version": "1.5.0",
            "_view_name": "HTMLView",
            "description": "",
            "description_tooltip": null,
            "layout": "IPY_MODEL_35551c649416481c9bff47b372c7e1f4",
            "placeholder": "​",
            "style": "IPY_MODEL_9eabc1238f5d4a82a1c2340f2f42f569",
            "value": " 239/239 [00:00&lt;00:00, 11.5kB/s]"
          }
        },
        "70b7d91a9a1e4db2a65e81e4d78b2459": {
          "model_module": "@jupyter-widgets/base",
          "model_name": "LayoutModel",
          "model_module_version": "1.2.0",
          "state": {
            "_model_module": "@jupyter-widgets/base",
            "_model_module_version": "1.2.0",
            "_model_name": "LayoutModel",
            "_view_count": null,
            "_view_module": "@jupyter-widgets/base",
            "_view_module_version": "1.2.0",
            "_view_name": "LayoutView",
            "align_content": null,
            "align_items": null,
            "align_self": null,
            "border": null,
            "bottom": null,
            "display": null,
            "flex": null,
            "flex_flow": null,
            "grid_area": null,
            "grid_auto_columns": null,
            "grid_auto_flow": null,
            "grid_auto_rows": null,
            "grid_column": null,
            "grid_gap": null,
            "grid_row": null,
            "grid_template_areas": null,
            "grid_template_columns": null,
            "grid_template_rows": null,
            "height": null,
            "justify_content": null,
            "justify_items": null,
            "left": null,
            "margin": null,
            "max_height": null,
            "max_width": null,
            "min_height": null,
            "min_width": null,
            "object_fit": null,
            "object_position": null,
            "order": null,
            "overflow": null,
            "overflow_x": null,
            "overflow_y": null,
            "padding": null,
            "right": null,
            "top": null,
            "visibility": null,
            "width": null
          }
        },
        "ca952b3253be4e8584e7b58e7a5c94d0": {
          "model_module": "@jupyter-widgets/base",
          "model_name": "LayoutModel",
          "model_module_version": "1.2.0",
          "state": {
            "_model_module": "@jupyter-widgets/base",
            "_model_module_version": "1.2.0",
            "_model_name": "LayoutModel",
            "_view_count": null,
            "_view_module": "@jupyter-widgets/base",
            "_view_module_version": "1.2.0",
            "_view_name": "LayoutView",
            "align_content": null,
            "align_items": null,
            "align_self": null,
            "border": null,
            "bottom": null,
            "display": null,
            "flex": null,
            "flex_flow": null,
            "grid_area": null,
            "grid_auto_columns": null,
            "grid_auto_flow": null,
            "grid_auto_rows": null,
            "grid_column": null,
            "grid_gap": null,
            "grid_row": null,
            "grid_template_areas": null,
            "grid_template_columns": null,
            "grid_template_rows": null,
            "height": null,
            "justify_content": null,
            "justify_items": null,
            "left": null,
            "margin": null,
            "max_height": null,
            "max_width": null,
            "min_height": null,
            "min_width": null,
            "object_fit": null,
            "object_position": null,
            "order": null,
            "overflow": null,
            "overflow_x": null,
            "overflow_y": null,
            "padding": null,
            "right": null,
            "top": null,
            "visibility": null,
            "width": null
          }
        },
        "59abacd6e70e4a22b320770f6f356153": {
          "model_module": "@jupyter-widgets/controls",
          "model_name": "DescriptionStyleModel",
          "model_module_version": "1.5.0",
          "state": {
            "_model_module": "@jupyter-widgets/controls",
            "_model_module_version": "1.5.0",
            "_model_name": "DescriptionStyleModel",
            "_view_count": null,
            "_view_module": "@jupyter-widgets/base",
            "_view_module_version": "1.2.0",
            "_view_name": "StyleView",
            "description_width": ""
          }
        },
        "8eb3726842eb4a94ae27c6cd81dcf17d": {
          "model_module": "@jupyter-widgets/base",
          "model_name": "LayoutModel",
          "model_module_version": "1.2.0",
          "state": {
            "_model_module": "@jupyter-widgets/base",
            "_model_module_version": "1.2.0",
            "_model_name": "LayoutModel",
            "_view_count": null,
            "_view_module": "@jupyter-widgets/base",
            "_view_module_version": "1.2.0",
            "_view_name": "LayoutView",
            "align_content": null,
            "align_items": null,
            "align_self": null,
            "border": null,
            "bottom": null,
            "display": null,
            "flex": null,
            "flex_flow": null,
            "grid_area": null,
            "grid_auto_columns": null,
            "grid_auto_flow": null,
            "grid_auto_rows": null,
            "grid_column": null,
            "grid_gap": null,
            "grid_row": null,
            "grid_template_areas": null,
            "grid_template_columns": null,
            "grid_template_rows": null,
            "height": null,
            "justify_content": null,
            "justify_items": null,
            "left": null,
            "margin": null,
            "max_height": null,
            "max_width": null,
            "min_height": null,
            "min_width": null,
            "object_fit": null,
            "object_position": null,
            "order": null,
            "overflow": null,
            "overflow_x": null,
            "overflow_y": null,
            "padding": null,
            "right": null,
            "top": null,
            "visibility": null,
            "width": null
          }
        },
        "9d3cb462e5c2453eae96812f34f816ae": {
          "model_module": "@jupyter-widgets/controls",
          "model_name": "ProgressStyleModel",
          "model_module_version": "1.5.0",
          "state": {
            "_model_module": "@jupyter-widgets/controls",
            "_model_module_version": "1.5.0",
            "_model_name": "ProgressStyleModel",
            "_view_count": null,
            "_view_module": "@jupyter-widgets/base",
            "_view_module_version": "1.2.0",
            "_view_name": "StyleView",
            "bar_color": null,
            "description_width": ""
          }
        },
        "35551c649416481c9bff47b372c7e1f4": {
          "model_module": "@jupyter-widgets/base",
          "model_name": "LayoutModel",
          "model_module_version": "1.2.0",
          "state": {
            "_model_module": "@jupyter-widgets/base",
            "_model_module_version": "1.2.0",
            "_model_name": "LayoutModel",
            "_view_count": null,
            "_view_module": "@jupyter-widgets/base",
            "_view_module_version": "1.2.0",
            "_view_name": "LayoutView",
            "align_content": null,
            "align_items": null,
            "align_self": null,
            "border": null,
            "bottom": null,
            "display": null,
            "flex": null,
            "flex_flow": null,
            "grid_area": null,
            "grid_auto_columns": null,
            "grid_auto_flow": null,
            "grid_auto_rows": null,
            "grid_column": null,
            "grid_gap": null,
            "grid_row": null,
            "grid_template_areas": null,
            "grid_template_columns": null,
            "grid_template_rows": null,
            "height": null,
            "justify_content": null,
            "justify_items": null,
            "left": null,
            "margin": null,
            "max_height": null,
            "max_width": null,
            "min_height": null,
            "min_width": null,
            "object_fit": null,
            "object_position": null,
            "order": null,
            "overflow": null,
            "overflow_x": null,
            "overflow_y": null,
            "padding": null,
            "right": null,
            "top": null,
            "visibility": null,
            "width": null
          }
        },
        "9eabc1238f5d4a82a1c2340f2f42f569": {
          "model_module": "@jupyter-widgets/controls",
          "model_name": "DescriptionStyleModel",
          "model_module_version": "1.5.0",
          "state": {
            "_model_module": "@jupyter-widgets/controls",
            "_model_module_version": "1.5.0",
            "_model_name": "DescriptionStyleModel",
            "_view_count": null,
            "_view_module": "@jupyter-widgets/base",
            "_view_module_version": "1.2.0",
            "_view_name": "StyleView",
            "description_width": ""
          }
        },
        "160f5068ecf64d18aa5795f967010213": {
          "model_module": "@jupyter-widgets/controls",
          "model_name": "HBoxModel",
          "model_module_version": "1.5.0",
          "state": {
            "_dom_classes": [],
            "_model_module": "@jupyter-widgets/controls",
            "_model_module_version": "1.5.0",
            "_model_name": "HBoxModel",
            "_view_count": null,
            "_view_module": "@jupyter-widgets/controls",
            "_view_module_version": "1.5.0",
            "_view_name": "HBoxView",
            "box_style": "",
            "children": [
              "IPY_MODEL_aa93b85809524aa0a31051ac95ab4a00",
              "IPY_MODEL_3b3cee36c57746cdae34708ee6bb26fb",
              "IPY_MODEL_d13c21596fea454e824297d9fb6b4f33"
            ],
            "layout": "IPY_MODEL_87b354d713084c15aff139aa853d6087"
          }
        },
        "aa93b85809524aa0a31051ac95ab4a00": {
          "model_module": "@jupyter-widgets/controls",
          "model_name": "HTMLModel",
          "model_module_version": "1.5.0",
          "state": {
            "_dom_classes": [],
            "_model_module": "@jupyter-widgets/controls",
            "_model_module_version": "1.5.0",
            "_model_name": "HTMLModel",
            "_view_count": null,
            "_view_module": "@jupyter-widgets/controls",
            "_view_module_version": "1.5.0",
            "_view_name": "HTMLView",
            "description": "",
            "description_tooltip": null,
            "layout": "IPY_MODEL_0377d3ac5f20421486a855576454a63c",
            "placeholder": "​",
            "style": "IPY_MODEL_faa33ed37175418da7d983d250744e7f",
            "value": "config.json: 100%"
          }
        },
        "3b3cee36c57746cdae34708ee6bb26fb": {
          "model_module": "@jupyter-widgets/controls",
          "model_name": "FloatProgressModel",
          "model_module_version": "1.5.0",
          "state": {
            "_dom_classes": [],
            "_model_module": "@jupyter-widgets/controls",
            "_model_module_version": "1.5.0",
            "_model_name": "FloatProgressModel",
            "_view_count": null,
            "_view_module": "@jupyter-widgets/controls",
            "_view_module_version": "1.5.0",
            "_view_name": "ProgressView",
            "bar_style": "success",
            "description": "",
            "description_tooltip": null,
            "layout": "IPY_MODEL_c88f2b6095ca47d08d7832e0a4336efb",
            "max": 190,
            "min": 0,
            "orientation": "horizontal",
            "style": "IPY_MODEL_b33d5812532f4c8c9d46d93d37db98cf",
            "value": 190
          }
        },
        "d13c21596fea454e824297d9fb6b4f33": {
          "model_module": "@jupyter-widgets/controls",
          "model_name": "HTMLModel",
          "model_module_version": "1.5.0",
          "state": {
            "_dom_classes": [],
            "_model_module": "@jupyter-widgets/controls",
            "_model_module_version": "1.5.0",
            "_model_name": "HTMLModel",
            "_view_count": null,
            "_view_module": "@jupyter-widgets/controls",
            "_view_module_version": "1.5.0",
            "_view_name": "HTMLView",
            "description": "",
            "description_tooltip": null,
            "layout": "IPY_MODEL_ad150a8e25de4d4592dd4f05c9f3cb3e",
            "placeholder": "​",
            "style": "IPY_MODEL_caf0c24afbe64ad98d51d1b7303be12c",
            "value": " 190/190 [00:00&lt;00:00, 10.3kB/s]"
          }
        },
        "87b354d713084c15aff139aa853d6087": {
          "model_module": "@jupyter-widgets/base",
          "model_name": "LayoutModel",
          "model_module_version": "1.2.0",
          "state": {
            "_model_module": "@jupyter-widgets/base",
            "_model_module_version": "1.2.0",
            "_model_name": "LayoutModel",
            "_view_count": null,
            "_view_module": "@jupyter-widgets/base",
            "_view_module_version": "1.2.0",
            "_view_name": "LayoutView",
            "align_content": null,
            "align_items": null,
            "align_self": null,
            "border": null,
            "bottom": null,
            "display": null,
            "flex": null,
            "flex_flow": null,
            "grid_area": null,
            "grid_auto_columns": null,
            "grid_auto_flow": null,
            "grid_auto_rows": null,
            "grid_column": null,
            "grid_gap": null,
            "grid_row": null,
            "grid_template_areas": null,
            "grid_template_columns": null,
            "grid_template_rows": null,
            "height": null,
            "justify_content": null,
            "justify_items": null,
            "left": null,
            "margin": null,
            "max_height": null,
            "max_width": null,
            "min_height": null,
            "min_width": null,
            "object_fit": null,
            "object_position": null,
            "order": null,
            "overflow": null,
            "overflow_x": null,
            "overflow_y": null,
            "padding": null,
            "right": null,
            "top": null,
            "visibility": null,
            "width": null
          }
        },
        "0377d3ac5f20421486a855576454a63c": {
          "model_module": "@jupyter-widgets/base",
          "model_name": "LayoutModel",
          "model_module_version": "1.2.0",
          "state": {
            "_model_module": "@jupyter-widgets/base",
            "_model_module_version": "1.2.0",
            "_model_name": "LayoutModel",
            "_view_count": null,
            "_view_module": "@jupyter-widgets/base",
            "_view_module_version": "1.2.0",
            "_view_name": "LayoutView",
            "align_content": null,
            "align_items": null,
            "align_self": null,
            "border": null,
            "bottom": null,
            "display": null,
            "flex": null,
            "flex_flow": null,
            "grid_area": null,
            "grid_auto_columns": null,
            "grid_auto_flow": null,
            "grid_auto_rows": null,
            "grid_column": null,
            "grid_gap": null,
            "grid_row": null,
            "grid_template_areas": null,
            "grid_template_columns": null,
            "grid_template_rows": null,
            "height": null,
            "justify_content": null,
            "justify_items": null,
            "left": null,
            "margin": null,
            "max_height": null,
            "max_width": null,
            "min_height": null,
            "min_width": null,
            "object_fit": null,
            "object_position": null,
            "order": null,
            "overflow": null,
            "overflow_x": null,
            "overflow_y": null,
            "padding": null,
            "right": null,
            "top": null,
            "visibility": null,
            "width": null
          }
        },
        "faa33ed37175418da7d983d250744e7f": {
          "model_module": "@jupyter-widgets/controls",
          "model_name": "DescriptionStyleModel",
          "model_module_version": "1.5.0",
          "state": {
            "_model_module": "@jupyter-widgets/controls",
            "_model_module_version": "1.5.0",
            "_model_name": "DescriptionStyleModel",
            "_view_count": null,
            "_view_module": "@jupyter-widgets/base",
            "_view_module_version": "1.2.0",
            "_view_name": "StyleView",
            "description_width": ""
          }
        },
        "c88f2b6095ca47d08d7832e0a4336efb": {
          "model_module": "@jupyter-widgets/base",
          "model_name": "LayoutModel",
          "model_module_version": "1.2.0",
          "state": {
            "_model_module": "@jupyter-widgets/base",
            "_model_module_version": "1.2.0",
            "_model_name": "LayoutModel",
            "_view_count": null,
            "_view_module": "@jupyter-widgets/base",
            "_view_module_version": "1.2.0",
            "_view_name": "LayoutView",
            "align_content": null,
            "align_items": null,
            "align_self": null,
            "border": null,
            "bottom": null,
            "display": null,
            "flex": null,
            "flex_flow": null,
            "grid_area": null,
            "grid_auto_columns": null,
            "grid_auto_flow": null,
            "grid_auto_rows": null,
            "grid_column": null,
            "grid_gap": null,
            "grid_row": null,
            "grid_template_areas": null,
            "grid_template_columns": null,
            "grid_template_rows": null,
            "height": null,
            "justify_content": null,
            "justify_items": null,
            "left": null,
            "margin": null,
            "max_height": null,
            "max_width": null,
            "min_height": null,
            "min_width": null,
            "object_fit": null,
            "object_position": null,
            "order": null,
            "overflow": null,
            "overflow_x": null,
            "overflow_y": null,
            "padding": null,
            "right": null,
            "top": null,
            "visibility": null,
            "width": null
          }
        },
        "b33d5812532f4c8c9d46d93d37db98cf": {
          "model_module": "@jupyter-widgets/controls",
          "model_name": "ProgressStyleModel",
          "model_module_version": "1.5.0",
          "state": {
            "_model_module": "@jupyter-widgets/controls",
            "_model_module_version": "1.5.0",
            "_model_name": "ProgressStyleModel",
            "_view_count": null,
            "_view_module": "@jupyter-widgets/base",
            "_view_module_version": "1.2.0",
            "_view_name": "StyleView",
            "bar_color": null,
            "description_width": ""
          }
        },
        "ad150a8e25de4d4592dd4f05c9f3cb3e": {
          "model_module": "@jupyter-widgets/base",
          "model_name": "LayoutModel",
          "model_module_version": "1.2.0",
          "state": {
            "_model_module": "@jupyter-widgets/base",
            "_model_module_version": "1.2.0",
            "_model_name": "LayoutModel",
            "_view_count": null,
            "_view_module": "@jupyter-widgets/base",
            "_view_module_version": "1.2.0",
            "_view_name": "LayoutView",
            "align_content": null,
            "align_items": null,
            "align_self": null,
            "border": null,
            "bottom": null,
            "display": null,
            "flex": null,
            "flex_flow": null,
            "grid_area": null,
            "grid_auto_columns": null,
            "grid_auto_flow": null,
            "grid_auto_rows": null,
            "grid_column": null,
            "grid_gap": null,
            "grid_row": null,
            "grid_template_areas": null,
            "grid_template_columns": null,
            "grid_template_rows": null,
            "height": null,
            "justify_content": null,
            "justify_items": null,
            "left": null,
            "margin": null,
            "max_height": null,
            "max_width": null,
            "min_height": null,
            "min_width": null,
            "object_fit": null,
            "object_position": null,
            "order": null,
            "overflow": null,
            "overflow_x": null,
            "overflow_y": null,
            "padding": null,
            "right": null,
            "top": null,
            "visibility": null,
            "width": null
          }
        },
        "caf0c24afbe64ad98d51d1b7303be12c": {
          "model_module": "@jupyter-widgets/controls",
          "model_name": "DescriptionStyleModel",
          "model_module_version": "1.5.0",
          "state": {
            "_model_module": "@jupyter-widgets/controls",
            "_model_module_version": "1.5.0",
            "_model_name": "DescriptionStyleModel",
            "_view_count": null,
            "_view_module": "@jupyter-widgets/base",
            "_view_module_version": "1.2.0",
            "_view_name": "StyleView",
            "description_width": ""
          }
        },
        "4f97fcbcb16e4087927fa699a07290e1": {
          "model_module": "@jupyter-widgets/controls",
          "model_name": "HBoxModel",
          "model_module_version": "1.5.0",
          "state": {
            "_dom_classes": [],
            "_model_module": "@jupyter-widgets/controls",
            "_model_module_version": "1.5.0",
            "_model_name": "HBoxModel",
            "_view_count": null,
            "_view_module": "@jupyter-widgets/controls",
            "_view_module_version": "1.5.0",
            "_view_name": "HBoxView",
            "box_style": "",
            "children": [
              "IPY_MODEL_7e514a5c4e2840fab412f4f90eb4d424",
              "IPY_MODEL_e6c66de641634aaca3f3971ddbfbcbb3",
              "IPY_MODEL_dfe93aa9e63c4683a151c53265624ad8"
            ],
            "layout": "IPY_MODEL_f0585ed4cccd4dc5b087c2ee51171db4"
          }
        },
        "7e514a5c4e2840fab412f4f90eb4d424": {
          "model_module": "@jupyter-widgets/controls",
          "model_name": "HTMLModel",
          "model_module_version": "1.5.0",
          "state": {
            "_dom_classes": [],
            "_model_module": "@jupyter-widgets/controls",
            "_model_module_version": "1.5.0",
            "_model_name": "HTMLModel",
            "_view_count": null,
            "_view_module": "@jupyter-widgets/controls",
            "_view_module_version": "1.5.0",
            "_view_name": "HTMLView",
            "description": "",
            "description_tooltip": null,
            "layout": "IPY_MODEL_547cbd808a854e0099d8e132f816f135",
            "placeholder": "​",
            "style": "IPY_MODEL_c32b31cd91674b528e796e985d2b159e",
            "value": "Batches: 100%"
          }
        },
        "e6c66de641634aaca3f3971ddbfbcbb3": {
          "model_module": "@jupyter-widgets/controls",
          "model_name": "FloatProgressModel",
          "model_module_version": "1.5.0",
          "state": {
            "_dom_classes": [],
            "_model_module": "@jupyter-widgets/controls",
            "_model_module_version": "1.5.0",
            "_model_name": "FloatProgressModel",
            "_view_count": null,
            "_view_module": "@jupyter-widgets/controls",
            "_view_module_version": "1.5.0",
            "_view_name": "ProgressView",
            "bar_style": "success",
            "description": "",
            "description_tooltip": null,
            "layout": "IPY_MODEL_c6ca75555a0b4df1b1dc4f3a51a8d1aa",
            "max": 1191,
            "min": 0,
            "orientation": "horizontal",
            "style": "IPY_MODEL_76e1ed16d5044848975da1457b071902",
            "value": 1191
          }
        },
        "dfe93aa9e63c4683a151c53265624ad8": {
          "model_module": "@jupyter-widgets/controls",
          "model_name": "HTMLModel",
          "model_module_version": "1.5.0",
          "state": {
            "_dom_classes": [],
            "_model_module": "@jupyter-widgets/controls",
            "_model_module_version": "1.5.0",
            "_model_name": "HTMLModel",
            "_view_count": null,
            "_view_module": "@jupyter-widgets/controls",
            "_view_module_version": "1.5.0",
            "_view_name": "HTMLView",
            "description": "",
            "description_tooltip": null,
            "layout": "IPY_MODEL_220497e0a98a4a8d8ddea29e06db233c",
            "placeholder": "​",
            "style": "IPY_MODEL_610cc38bfba347c892902c5283fc6dc0",
            "value": " 1191/1191 [47:24&lt;00:00,  2.31it/s]"
          }
        },
        "f0585ed4cccd4dc5b087c2ee51171db4": {
          "model_module": "@jupyter-widgets/base",
          "model_name": "LayoutModel",
          "model_module_version": "1.2.0",
          "state": {
            "_model_module": "@jupyter-widgets/base",
            "_model_module_version": "1.2.0",
            "_model_name": "LayoutModel",
            "_view_count": null,
            "_view_module": "@jupyter-widgets/base",
            "_view_module_version": "1.2.0",
            "_view_name": "LayoutView",
            "align_content": null,
            "align_items": null,
            "align_self": null,
            "border": null,
            "bottom": null,
            "display": null,
            "flex": null,
            "flex_flow": null,
            "grid_area": null,
            "grid_auto_columns": null,
            "grid_auto_flow": null,
            "grid_auto_rows": null,
            "grid_column": null,
            "grid_gap": null,
            "grid_row": null,
            "grid_template_areas": null,
            "grid_template_columns": null,
            "grid_template_rows": null,
            "height": null,
            "justify_content": null,
            "justify_items": null,
            "left": null,
            "margin": null,
            "max_height": null,
            "max_width": null,
            "min_height": null,
            "min_width": null,
            "object_fit": null,
            "object_position": null,
            "order": null,
            "overflow": null,
            "overflow_x": null,
            "overflow_y": null,
            "padding": null,
            "right": null,
            "top": null,
            "visibility": null,
            "width": null
          }
        },
        "547cbd808a854e0099d8e132f816f135": {
          "model_module": "@jupyter-widgets/base",
          "model_name": "LayoutModel",
          "model_module_version": "1.2.0",
          "state": {
            "_model_module": "@jupyter-widgets/base",
            "_model_module_version": "1.2.0",
            "_model_name": "LayoutModel",
            "_view_count": null,
            "_view_module": "@jupyter-widgets/base",
            "_view_module_version": "1.2.0",
            "_view_name": "LayoutView",
            "align_content": null,
            "align_items": null,
            "align_self": null,
            "border": null,
            "bottom": null,
            "display": null,
            "flex": null,
            "flex_flow": null,
            "grid_area": null,
            "grid_auto_columns": null,
            "grid_auto_flow": null,
            "grid_auto_rows": null,
            "grid_column": null,
            "grid_gap": null,
            "grid_row": null,
            "grid_template_areas": null,
            "grid_template_columns": null,
            "grid_template_rows": null,
            "height": null,
            "justify_content": null,
            "justify_items": null,
            "left": null,
            "margin": null,
            "max_height": null,
            "max_width": null,
            "min_height": null,
            "min_width": null,
            "object_fit": null,
            "object_position": null,
            "order": null,
            "overflow": null,
            "overflow_x": null,
            "overflow_y": null,
            "padding": null,
            "right": null,
            "top": null,
            "visibility": null,
            "width": null
          }
        },
        "c32b31cd91674b528e796e985d2b159e": {
          "model_module": "@jupyter-widgets/controls",
          "model_name": "DescriptionStyleModel",
          "model_module_version": "1.5.0",
          "state": {
            "_model_module": "@jupyter-widgets/controls",
            "_model_module_version": "1.5.0",
            "_model_name": "DescriptionStyleModel",
            "_view_count": null,
            "_view_module": "@jupyter-widgets/base",
            "_view_module_version": "1.2.0",
            "_view_name": "StyleView",
            "description_width": ""
          }
        },
        "c6ca75555a0b4df1b1dc4f3a51a8d1aa": {
          "model_module": "@jupyter-widgets/base",
          "model_name": "LayoutModel",
          "model_module_version": "1.2.0",
          "state": {
            "_model_module": "@jupyter-widgets/base",
            "_model_module_version": "1.2.0",
            "_model_name": "LayoutModel",
            "_view_count": null,
            "_view_module": "@jupyter-widgets/base",
            "_view_module_version": "1.2.0",
            "_view_name": "LayoutView",
            "align_content": null,
            "align_items": null,
            "align_self": null,
            "border": null,
            "bottom": null,
            "display": null,
            "flex": null,
            "flex_flow": null,
            "grid_area": null,
            "grid_auto_columns": null,
            "grid_auto_flow": null,
            "grid_auto_rows": null,
            "grid_column": null,
            "grid_gap": null,
            "grid_row": null,
            "grid_template_areas": null,
            "grid_template_columns": null,
            "grid_template_rows": null,
            "height": null,
            "justify_content": null,
            "justify_items": null,
            "left": null,
            "margin": null,
            "max_height": null,
            "max_width": null,
            "min_height": null,
            "min_width": null,
            "object_fit": null,
            "object_position": null,
            "order": null,
            "overflow": null,
            "overflow_x": null,
            "overflow_y": null,
            "padding": null,
            "right": null,
            "top": null,
            "visibility": null,
            "width": null
          }
        },
        "76e1ed16d5044848975da1457b071902": {
          "model_module": "@jupyter-widgets/controls",
          "model_name": "ProgressStyleModel",
          "model_module_version": "1.5.0",
          "state": {
            "_model_module": "@jupyter-widgets/controls",
            "_model_module_version": "1.5.0",
            "_model_name": "ProgressStyleModel",
            "_view_count": null,
            "_view_module": "@jupyter-widgets/base",
            "_view_module_version": "1.2.0",
            "_view_name": "StyleView",
            "bar_color": null,
            "description_width": ""
          }
        },
        "220497e0a98a4a8d8ddea29e06db233c": {
          "model_module": "@jupyter-widgets/base",
          "model_name": "LayoutModel",
          "model_module_version": "1.2.0",
          "state": {
            "_model_module": "@jupyter-widgets/base",
            "_model_module_version": "1.2.0",
            "_model_name": "LayoutModel",
            "_view_count": null,
            "_view_module": "@jupyter-widgets/base",
            "_view_module_version": "1.2.0",
            "_view_name": "LayoutView",
            "align_content": null,
            "align_items": null,
            "align_self": null,
            "border": null,
            "bottom": null,
            "display": null,
            "flex": null,
            "flex_flow": null,
            "grid_area": null,
            "grid_auto_columns": null,
            "grid_auto_flow": null,
            "grid_auto_rows": null,
            "grid_column": null,
            "grid_gap": null,
            "grid_row": null,
            "grid_template_areas": null,
            "grid_template_columns": null,
            "grid_template_rows": null,
            "height": null,
            "justify_content": null,
            "justify_items": null,
            "left": null,
            "margin": null,
            "max_height": null,
            "max_width": null,
            "min_height": null,
            "min_width": null,
            "object_fit": null,
            "object_position": null,
            "order": null,
            "overflow": null,
            "overflow_x": null,
            "overflow_y": null,
            "padding": null,
            "right": null,
            "top": null,
            "visibility": null,
            "width": null
          }
        },
        "610cc38bfba347c892902c5283fc6dc0": {
          "model_module": "@jupyter-widgets/controls",
          "model_name": "DescriptionStyleModel",
          "model_module_version": "1.5.0",
          "state": {
            "_model_module": "@jupyter-widgets/controls",
            "_model_module_version": "1.5.0",
            "_model_name": "DescriptionStyleModel",
            "_view_count": null,
            "_view_module": "@jupyter-widgets/base",
            "_view_module_version": "1.2.0",
            "_view_name": "StyleView",
            "description_width": ""
          }
        }
      }
    }
  },
  "nbformat": 4,
  "nbformat_minor": 0
}